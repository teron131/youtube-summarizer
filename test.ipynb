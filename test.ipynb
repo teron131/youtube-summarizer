{
 "cells": [
  {
   "cell_type": "code",
   "execution_count": 2,
   "id": "d8dce6ea",
   "metadata": {},
   "outputs": [
    {
     "data": {
      "text/html": [
       "<pre style=\"white-space:pre;overflow-x:auto;line-height:normal;font-family:Menlo,'DejaVu Sans Mono',consolas,'Courier New',monospace\"><span style=\"font-weight: bold\">{</span>\n",
       "  <span style=\"color: #008000; text-decoration-color: #008000\">\"title\"</span>: \"美股24小時交易：如何</pre>\n"
      ],
      "text/plain": [
       "\u001b[1m{\u001b[0m\n",
       "  \u001b[32m\"title\"\u001b[0m: \"美股24小時交易：如何"
      ]
     },
     "metadata": {},
     "output_type": "display_data"
    },
    {
     "data": {
      "text/html": [
       "<pre style=\"white-space:pre;overflow-x:auto;line-height:normal;font-family:Menlo,'DejaVu Sans Mono',consolas,'Courier New',monospace\">操作、優缺點及應用策略\",\n",
       "  <span style=\"color: #008000; text-decoration-color: #008000\">\"chapters\"</span>: <span style=\"font-weight: bold\">[</span>\n",
       "    <span style=\"font-weight: bold\">{</span>\n",
       "      <span style=\"color: #008000; text-decoration-color: #008000\">\"header\"</span>: \"</pre>\n"
      ],
      "text/plain": [
       "操作、優缺點及應用策略\",\n",
       "  \u001b[32m\"chapters\"\u001b[0m: \u001b[1m[\u001b[0m\n",
       "    \u001b[1m{\u001b[0m\n",
       "      \u001b[32m\"header\"\u001b[0m: \""
      ]
     },
     "metadata": {},
     "output_type": "display_data"
    },
    {
     "data": {
      "text/html": [
       "<pre style=\"white-space:pre;overflow-x:auto;line-height:normal;font-family:Menlo,'DejaVu Sans Mono',consolas,'Courier New',monospace\">什麼是美股24小時交易？\",\n",
       "      <span style=\"color: #008000; text-decoration-color: #008000\">\"key_points\"</span>: <span style=\"font-weight: bold\">[</span>\n",
       "        \"美股可透過電子</pre>\n"
      ],
      "text/plain": [
       "什麼是美股24小時交易？\",\n",
       "      \u001b[32m\"key_points\"\u001b[0m: \u001b[1m[\u001b[0m\n",
       "        \"美股可透過電子"
      ]
     },
     "metadata": {},
     "output_type": "display_data"
    },
    {
     "data": {
      "text/html": [
       "<pre style=\"white-space:pre;overflow-x:auto;line-height:normal;font-family:Menlo,'DejaVu Sans Mono',consolas,'Courier New',monospace\">通訊網絡（ECN）平台實現24小時交易。\",\n",
       "        \"除了傳統交易所，還有ARCA、EDGX</pre>\n"
      ],
      "text/plain": [
       "通訊網絡（ECN）平台實現24小時交易。\",\n",
       "        \"除了傳統交易所，還有ARCA、EDGX"
      ]
     },
     "metadata": {},
     "output_type": "display_data"
    },
    {
     "data": {
      "text/html": [
       "<pre style=\"white-space:pre;overflow-x:auto;line-height:normal;font-family:Menlo,'DejaVu Sans Mono',consolas,'Courier New',monospace\">、Blue Ocean等ECN平台提供延長交易時段。\",\n",
       "        \"ECN平台與傳統交易所交易的</pre>\n"
      ],
      "text/plain": [
       "、Blue Ocean等ECN平台提供延長交易時段。\",\n",
       "        \"ECN平台與傳統交易所交易的"
      ]
     },
     "metadata": {},
     "output_type": "display_data"
    },
    {
     "data": {
      "text/html": [
       "<pre style=\"white-space:pre;overflow-x:auto;line-height:normal;font-family:Menlo,'DejaVu Sans Mono',consolas,'Courier New',monospace\">股票完全相同，只是交易渠道不同。\"\n",
       "      <span style=\"font-weight: bold\">]</span>,\n",
       "      <span style=\"color: #008000; text-decoration-color: #008000\">\"summary\"</span>: \"影片介紹了美股現在可以2</pre>\n"
      ],
      "text/plain": [
       "股票完全相同，只是交易渠道不同。\"\n",
       "      \u001b[1m]\u001b[0m,\n",
       "      \u001b[32m\"summary\"\u001b[0m: \"影片介紹了美股現在可以2"
      ]
     },
     "metadata": {},
     "output_type": "display_data"
    },
    {
     "data": {
      "text/html": [
       "<pre style=\"white-space:pre;overflow-x:auto;line-height:normal;font-family:Menlo,'DejaVu Sans Mono',consolas,'Courier New',monospace\">4小時交易，解決了亞洲投資者需要熬夜的問題。這主要是通過傳統交易所（如紐約證</pre>\n"
      ],
      "text/plain": [
       "4小時交易，解決了亞洲投資者需要熬夜的問題。這主要是通過傳統交易所（如紐約證"
      ]
     },
     "metadata": {},
     "output_type": "display_data"
    },
    {
     "data": {
      "text/html": [
       "<pre style=\"white-space:pre;overflow-x:auto;line-height:normal;font-family:Menlo,'DejaVu Sans Mono',consolas,'Courier New',monospace\">券交易所、納斯達克）之外的電子通訊網絡（ECN）平台實現的。這些EC</pre>\n"
      ],
      "text/plain": [
       "券交易所、納斯達克）之外的電子通訊網絡（ECN）平台實現的。這些EC"
      ]
     },
     "metadata": {},
     "output_type": "display_data"
    },
    {
     "data": {
      "text/html": [
       "<pre style=\"white-space:pre;overflow-x:auto;line-height:normal;font-family:Menlo,'DejaVu Sans Mono',consolas,'Courier New',monospace\">N平台，如ARCA、EDGX和Blue Ocean，提供了盤前、盤後甚至通宵的交易時段，</pre>\n"
      ],
      "text/plain": [
       "N平台，如ARCA、EDGX和Blue Ocean，提供了盤前、盤後甚至通宵的交易時段，"
      ]
     },
     "metadata": {},
     "output_type": "display_data"
    },
    {
     "data": {
      "text/html": [
       "<pre style=\"white-space:pre;overflow-x:auto;line-height:normal;font-family:Menlo,'DejaVu Sans Mono',consolas,'Courier New',monospace\">讓交易時間得以延長。這些平台與傳統交易所提供的股票是完全相同的，只是交易渠道和時間不同。\"</pre>\n"
      ],
      "text/plain": [
       "讓交易時間得以延長。這些平台與傳統交易所提供的股票是完全相同的，只是交易渠道和時間不同。\""
      ]
     },
     "metadata": {},
     "output_type": "display_data"
    },
    {
     "data": {
      "text/html": [
       "<pre style=\"white-space:pre;overflow-x:auto;line-height:normal;font-family:Menlo,'DejaVu Sans Mono',consolas,'Courier New',monospace\">\n",
       "    <span style=\"font-weight: bold\">}</span>,\n",
       "    <span style=\"font-weight: bold\">{</span>\n",
       "      <span style=\"color: #008000; text-decoration-color: #008000\">\"header\"</span>: <span style=\"color: #008000; text-decoration-color: #008000\">\"24小時美股交易實況操作\"</span>,\n",
       "      </pre>\n"
      ],
      "text/plain": [
       "\n",
       "    \u001b[1m}\u001b[0m,\n",
       "    \u001b[1m{\u001b[0m\n",
       "      \u001b[32m\"header\"\u001b[0m: \u001b[32m\"24小時美股交易實況操作\"\u001b[0m,\n",
       "      "
      ]
     },
     "metadata": {},
     "output_type": "display_data"
    },
    {
     "data": {
      "text/html": [
       "<pre style=\"white-space:pre;overflow-x:auto;line-height:normal;font-family:Menlo,'DejaVu Sans Mono',consolas,'Courier New',monospace\"><span style=\"color: #008000; text-decoration-color: #008000\">\"key_points\"</span>: <span style=\"font-weight: bold\">[</span>\n",
       "        \"使用IB平台時，需在「Time In Force <span style=\"font-weight: bold\">(</span>TIF<span style=\"font-weight: bold\">)</span>」</pre>\n"
      ],
      "text/plain": [
       "\u001b[32m\"key_points\"\u001b[0m: \u001b[1m[\u001b[0m\n",
       "        \"使用IB平台時，需在「Time In Force \u001b[1m(\u001b[0mTIF\u001b[1m)\u001b[0m」"
      ]
     },
     "metadata": {},
     "output_type": "display_data"
    },
    {
     "data": {
      "text/html": [
       "<pre style=\"white-space:pre;overflow-x:auto;line-height:normal;font-family:Menlo,'DejaVu Sans Mono',consolas,'Courier New',monospace\">中選擇「Overnight Trading」。\",\n",
       "        <span style=\"color: #008000; text-decoration-color: #008000\">\"影片以買入特斯拉股票為例進行操作示範。\"</span>,\n",
       "        <span style=\"color: #008000; text-decoration-color: #008000\">\"下單前務必覆核訂單總金額，防止出錯。\"</span>,\n",
       "        \"通宵交易時段</pre>\n"
      ],
      "text/plain": [
       "中選擇「Overnight Trading」。\",\n",
       "        \u001b[32m\"影片以買入特斯拉股票為例進行操作示範。\"\u001b[0m,\n",
       "        \u001b[32m\"下單前務必覆核訂單總金額，防止出錯。\"\u001b[0m,\n",
       "        \"通宵交易時段"
      ]
     },
     "metadata": {},
     "output_type": "display_data"
    },
    {
     "data": {
      "text/html": [
       "<pre style=\"white-space:pre;overflow-x:auto;line-height:normal;font-family:Menlo,'DejaVu Sans Mono',consolas,'Courier New',monospace\">只接受限價單（Limit Order）。\"\n",
       "      <span style=\"font-weight: bold\">]</span>,\n",
       "      <span style=\"color: #008000; text-decoration-color: #008000\">\"summary\"</span>: \"影片以Interactive Brokers <span style=\"font-weight: bold\">(</span>IB<span style=\"font-weight: bold\">)</span></pre>\n"
      ],
      "text/plain": [
       "只接受限價單（Limit Order）。\"\n",
       "      \u001b[1m]\u001b[0m,\n",
       "      \u001b[32m\"summary\"\u001b[0m: \"影片以Interactive Brokers \u001b[1m(\u001b[0mIB\u001b[1m)\u001b[0m"
      ]
     },
     "metadata": {},
     "output_type": "display_data"
    },
    {
     "data": {
      "text/html": [
       "<pre style=\"white-space:pre;overflow-x:auto;line-height:normal;font-family:Menlo,'DejaVu Sans Mono',consolas,'Courier New',monospace\"> 的交易平台為例，逐步示範如何在香港的日間時段（對應美國的夜間）買賣美股</pre>\n"
      ],
      "text/plain": [
       " 的交易平台為例，逐步示範如何在香港的日間時段（對應美國的夜間）買賣美股"
      ]
     },
     "metadata": {},
     "output_type": "display_data"
    },
    {
     "data": {
      "text/html": [
       "<pre style=\"white-space:pre;overflow-x:auto;line-height:normal;font-family:Menlo,'DejaVu Sans Mono',consolas,'Courier New',monospace\">。操作關鍵在於下單時，在「Time In Force <span style=\"font-weight: bold\">(</span>TIF<span style=\"font-weight: bold\">)</span>」選項中選擇「Overnight Trading」。</pre>\n"
      ],
      "text/plain": [
       "。操作關鍵在於下單時，在「Time In Force \u001b[1m(\u001b[0mTIF\u001b[1m)\u001b[0m」選項中選擇「Overnight Trading」。"
      ]
     },
     "metadata": {},
     "output_type": "display_data"
    },
    {
     "data": {
      "text/html": [
       "<pre style=\"white-space:pre;overflow-x:auto;line-height:normal;font-family:Menlo,'DejaVu Sans Mono',consolas,'Courier New',monospace\">影片展示了如何為特斯拉（TSLA）股票下達一個通宵交易的買單，並強調了</pre>\n"
      ],
      "text/plain": [
       "影片展示了如何為特斯拉（TSLA）股票下達一個通宵交易的買單，並強調了"
      ]
     },
     "metadata": {},
     "output_type": "display_data"
    },
    {
     "data": {
      "text/html": [
       "<pre style=\"white-space:pre;overflow-x:auto;line-height:normal;font-family:Menlo,'DejaVu Sans Mono',consolas,'Courier New',monospace\">檢查訂單總金額（Amount）的重要性，以避免下錯單。此外，通宵交易目前只接受限價</pre>\n"
      ],
      "text/plain": [
       "檢查訂單總金額（Amount）的重要性，以避免下錯單。此外，通宵交易目前只接受限價"
      ]
     },
     "metadata": {},
     "output_type": "display_data"
    },
    {
     "data": {
      "text/html": [
       "<pre style=\"white-space:pre;overflow-x:auto;line-height:normal;font-family:Menlo,'DejaVu Sans Mono',consolas,'Courier New',monospace\">單（Limit Order）。\"\n",
       "    <span style=\"font-weight: bold\">}</span>,\n",
       "    <span style=\"font-weight: bold\">{</span>\n",
       "      <span style=\"color: #008000; text-decoration-color: #008000\">\"header\"</span>: \"24小時交易的優</pre>\n"
      ],
      "text/plain": [
       "單（Limit Order）。\"\n",
       "    \u001b[1m}\u001b[0m,\n",
       "    \u001b[1m{\u001b[0m\n",
       "      \u001b[32m\"header\"\u001b[0m: \"24小時交易的優"
      ]
     },
     "metadata": {},
     "output_type": "display_data"
    },
    {
     "data": {
      "text/html": [
       "<pre style=\"white-space:pre;overflow-x:auto;line-height:normal;font-family:Menlo,'DejaVu Sans Mono',consolas,'Courier New',monospace\">點與缺點\",\n",
       "      <span style=\"color: #008000; text-decoration-color: #008000\">\"key_points\"</span>: <span style=\"font-weight: bold\">[</span>\n",
       "        \"優點：方便，可在亞洲時</pre>\n"
      ],
      "text/plain": [
       "點與缺點\",\n",
       "      \u001b[32m\"key_points\"\u001b[0m: \u001b[1m[\u001b[0m\n",
       "        \"優點：方便，可在亞洲時"
      ]
     },
     "metadata": {},
     "output_type": "display_data"
    },
    {
     "data": {
      "text/html": [
       "<pre style=\"white-space:pre;overflow-x:auto;line-height:normal;font-family:Menlo,'DejaVu Sans Mono',consolas,'Courier New',monospace\">區對市場新聞作出即時反應。\",\n",
       "        \"缺點：流通量低，買賣差價闊</pre>\n"
      ],
      "text/plain": [
       "區對市場新聞作出即時反應。\",\n",
       "        \"缺點：流通量低，買賣差價闊"
      ]
     },
     "metadata": {},
     "output_type": "display_data"
    },
    {
     "data": {
      "text/html": [
       "<pre style=\"white-space:pre;overflow-x:auto;line-height:normal;font-family:Menlo,'DejaVu Sans Mono',consolas,'Courier New',monospace\">。\",\n",
       "        \"缺點：訂單稀疏，大額交易容易造成滑價（Trade Slippage）。</pre>\n"
      ],
      "text/plain": [
       "。\",\n",
       "        \"缺點：訂單稀疏，大額交易容易造成滑價（Trade Slippage）。"
      ]
     },
     "metadata": {},
     "output_type": "display_data"
    },
    {
     "data": {
      "text/html": [
       "<pre style=\"white-space:pre;overflow-x:auto;line-height:normal;font-family:Menlo,'DejaVu Sans Mono',consolas,'Courier New',monospace\">\"\n",
       "      <span style=\"font-weight: bold\">]</span>,\n",
       "      <span style=\"color: #008000; text-decoration-color: #008000\">\"summary\"</span>: \"24小時交易的最大好處是方便，尤其對於亞洲投資者，</pre>\n"
      ],
      "text/plain": [
       "\"\n",
       "      \u001b[1m]\u001b[0m,\n",
       "      \u001b[32m\"summary\"\u001b[0m: \"24小時交易的最大好處是方便，尤其對於亞洲投資者，"
      ]
     },
     "metadata": {},
     "output_type": "display_data"
    },
    {
     "data": {
      "text/html": [
       "<pre style=\"white-space:pre;overflow-x:auto;line-height:normal;font-family:Menlo,'DejaVu Sans Mono',consolas,'Courier New',monospace\">可以在白天對突發事件作出反應，無需熬夜。然而，缺點也很明顯，主要是在非正常</pre>\n"
      ],
      "text/plain": [
       "可以在白天對突發事件作出反應，無需熬夜。然而，缺點也很明顯，主要是在非正常"
      ]
     },
     "metadata": {},
     "output_type": "display_data"
    },
    {
     "data": {
      "text/html": [
       "<pre style=\"white-space:pre;overflow-x:auto;line-height:normal;font-family:Menlo,'DejaVu Sans Mono',consolas,'Courier New',monospace\">交易時段（特別是通宵時段），市場流通量低，導致掛盤稀疏、買賣</pre>\n"
      ],
      "text/plain": [
       "交易時段（特別是通宵時段），市場流通量低，導致掛盤稀疏、買賣"
      ]
     },
     "metadata": {},
     "output_type": "display_data"
    },
    {
     "data": {
      "text/html": [
       "<pre style=\"white-space:pre;overflow-x:auto;line-height:normal;font-family:Menlo,'DejaVu Sans Mono',consolas,'Courier New',monospace\">差價擴大，大額交易容易影響價格並造成滑價（Slippage）風險。\"\n",
       "    <span style=\"font-weight: bold\">}</span>,\n",
       "    <span style=\"font-weight: bold\">{</span>\n",
       "      <span style=\"color: #008000; text-decoration-color: #008000\">\"header\"</span>: <span style=\"color: #008000; text-decoration-color: #008000\">\"如何應用24小時交易策略\"</span>,\n",
       "      <span style=\"color: #008000; text-decoration-color: #008000\">\"key_points\"</span>: <span style=\"font-weight: bold\">[</span></pre>\n"
      ],
      "text/plain": [
       "差價擴大，大額交易容易影響價格並造成滑價（Slippage）風險。\"\n",
       "    \u001b[1m}\u001b[0m,\n",
       "    \u001b[1m{\u001b[0m\n",
       "      \u001b[32m\"header\"\u001b[0m: \u001b[32m\"如何應用24小時交易策略\"\u001b[0m,\n",
       "      \u001b[32m\"key_points\"\u001b[0m: \u001b[1m[\u001b[0m"
      ]
     },
     "metadata": {},
     "output_type": "display_data"
    },
    {
     "data": {
      "text/html": [
       "<pre style=\"white-space:pre;overflow-x:auto;line-height:normal;font-family:Menlo,'DejaVu Sans Mono',consolas,'Courier New',monospace\">\n",
       "        <span style=\"color: #008000; text-decoration-color: #008000\">\"真正的價格發現（Price Discovery）發生在正常交易時段。\"</span>,\n",
       "        \"不應根據通</pre>\n"
      ],
      "text/plain": [
       "\n",
       "        \u001b[32m\"真正的價格發現（Price Discovery）發生在正常交易時段。\"\u001b[0m,\n",
       "        \"不應根據通"
      ]
     },
     "metadata": {},
     "output_type": "display_data"
    },
    {
     "data": {
      "text/html": [
       "<pre style=\"white-space:pre;overflow-x:auto;line-height:normal;font-family:Menlo,'DejaVu Sans Mono',consolas,'Courier New',monospace\">宵時段的價格波動來判斷市場趨勢或做交易決策。\",\n",
       "        \"可利用通宵交易時</pre>\n"
      ],
      "text/plain": [
       "宵時段的價格波動來判斷市場趨勢或做交易決策。\",\n",
       "        \"可利用通宵交易時"
      ]
     },
     "metadata": {},
     "output_type": "display_data"
    },
    {
     "data": {
      "text/html": [
       "<pre style=\"white-space:pre;overflow-x:auto;line-height:normal;font-family:Menlo,'DejaVu Sans Mono',consolas,'Courier New',monospace\">段執行預先設定好的目標價位訂單。\"\n",
       "      <span style=\"font-weight: bold\">]</span>,\n",
       "      <span style=\"color: #008000; text-decoration-color: #008000\">\"summary\"</span>: \"講者分享</pre>\n"
      ],
      "text/plain": [
       "段執行預先設定好的目標價位訂單。\"\n",
       "      \u001b[1m]\u001b[0m,\n",
       "      \u001b[32m\"summary\"\u001b[0m: \"講者分享"
      ]
     },
     "metadata": {},
     "output_type": "display_data"
    },
    {
     "data": {
      "text/html": [
       "<pre style=\"white-space:pre;overflow-x:auto;line-height:normal;font-family:Menlo,'DejaVu Sans Mono',consolas,'Courier New',monospace\">了他的個人策略。他認為真正的價格發現（Price Discovery）發生在交易量最大的正常交易時段（美國</pre>\n"
      ],
      "text/plain": [
       "了他的個人策略。他認為真正的價格發現（Price Discovery）發生在交易量最大的正常交易時段（美國"
      ]
     },
     "metadata": {},
     "output_type": "display_data"
    },
    {
     "data": {
      "text/html": [
       "<pre style=\"white-space:pre;overflow-x:auto;line-height:normal;font-family:Menlo,'DejaVu Sans Mono',consolas,'Courier New',monospace\">白天）。因此，他不會根據通宵時段的價格波動來做新的交易決策。相反，他</pre>\n"
      ],
      "text/plain": [
       "白天）。因此，他不會根據通宵時段的價格波動來做新的交易決策。相反，他"
      ]
     },
     "metadata": {},
     "output_type": "display_data"
    },
    {
     "data": {
      "text/html": [
       "<pre style=\"white-space:pre;overflow-x:auto;line-height:normal;font-family:Menlo,'DejaVu Sans Mono',consolas,'Courier New',monospace\">會利用這個時段來執行預先設定好的目標價位訂單，例如當股價達到某個</pre>\n"
      ],
      "text/plain": [
       "會利用這個時段來執行預先設定好的目標價位訂單，例如當股價達到某個"
      ]
     },
     "metadata": {},
     "output_type": "display_data"
    },
    {
     "data": {
      "text/html": [
       "<pre style=\"white-space:pre;overflow-x:auto;line-height:normal;font-family:Menlo,'DejaVu Sans Mono',consolas,'Courier New',monospace\">預設的賣出價時，就可以掛單賣出。他用街市買魚作比喻，日間</pre>\n"
      ],
      "text/plain": [
       "預設的賣出價時，就可以掛單賣出。他用街市買魚作比喻，日間"
      ]
     },
     "metadata": {},
     "output_type": "display_data"
    },
    {
     "data": {
      "text/html": [
       "<pre style=\"white-space:pre;overflow-x:auto;line-height:normal;font-family:Menlo,'DejaVu Sans Mono',consolas,'Courier New',monospace\">的價格才反映真實的供需，深夜的零星交易價格不具代表性。\"\n",
       "    <span style=\"font-weight: bold\">}</span>\n",
       "  <span style=\"font-weight: bold\">]</span>,</pre>\n"
      ],
      "text/plain": [
       "的價格才反映真實的供需，深夜的零星交易價格不具代表性。\"\n",
       "    \u001b[1m}\u001b[0m\n",
       "  \u001b[1m]\u001b[0m,"
      ]
     },
     "metadata": {},
     "output_type": "display_data"
    },
    {
     "data": {
      "text/html": [
       "<pre style=\"white-space:pre;overflow-x:auto;line-height:normal;font-family:Menlo,'DejaVu Sans Mono',consolas,'Courier New',monospace\">\n",
       "  <span style=\"color: #008000; text-decoration-color: #008000\">\"key_facts\"</span>: <span style=\"font-weight: bold\">[</span>\n",
       "    <span style=\"color: #008000; text-decoration-color: #008000\">\"美股可透過ECN平台實現24小時交易。\"</span>,</pre>\n"
      ],
      "text/plain": [
       "\n",
       "  \u001b[32m\"key_facts\"\u001b[0m: \u001b[1m[\u001b[0m\n",
       "    \u001b[32m\"美股可透過ECN平台實現24小時交易。\"\u001b[0m,"
      ]
     },
     "metadata": {},
     "output_type": "display_data"
    },
    {
     "data": {
      "text/html": [
       "<pre style=\"white-space:pre;overflow-x:auto;line-height:normal;font-family:Menlo,'DejaVu Sans Mono',consolas,'Courier New',monospace\">\n",
       "    \"Blue Ocean ATS平台提供美國東岸時間晚上8點至凌晨4點的交易，對應香港夏</pre>\n"
      ],
      "text/plain": [
       "\n",
       "    \"Blue Ocean ATS平台提供美國東岸時間晚上8點至凌晨4點的交易，對應香港夏"
      ]
     },
     "metadata": {},
     "output_type": "display_data"
    },
    {
     "data": {
      "text/html": [
       "<pre style=\"white-space:pre;overflow-x:auto;line-height:normal;font-family:Menlo,'DejaVu Sans Mono',consolas,'Courier New',monospace\">令時間早上8點至下午4點。\",\n",
       "    \"通宵交易時段（Overnight Trading）的流通量極</pre>\n"
      ],
      "text/plain": [
       "令時間早上8點至下午4點。\",\n",
       "    \"通宵交易時段（Overnight Trading）的流通量極"
      ]
     },
     "metadata": {},
     "output_type": "display_data"
    },
    {
     "data": {
      "text/html": [
       "<pre style=\"white-space:pre;overflow-x:auto;line-height:normal;font-family:Menlo,'DejaVu Sans Mono',consolas,'Courier New',monospace\">低，僅佔Interactive Brokers總成交量的2%。\",\n",
       "    \"盤前盤後（Extended Hours）的</pre>\n"
      ],
      "text/plain": [
       "低，僅佔Interactive Brokers總成交量的2%。\",\n",
       "    \"盤前盤後（Extended Hours）的"
      ]
     },
     "metadata": {},
     "output_type": "display_data"
    },
    {
     "data": {
      "text/html": [
       "<pre style=\"white-space:pre;overflow-x:auto;line-height:normal;font-family:Menlo,'DejaVu Sans Mono',consolas,'Courier New',monospace\">成交量約佔總成交量的10%。\",\n",
       "    \"通宵交易時段只接受限價單（Limit</pre>\n"
      ],
      "text/plain": [
       "成交量約佔總成交量的10%。\",\n",
       "    \"通宵交易時段只接受限價單（Limit"
      ]
     },
     "metadata": {},
     "output_type": "display_data"
    },
    {
     "data": {
      "text/html": [
       "<pre style=\"white-space:pre;overflow-x:auto;line-height:normal;font-family:Menlo,'DejaVu Sans Mono',consolas,'Courier New',monospace\"> Order），不接受市價單（Market Order）。\"\n",
       "  <span style=\"font-weight: bold\">]</span>,\n",
       "  <span style=\"color: #008000; text-decoration-color: #008000\">\"takeaways\"</span>: <span style=\"font-weight: bold\">[</span>\n",
       "    </pre>\n"
      ],
      "text/plain": [
       " Order），不接受市價單（Market Order）。\"\n",
       "  \u001b[1m]\u001b[0m,\n",
       "  \u001b[32m\"takeaways\"\u001b[0m: \u001b[1m[\u001b[0m\n",
       "    "
      ]
     },
     "metadata": {},
     "output_type": "display_data"
    },
    {
     "data": {
      "text/html": [
       "<pre style=\"white-space:pre;overflow-x:auto;line-height:normal;font-family:Menlo,'DejaVu Sans Mono',consolas,'Courier New',monospace\"><span style=\"color: #008000; text-decoration-color: #008000\">\"投資者現在可以在香港的辦公時間交易美股，無需熬夜。\"</span>,\n",
       "    \"進行非正常時段交易</pre>\n"
      ],
      "text/plain": [
       "\u001b[32m\"投資者現在可以在香港的辦公時間交易美股，無需熬夜。\"\u001b[0m,\n",
       "    \"進行非正常時段交易"
      ]
     },
     "metadata": {},
     "output_type": "display_data"
    },
    {
     "data": {
      "text/html": [
       "<pre style=\"white-space:pre;overflow-x:auto;line-height:normal;font-family:Menlo,'DejaVu Sans Mono',consolas,'Courier New',monospace\">時，必須注意流通性低、差價闊和滑價的風險。\",\n",
       "    \"利用通宵交易</pre>\n"
      ],
      "text/plain": [
       "時，必須注意流通性低、差價闊和滑價的風險。\",\n",
       "    \"利用通宵交易"
      ]
     },
     "metadata": {},
     "output_type": "display_data"
    },
    {
     "data": {
      "text/html": [
       "<pre style=\"white-space:pre;overflow-x:auto;line-height:normal;font-family:Menlo,'DejaVu Sans Mono',consolas,'Courier New',monospace\">時段執行預設的目標價訂單是較佳的應用方式，而非根據該時段的價格波動進行</pre>\n"
      ],
      "text/plain": [
       "時段執行預設的目標價訂單是較佳的應用方式，而非根據該時段的價格波動進行"
      ]
     },
     "metadata": {},
     "output_type": "display_data"
    },
    {
     "data": {
      "text/html": [
       "<pre style=\"white-space:pre;overflow-x:auto;line-height:normal;font-family:Menlo,'DejaVu Sans Mono',consolas,'Courier New',monospace\">分析決策。\",\n",
       "    <span style=\"color: #008000; text-decoration-color: #008000\">\"由於流通量低，應避免在非正常時段進行大額交易。\"</span></pre>\n"
      ],
      "text/plain": [
       "分析決策。\",\n",
       "    \u001b[32m\"由於流通量低，應避免在非正常時段進行大額交易。\"\u001b[0m"
      ]
     },
     "metadata": {},
     "output_type": "display_data"
    },
    {
     "data": {
      "text/html": [
       "<pre style=\"white-space:pre;overflow-x:auto;line-height:normal;font-family:Menlo,'DejaVu Sans Mono',consolas,'Courier New',monospace\">\n",
       "  <span style=\"font-weight: bold\">]</span>,\n",
       "  <span style=\"color: #008000; text-decoration-color: #008000\">\"overall_summary\"</span>: \"這部影片詳細介紹了新興的美股24小時</pre>\n"
      ],
      "text/plain": [
       "\n",
       "  \u001b[1m]\u001b[0m,\n",
       "  \u001b[32m\"overall_summary\"\u001b[0m: \"這部影片詳細介紹了新興的美股24小時"
      ]
     },
     "metadata": {},
     "output_type": "display_data"
    },
    {
     "data": {
      "text/html": [
       "<pre style=\"white-space:pre;overflow-x:auto;line-height:normal;font-family:Menlo,'DejaVu Sans Mono',consolas,'Courier New',monospace\">交易機制。它解釋了這是通過傳統交易所之外的ECN平台（如Blue Ocean）實現的，讓亞洲投資者</pre>\n"
      ],
      "text/plain": [
       "交易機制。它解釋了這是通過傳統交易所之外的ECN平台（如Blue Ocean）實現的，讓亞洲投資者"
      ]
     },
     "metadata": {},
     "output_type": "display_data"
    },
    {
     "data": {
      "text/html": [
       "<pre style=\"white-space:pre;overflow-x:auto;line-height:normal;font-family:Menlo,'DejaVu Sans Mono',consolas,'Courier New',monospace\">可以在白天交易美股。影片提供了在Interactive Brokers平台上的詳細操作演示，並深入分析了24小時交易的利</pre>\n"
      ],
      "text/plain": [
       "可以在白天交易美股。影片提供了在Interactive Brokers平台上的詳細操作演示，並深入分析了24小時交易的利"
      ]
     },
     "metadata": {},
     "output_type": "display_data"
    },
    {
     "data": {
      "text/html": [
       "<pre style=\"white-space:pre;overflow-x:auto;line-height:normal;font-family:Menlo,'DejaVu Sans Mono',consolas,'Courier New',monospace\">弊。其主要優點是便利性，但缺點是流通量低和交易成本可能增加（差價擴大</pre>\n"
      ],
      "text/plain": [
       "弊。其主要優點是便利性，但缺點是流通量低和交易成本可能增加（差價擴大"
      ]
     },
     "metadata": {},
     "output_type": "display_data"
    },
    {
     "data": {
      "text/html": [
       "<pre style=\"white-space:pre;overflow-x:auto;line-height:normal;font-family:Menlo,'DejaVu Sans Mono',consolas,'Courier New',monospace\">）。講者建議，投資者應理解真正的價格發現主要發生在正常交易時段，因此通宵交易更</pre>\n"
      ],
      "text/plain": [
       "）。講者建議，投資者應理解真正的價格發現主要發生在正常交易時段，因此通宵交易更"
      ]
     },
     "metadata": {},
     "output_type": "display_data"
    },
    {
     "data": {
      "text/html": [
       "<pre style=\"white-space:pre;overflow-x:auto;line-height:normal;font-family:Menlo,'DejaVu Sans Mono',consolas,'Courier New',monospace\">適合用來執行預先設定好的目標價訂單，而不是用來判斷市場走勢。\"\n",
       "<span style=\"font-weight: bold\">}</span></pre>\n"
      ],
      "text/plain": [
       "適合用來執行預先設定好的目標價訂單，而不是用來判斷市場走勢。\"\n",
       "\u001b[1m}\u001b[0m"
      ]
     },
     "metadata": {},
     "output_type": "display_data"
    },
    {
     "data": {
      "text/html": [
       "<pre style=\"white-space:pre;overflow-x:auto;line-height:normal;font-family:Menlo,'DejaVu Sans Mono',consolas,'Courier New',monospace\"><span style=\"font-weight: bold\">{</span>\n",
       "  <span style=\"color: #008000; text-decoration-color: #008000\">\"title\"</span>: <span style=\"color: #008000; text-decoration-color: #008000\">\"美股24小時交易：如何操作、優缺點及應用策略\"</span>,\n",
       "  <span style=\"color: #008000; text-decoration-color: #008000\">\"chapters\"</span>: <span style=\"font-weight: bold\">[</span>\n",
       "    <span style=\"font-weight: bold\">{</span>\n",
       "      <span style=\"color: #008000; text-decoration-color: #008000\">\"header\"</span>: <span style=\"color: #008000; text-decoration-color: #008000\">\"什麼是美股24小時交易？\"</span>,\n",
       "      <span style=\"color: #008000; text-decoration-color: #008000\">\"key_points\"</span>: <span style=\"font-weight: bold\">[</span>\n",
       "        <span style=\"color: #008000; text-decoration-color: #008000\">\"美股可透過電子通訊網絡（ECN）平台實現24小時交易。\"</span>,\n",
       "        <span style=\"color: #008000; text-decoration-color: #008000\">\"除了傳統交易所，還有ARCA、EDGX、Blue Ocean等ECN平台提供延長交易時段。\"</span>,\n",
       "        <span style=\"color: #008000; text-decoration-color: #008000\">\"ECN平台與傳統交易所交易的股票完全相同，只是交易渠道不同。\"</span>\n",
       "      <span style=\"font-weight: bold\">]</span>,\n",
       "      <span style=\"color: #008000; text-decoration-color: #008000\">\"summary\"</span>: \n",
       "<span style=\"color: #008000; text-decoration-color: #008000\">\"影片介紹了美股現在可以24小時交易，解決了亞洲投資者需要熬夜的問題。這主要是通過傳統交易所（如紐約證券交易所、納斯達</span>\n",
       "<span style=\"color: #008000; text-decoration-color: #008000\">克）之外的電子通訊網絡（ECN）平台實現的。這些ECN平台，如ARCA、EDGX和Blue </span>\n",
       "<span style=\"color: #008000; text-decoration-color: #008000\">Ocean，提供了盤前、盤後甚至通宵的交易時段，讓交易時間得以延長。這些平台與傳統交易所提供的股票是完全相同的，只是交易</span>\n",
       "<span style=\"color: #008000; text-decoration-color: #008000\">渠道和時間不同。\"</span>\n",
       "    <span style=\"font-weight: bold\">}</span>,\n",
       "    <span style=\"font-weight: bold\">{</span>\n",
       "      <span style=\"color: #008000; text-decoration-color: #008000\">\"header\"</span>: <span style=\"color: #008000; text-decoration-color: #008000\">\"24小時美股交易實況操作\"</span>,\n",
       "      <span style=\"color: #008000; text-decoration-color: #008000\">\"key_points\"</span>: <span style=\"font-weight: bold\">[</span>\n",
       "        <span style=\"color: #008000; text-decoration-color: #008000\">\"使用IB平台時，需在「Time In Force (TIF)」中選擇「Overnight Trading」。\"</span>,\n",
       "        <span style=\"color: #008000; text-decoration-color: #008000\">\"影片以買入特斯拉股票為例進行操作示範。\"</span>,\n",
       "        <span style=\"color: #008000; text-decoration-color: #008000\">\"下單前務必覆核訂單總金額，防止出錯。\"</span>,\n",
       "        <span style=\"color: #008000; text-decoration-color: #008000\">\"通宵交易時段只接受限價單（Limit Order）。\"</span>\n",
       "      <span style=\"font-weight: bold\">]</span>,\n",
       "      <span style=\"color: #008000; text-decoration-color: #008000\">\"summary\"</span>: <span style=\"color: #008000; text-decoration-color: #008000\">\"影片以Interactive Brokers (IB) </span>\n",
       "<span style=\"color: #008000; text-decoration-color: #008000\">的交易平台為例，逐步示範如何在香港的日間時段（對應美國的夜間）買賣美股。操作關鍵在於下單時，在「Time In Force </span>\n",
       "<span style=\"color: #008000; text-decoration-color: #008000\">(TIF)」選項中選擇「Overnight </span>\n",
       "<span style=\"color: #008000; text-decoration-color: #008000\">Trading」。影片展示了如何為特斯拉（TSLA）股票下達一個通宵交易的買單，並強調了檢查訂單總金額（Amount）的重要性，以避</span>\n",
       "<span style=\"color: #008000; text-decoration-color: #008000\">免下錯單。此外，通宵交易目前只接受限價單（Limit Order）。\"</span>\n",
       "    <span style=\"font-weight: bold\">}</span>,\n",
       "    <span style=\"font-weight: bold\">{</span>\n",
       "      <span style=\"color: #008000; text-decoration-color: #008000\">\"header\"</span>: <span style=\"color: #008000; text-decoration-color: #008000\">\"24小時交易的優點與缺點\"</span>,\n",
       "      <span style=\"color: #008000; text-decoration-color: #008000\">\"key_points\"</span>: <span style=\"font-weight: bold\">[</span>\n",
       "        <span style=\"color: #008000; text-decoration-color: #008000\">\"優點：方便，可在亞洲時區對市場新聞作出即時反應。\"</span>,\n",
       "        <span style=\"color: #008000; text-decoration-color: #008000\">\"缺點：流通量低，買賣差價闊。\"</span>,\n",
       "        <span style=\"color: #008000; text-decoration-color: #008000\">\"缺點：訂單稀疏，大額交易容易造成滑價（Trade Slippage）。\"</span>\n",
       "      <span style=\"font-weight: bold\">]</span>,\n",
       "      <span style=\"color: #008000; text-decoration-color: #008000\">\"summary\"</span>: \n",
       "<span style=\"color: #008000; text-decoration-color: #008000\">\"24小時交易的最大好處是方便，尤其對於亞洲投資者，可以在白天對突發事件作出反應，無需熬夜。然而，缺點也很明顯，主要是</span>\n",
       "<span style=\"color: #008000; text-decoration-color: #008000\">在非正常交易時段（特別是通宵時段），市場流通量低，導致掛盤稀疏、買賣差價擴大，大額交易容易影響價格並造成滑價（Slipp</span>\n",
       "<span style=\"color: #008000; text-decoration-color: #008000\">age）風險。\"</span>\n",
       "    <span style=\"font-weight: bold\">}</span>,\n",
       "    <span style=\"font-weight: bold\">{</span>\n",
       "      <span style=\"color: #008000; text-decoration-color: #008000\">\"header\"</span>: <span style=\"color: #008000; text-decoration-color: #008000\">\"如何應用24小時交易策略\"</span>,\n",
       "      <span style=\"color: #008000; text-decoration-color: #008000\">\"key_points\"</span>: <span style=\"font-weight: bold\">[</span>\n",
       "        <span style=\"color: #008000; text-decoration-color: #008000\">\"真正的價格發現（Price Discovery）發生在正常交易時段。\"</span>,\n",
       "        <span style=\"color: #008000; text-decoration-color: #008000\">\"不應根據通宵時段的價格波動來判斷市場趨勢或做交易決策。\"</span>,\n",
       "        <span style=\"color: #008000; text-decoration-color: #008000\">\"可利用通宵交易時段執行預先設定好的目標價位訂單。\"</span>\n",
       "      <span style=\"font-weight: bold\">]</span>,\n",
       "      <span style=\"color: #008000; text-decoration-color: #008000\">\"summary\"</span>: <span style=\"color: #008000; text-decoration-color: #008000\">\"講者分享了他的個人策略。他認為真正的價格發現（Price </span>\n",
       "<span style=\"color: #008000; text-decoration-color: #008000\">Discovery）發生在交易量最大的正常交易時段（美國白天）。因此，他不會根據通宵時段的價格波動來做新的交易決策。相反，他</span>\n",
       "<span style=\"color: #008000; text-decoration-color: #008000\">會利用這個時段來執行預先設定好的目標價位訂單，例如當股價達到某個預設的賣出價時，就可以掛單賣出。他用街市買魚作比喻</span>\n",
       "<span style=\"color: #008000; text-decoration-color: #008000\">，日間的價格才反映真實的供需，深夜的零星交易價格不具代表性。\"</span>\n",
       "    <span style=\"font-weight: bold\">}</span>\n",
       "  <span style=\"font-weight: bold\">]</span>,\n",
       "  <span style=\"color: #008000; text-decoration-color: #008000\">\"key_facts\"</span>: <span style=\"font-weight: bold\">[</span>\n",
       "    <span style=\"color: #008000; text-decoration-color: #008000\">\"美股可透過ECN平台實現24小時交易。\"</span>,\n",
       "    <span style=\"color: #008000; text-decoration-color: #008000\">\"Blue Ocean ATS平台提供美國東岸時間晚上8點至凌晨4點的交易，對應香港夏令時間早上8點至下午4點。\"</span>,\n",
       "    <span style=\"color: #008000; text-decoration-color: #008000\">\"通宵交易時段（Overnight Trading）的流通量極低，僅佔Interactive Brokers總成交量的2%。\"</span>,\n",
       "    <span style=\"color: #008000; text-decoration-color: #008000\">\"盤前盤後（Extended Hours）的成交量約佔總成交量的10%。\"</span>,\n",
       "    <span style=\"color: #008000; text-decoration-color: #008000\">\"通宵交易時段只接受限價單（Limit Order），不接受市價單（Market Order）。\"</span>\n",
       "  <span style=\"font-weight: bold\">]</span>,\n",
       "  <span style=\"color: #008000; text-decoration-color: #008000\">\"takeaways\"</span>: <span style=\"font-weight: bold\">[</span>\n",
       "    <span style=\"color: #008000; text-decoration-color: #008000\">\"投資者現在可以在香港的辦公時間交易美股，無需熬夜。\"</span>,\n",
       "    <span style=\"color: #008000; text-decoration-color: #008000\">\"進行非正常時段交易時，必須注意流通性低、差價闊和滑價的風險。\"</span>,\n",
       "    <span style=\"color: #008000; text-decoration-color: #008000\">\"利用通宵交易時段執行預設的目標價訂單是較佳的應用方式，而非根據該時段的價格波動進行分析決策。\"</span>,\n",
       "    <span style=\"color: #008000; text-decoration-color: #008000\">\"由於流通量低，應避免在非正常時段進行大額交易。\"</span>\n",
       "  <span style=\"font-weight: bold\">]</span>,\n",
       "  <span style=\"color: #008000; text-decoration-color: #008000\">\"overall_summary\"</span>: <span style=\"color: #008000; text-decoration-color: #008000\">\"這部影片詳細介紹了新興的美股24小時交易機制。它解釋了這是通過傳統交易所之外的ECN平台（如Blue </span>\n",
       "<span style=\"color: #008000; text-decoration-color: #008000\">Ocean）實現的，讓亞洲投資者可以在白天交易美股。影片提供了在Interactive </span>\n",
       "<span style=\"color: #008000; text-decoration-color: #008000\">Brokers平台上的詳細操作演示，並深入分析了24小時交易的利弊。其主要優點是便利性，但缺點是流通量低和交易成本可能增加（</span>\n",
       "<span style=\"color: #008000; text-decoration-color: #008000\">差價擴大）。講者建議，投資者應理解真正的價格發現主要發生在正常交易時段，因此通宵交易更適合用來執行預先設定好的目標</span>\n",
       "<span style=\"color: #008000; text-decoration-color: #008000\">價訂單，而不是用來判斷市場走勢。\"</span>\n",
       "<span style=\"font-weight: bold\">}</span>\n",
       "</pre>\n"
      ],
      "text/plain": [
       "\u001b[1m{\u001b[0m\n",
       "  \u001b[32m\"title\"\u001b[0m: \u001b[32m\"美股24小時交易：如何操作、優缺點及應用策略\"\u001b[0m,\n",
       "  \u001b[32m\"chapters\"\u001b[0m: \u001b[1m[\u001b[0m\n",
       "    \u001b[1m{\u001b[0m\n",
       "      \u001b[32m\"header\"\u001b[0m: \u001b[32m\"什麼是美股24小時交易？\"\u001b[0m,\n",
       "      \u001b[32m\"key_points\"\u001b[0m: \u001b[1m[\u001b[0m\n",
       "        \u001b[32m\"美股可透過電子通訊網絡（ECN）平台實現24小時交易。\"\u001b[0m,\n",
       "        \u001b[32m\"除了傳統交易所，還有ARCA、EDGX、Blue Ocean等ECN平台提供延長交易時段。\"\u001b[0m,\n",
       "        \u001b[32m\"ECN平台與傳統交易所交易的股票完全相同，只是交易渠道不同。\"\u001b[0m\n",
       "      \u001b[1m]\u001b[0m,\n",
       "      \u001b[32m\"summary\"\u001b[0m: \n",
       "\u001b[32m\"影片介紹了美股現在可以24小時交易，解決了亞洲投資者需要熬夜的問題。這主要是通過傳統交易所（如紐約證券交易所、納斯達\u001b[0m\n",
       "\u001b[32m克）之外的電子通訊網絡（ECN）平台實現的。這些ECN平台，如ARCA、EDGX和Blue \u001b[0m\n",
       "\u001b[32mOcean，提供了盤前、盤後甚至通宵的交易時段，讓交易時間得以延長。這些平台與傳統交易所提供的股票是完全相同的，只是交易\u001b[0m\n",
       "\u001b[32m渠道和時間不同。\"\u001b[0m\n",
       "    \u001b[1m}\u001b[0m,\n",
       "    \u001b[1m{\u001b[0m\n",
       "      \u001b[32m\"header\"\u001b[0m: \u001b[32m\"24小時美股交易實況操作\"\u001b[0m,\n",
       "      \u001b[32m\"key_points\"\u001b[0m: \u001b[1m[\u001b[0m\n",
       "        \u001b[32m\"使用IB平台時，需在「Time In Force \u001b[0m\u001b[32m(\u001b[0m\u001b[32mTIF\u001b[0m\u001b[32m)\u001b[0m\u001b[32m」中選擇「Overnight Trading」。\"\u001b[0m,\n",
       "        \u001b[32m\"影片以買入特斯拉股票為例進行操作示範。\"\u001b[0m,\n",
       "        \u001b[32m\"下單前務必覆核訂單總金額，防止出錯。\"\u001b[0m,\n",
       "        \u001b[32m\"通宵交易時段只接受限價單（Limit Order）。\"\u001b[0m\n",
       "      \u001b[1m]\u001b[0m,\n",
       "      \u001b[32m\"summary\"\u001b[0m: \u001b[32m\"影片以Interactive Brokers \u001b[0m\u001b[32m(\u001b[0m\u001b[32mIB\u001b[0m\u001b[32m)\u001b[0m\u001b[32m \u001b[0m\n",
       "\u001b[32m的交易平台為例，逐步示範如何在香港的日間時段（對應美國的夜間）買賣美股。操作關鍵在於下單時，在「Time In Force \u001b[0m\n",
       "\u001b[32m(\u001b[0m\u001b[32mTIF\u001b[0m\u001b[32m)\u001b[0m\u001b[32m」選項中選擇「Overnight \u001b[0m\n",
       "\u001b[32mTrading」。影片展示了如何為特斯拉（TSLA）股票下達一個通宵交易的買單，並強調了檢查訂單總金額（Amount）的重要性，以避\u001b[0m\n",
       "\u001b[32m免下錯單。此外，通宵交易目前只接受限價單（Limit Order）。\"\u001b[0m\n",
       "    \u001b[1m}\u001b[0m,\n",
       "    \u001b[1m{\u001b[0m\n",
       "      \u001b[32m\"header\"\u001b[0m: \u001b[32m\"24小時交易的優點與缺點\"\u001b[0m,\n",
       "      \u001b[32m\"key_points\"\u001b[0m: \u001b[1m[\u001b[0m\n",
       "        \u001b[32m\"優點：方便，可在亞洲時區對市場新聞作出即時反應。\"\u001b[0m,\n",
       "        \u001b[32m\"缺點：流通量低，買賣差價闊。\"\u001b[0m,\n",
       "        \u001b[32m\"缺點：訂單稀疏，大額交易容易造成滑價（Trade Slippage）。\"\u001b[0m\n",
       "      \u001b[1m]\u001b[0m,\n",
       "      \u001b[32m\"summary\"\u001b[0m: \n",
       "\u001b[32m\"24小時交易的最大好處是方便，尤其對於亞洲投資者，可以在白天對突發事件作出反應，無需熬夜。然而，缺點也很明顯，主要是\u001b[0m\n",
       "\u001b[32m在非正常交易時段（特別是通宵時段），市場流通量低，導致掛盤稀疏、買賣差價擴大，大額交易容易影響價格並造成滑價（Slipp\u001b[0m\n",
       "\u001b[32mage）風險。\"\u001b[0m\n",
       "    \u001b[1m}\u001b[0m,\n",
       "    \u001b[1m{\u001b[0m\n",
       "      \u001b[32m\"header\"\u001b[0m: \u001b[32m\"如何應用24小時交易策略\"\u001b[0m,\n",
       "      \u001b[32m\"key_points\"\u001b[0m: \u001b[1m[\u001b[0m\n",
       "        \u001b[32m\"真正的價格發現（Price Discovery）發生在正常交易時段。\"\u001b[0m,\n",
       "        \u001b[32m\"不應根據通宵時段的價格波動來判斷市場趨勢或做交易決策。\"\u001b[0m,\n",
       "        \u001b[32m\"可利用通宵交易時段執行預先設定好的目標價位訂單。\"\u001b[0m\n",
       "      \u001b[1m]\u001b[0m,\n",
       "      \u001b[32m\"summary\"\u001b[0m: \u001b[32m\"講者分享了他的個人策略。他認為真正的價格發現（Price \u001b[0m\n",
       "\u001b[32mDiscovery）發生在交易量最大的正常交易時段（美國白天）。因此，他不會根據通宵時段的價格波動來做新的交易決策。相反，他\u001b[0m\n",
       "\u001b[32m會利用這個時段來執行預先設定好的目標價位訂單，例如當股價達到某個預設的賣出價時，就可以掛單賣出。他用街市買魚作比喻\u001b[0m\n",
       "\u001b[32m，日間的價格才反映真實的供需，深夜的零星交易價格不具代表性。\"\u001b[0m\n",
       "    \u001b[1m}\u001b[0m\n",
       "  \u001b[1m]\u001b[0m,\n",
       "  \u001b[32m\"key_facts\"\u001b[0m: \u001b[1m[\u001b[0m\n",
       "    \u001b[32m\"美股可透過ECN平台實現24小時交易。\"\u001b[0m,\n",
       "    \u001b[32m\"Blue Ocean ATS平台提供美國東岸時間晚上8點至凌晨4點的交易，對應香港夏令時間早上8點至下午4點。\"\u001b[0m,\n",
       "    \u001b[32m\"通宵交易時段（Overnight Trading）的流通量極低，僅佔Interactive Brokers總成交量的2%。\"\u001b[0m,\n",
       "    \u001b[32m\"盤前盤後（Extended Hours）的成交量約佔總成交量的10%。\"\u001b[0m,\n",
       "    \u001b[32m\"通宵交易時段只接受限價單（Limit Order），不接受市價單（Market Order）。\"\u001b[0m\n",
       "  \u001b[1m]\u001b[0m,\n",
       "  \u001b[32m\"takeaways\"\u001b[0m: \u001b[1m[\u001b[0m\n",
       "    \u001b[32m\"投資者現在可以在香港的辦公時間交易美股，無需熬夜。\"\u001b[0m,\n",
       "    \u001b[32m\"進行非正常時段交易時，必須注意流通性低、差價闊和滑價的風險。\"\u001b[0m,\n",
       "    \u001b[32m\"利用通宵交易時段執行預設的目標價訂單是較佳的應用方式，而非根據該時段的價格波動進行分析決策。\"\u001b[0m,\n",
       "    \u001b[32m\"由於流通量低，應避免在非正常時段進行大額交易。\"\u001b[0m\n",
       "  \u001b[1m]\u001b[0m,\n",
       "  \u001b[32m\"overall_summary\"\u001b[0m: \u001b[32m\"這部影片詳細介紹了新興的美股24小時交易機制。它解釋了這是通過傳統交易所之外的ECN平台（如Blue \u001b[0m\n",
       "\u001b[32mOcean）實現的，讓亞洲投資者可以在白天交易美股。影片提供了在Interactive \u001b[0m\n",
       "\u001b[32mBrokers平台上的詳細操作演示，並深入分析了24小時交易的利弊。其主要優點是便利性，但缺點是流通量低和交易成本可能增加（\u001b[0m\n",
       "\u001b[32m差價擴大）。講者建議，投資者應理解真正的價格發現主要發生在正常交易時段，因此通宵交易更適合用來執行預先設定好的目標\u001b[0m\n",
       "\u001b[32m價訂單，而不是用來判斷市場走勢。\"\u001b[0m\n",
       "\u001b[1m}\u001b[0m\n"
      ]
     },
     "metadata": {},
     "output_type": "display_data"
    }
   ],
   "source": [
    "import os\n",
    "\n",
    "from dotenv import load_dotenv\n",
    "from google.genai import Client, types\n",
    "from pydantic import BaseModel, Field\n",
    "from rich import print\n",
    "\n",
    "load_dotenv()\n",
    "\n",
    "\n",
    "class Chapter(BaseModel):\n",
    "    header: str = Field(description=\"A descriptive title for the chapter\")\n",
    "    key_points: list[str] = Field(description=\"Important takeaways and insights from this chapter\")\n",
    "    summary: str = Field(description=\"A comprehensive summary of the chapter content\")\n",
    "\n",
    "\n",
    "class Analysis(BaseModel):\n",
    "    title: str = Field(description=\"The main title or topic of the video content\")\n",
    "    chapters: list[Chapter] = Field(description=\"Structured breakdown of content into logical chapters\")\n",
    "    key_facts: list[str] = Field(description=\"Important facts, statistics, or data points mentioned\")\n",
    "    takeaways: list[str] = Field(description=\"Key insights and actionable takeaways for the audience\")\n",
    "    overall_summary: str = Field(description=\"A comprehensive summary synthesizing all chapters, facts, and themes\")\n",
    "\n",
    "\n",
    "client = Client(\n",
    "    api_key=os.getenv(\"GEMINI_API_KEY\"),\n",
    "    http_options={\"timeout\": 600000},\n",
    ")\n",
    "\n",
    "\n",
    "response = client.models.generate_content_stream(\n",
    "    model=\"models/gemini-2.5-pro\",\n",
    "    contents=types.Content(\n",
    "        parts=[\n",
    "            types.Part(file_data=types.FileData(file_uri=\"https://youtu.be/0kJKfcfE-Ck\")),\n",
    "        ]\n",
    "    ),\n",
    "    config=types.GenerateContentConfig(\n",
    "        system_instruction=\"Analyze the video/transcript according to the schema and follow the original language.\",\n",
    "        temperature=0,\n",
    "        response_mime_type=\"application/json\",\n",
    "        response_schema=Analysis,\n",
    "        thinking_config=types.ThinkingConfig(thinking_budget=2048),\n",
    "    ),\n",
    ")\n",
    "\n",
    "\n",
    "result_parts = [chunk.text for chunk in response if chunk.text is not None and (print(chunk.text, end=\"\") or True)]\n",
    "final_result = \"\".join(result_parts)\n",
    "\n",
    "final_result = Analysis.model_validate_json(final_result)\n",
    "\n",
    "print(final_result)"
   ]
  },
  {
   "cell_type": "code",
   "execution_count": null,
   "id": "06e02aec",
   "metadata": {},
   "outputs": [],
   "source": [
    "final_result = Analysis.model_validate_json(final_result)"
   ]
  },
  {
   "cell_type": "code",
   "execution_count": 7,
   "id": "1d50e70c",
   "metadata": {},
   "outputs": [
    {
     "data": {
      "text/html": [
       "<pre style=\"white-space:pre;overflow-x:auto;line-height:normal;font-family:Menlo,'DejaVu Sans Mono',consolas,'Courier New',monospace\"><span style=\"color: #800080; text-decoration-color: #800080; font-weight: bold\">Analysis</span><span style=\"font-weight: bold\">(</span>\n",
       "    <span style=\"color: #808000; text-decoration-color: #808000\">title</span>=<span style=\"color: #008000; text-decoration-color: #008000\">'美股24小時交易：如何操作、優缺點及應用策略'</span>,\n",
       "    <span style=\"color: #808000; text-decoration-color: #808000\">chapters</span>=<span style=\"font-weight: bold\">[</span>\n",
       "        <span style=\"color: #800080; text-decoration-color: #800080; font-weight: bold\">Chapter</span><span style=\"font-weight: bold\">(</span>\n",
       "            <span style=\"color: #808000; text-decoration-color: #808000\">header</span>=<span style=\"color: #008000; text-decoration-color: #008000\">'什麼是美股24小時交易？'</span>,\n",
       "            <span style=\"color: #808000; text-decoration-color: #808000\">key_points</span>=<span style=\"font-weight: bold\">[</span>\n",
       "                <span style=\"color: #008000; text-decoration-color: #008000\">'美股可透過電子通訊網絡（ECN）平台實現24小時交易。'</span>,\n",
       "                <span style=\"color: #008000; text-decoration-color: #008000\">'除了傳統交易所，還有ARCA、EDGX、Blue Ocean等ECN平台提供延長交易時段。'</span>,\n",
       "                <span style=\"color: #008000; text-decoration-color: #008000\">'ECN平台與傳統交易所交易的股票完全相同，只是交易渠道不同。'</span>\n",
       "            <span style=\"font-weight: bold\">]</span>,\n",
       "            <span style=\"color: #808000; text-decoration-color: #808000\">summary</span>=<span style=\"color: #008000; text-decoration-color: #008000\">'影片介紹了美股現在可以24小時交易，解決了亞洲投資者需要熬夜的問題。這主要是通過傳統交易所（如紐</span>\n",
       "<span style=\"color: #008000; text-decoration-color: #008000\">約證券交易所、納斯達克）之外的電子通訊網絡（ECN）平台實現的。這些ECN平台，如ARCA、EDGX和Blue </span>\n",
       "<span style=\"color: #008000; text-decoration-color: #008000\">Ocean，提供了盤前、盤後甚至通宵的交易時段，讓交易時間得以延長。這些平台與傳統交易所提供的股票是完全相同的，只是交易</span>\n",
       "<span style=\"color: #008000; text-decoration-color: #008000\">渠道和時間不同。'</span>\n",
       "        <span style=\"font-weight: bold\">)</span>,\n",
       "        <span style=\"color: #800080; text-decoration-color: #800080; font-weight: bold\">Chapter</span><span style=\"font-weight: bold\">(</span>\n",
       "            <span style=\"color: #808000; text-decoration-color: #808000\">header</span>=<span style=\"color: #008000; text-decoration-color: #008000\">'24小時美股交易實況操作'</span>,\n",
       "            <span style=\"color: #808000; text-decoration-color: #808000\">key_points</span>=<span style=\"font-weight: bold\">[</span>\n",
       "                <span style=\"color: #008000; text-decoration-color: #008000\">'使用IB平台時，需在「Time In Force (TIF)」中選擇「Overnight Trading」。'</span>,\n",
       "                <span style=\"color: #008000; text-decoration-color: #008000\">'影片以買入特斯拉股票為例進行操作示範。'</span>,\n",
       "                <span style=\"color: #008000; text-decoration-color: #008000\">'下單前務必覆核訂單總金額，防止出錯。'</span>,\n",
       "                <span style=\"color: #008000; text-decoration-color: #008000\">'通宵交易時段只接受限價單（Limit Order）。'</span>\n",
       "            <span style=\"font-weight: bold\">]</span>,\n",
       "            <span style=\"color: #808000; text-decoration-color: #808000\">summary</span>=<span style=\"color: #008000; text-decoration-color: #008000\">'影片以Interactive Brokers (IB) </span>\n",
       "<span style=\"color: #008000; text-decoration-color: #008000\">的交易平台為例，逐步示範如何在香港的日間時段（對應美國的夜間）買賣美股。操作關鍵在於下單時，在「Time In Force </span>\n",
       "<span style=\"color: #008000; text-decoration-color: #008000\">(TIF)」選項中選擇「Overnight </span>\n",
       "<span style=\"color: #008000; text-decoration-color: #008000\">Trading」。影片展示了如何為特斯拉（TSLA）股票下達一個通宵交易的買單，並強調了檢查訂單總金額（Amount）的重要性，以避</span>\n",
       "<span style=\"color: #008000; text-decoration-color: #008000\">免下錯單。此外，通宵交易目前只接受限價單（Limit Order）。'</span>\n",
       "        <span style=\"font-weight: bold\">)</span>,\n",
       "        <span style=\"color: #800080; text-decoration-color: #800080; font-weight: bold\">Chapter</span><span style=\"font-weight: bold\">(</span>\n",
       "            <span style=\"color: #808000; text-decoration-color: #808000\">header</span>=<span style=\"color: #008000; text-decoration-color: #008000\">'24小時交易的優點與缺點'</span>,\n",
       "            <span style=\"color: #808000; text-decoration-color: #808000\">key_points</span>=<span style=\"font-weight: bold\">[</span>\n",
       "                <span style=\"color: #008000; text-decoration-color: #008000\">'優點：方便，可在亞洲時區對市場新聞作出即時反應。'</span>,\n",
       "                <span style=\"color: #008000; text-decoration-color: #008000\">'缺點：流通量低，買賣差價闊。'</span>,\n",
       "                <span style=\"color: #008000; text-decoration-color: #008000\">'缺點：訂單稀疏，大額交易容易造成滑價（Trade Slippage）。'</span>\n",
       "            <span style=\"font-weight: bold\">]</span>,\n",
       "            <span style=\"color: #808000; text-decoration-color: #808000\">summary</span>=<span style=\"color: #008000; text-decoration-color: #008000\">'24小時交易的最大好處是方便，尤其對於亞洲投資者，可以在白天對突發事件作出反應，無需熬夜。然而，</span>\n",
       "<span style=\"color: #008000; text-decoration-color: #008000\">缺點也很明顯，主要是在非正常交易時段（特別是通宵時段），市場流通量低，導致掛盤稀疏、買賣差價擴大，大額交易容易影響</span>\n",
       "<span style=\"color: #008000; text-decoration-color: #008000\">價格並造成滑價（Slippage）風險。'</span>\n",
       "        <span style=\"font-weight: bold\">)</span>,\n",
       "        <span style=\"color: #800080; text-decoration-color: #800080; font-weight: bold\">Chapter</span><span style=\"font-weight: bold\">(</span>\n",
       "            <span style=\"color: #808000; text-decoration-color: #808000\">header</span>=<span style=\"color: #008000; text-decoration-color: #008000\">'如何應用24小時交易策略'</span>,\n",
       "            <span style=\"color: #808000; text-decoration-color: #808000\">key_points</span>=<span style=\"font-weight: bold\">[</span>\n",
       "                <span style=\"color: #008000; text-decoration-color: #008000\">'真正的價格發現（Price Discovery）發生在正常交易時段。'</span>,\n",
       "                <span style=\"color: #008000; text-decoration-color: #008000\">'不應根據通宵時段的價格波動來判斷市場趨勢或做交易決策。'</span>,\n",
       "                <span style=\"color: #008000; text-decoration-color: #008000\">'可利用通宵交易時段執行預先設定好的目標價位訂單。'</span>\n",
       "            <span style=\"font-weight: bold\">]</span>,\n",
       "            <span style=\"color: #808000; text-decoration-color: #808000\">summary</span>=<span style=\"color: #008000; text-decoration-color: #008000\">'講者分享了他的個人策略。他認為真正的價格發現（Price </span>\n",
       "<span style=\"color: #008000; text-decoration-color: #008000\">Discovery）發生在交易量最大的正常交易時段（美國白天）。因此，他不會根據通宵時段的價格波動來做新的交易決策。相反，他</span>\n",
       "<span style=\"color: #008000; text-decoration-color: #008000\">會利用這個時段來執行預先設定好的目標價位訂單，例如當股價達到某個預設的賣出價時，就可以掛單賣出。他用街市買魚作比喻</span>\n",
       "<span style=\"color: #008000; text-decoration-color: #008000\">，日間的價格才反映真實的供需，深夜的零星交易價格不具代表性。'</span>\n",
       "        <span style=\"font-weight: bold\">)</span>\n",
       "    <span style=\"font-weight: bold\">]</span>,\n",
       "    <span style=\"color: #808000; text-decoration-color: #808000\">key_facts</span>=<span style=\"font-weight: bold\">[</span>\n",
       "        <span style=\"color: #008000; text-decoration-color: #008000\">'美股可透過ECN平台實現24小時交易。'</span>,\n",
       "        <span style=\"color: #008000; text-decoration-color: #008000\">'Blue Ocean ATS平台提供美國東岸時間晚上8點至凌晨4點的交易，對應香港夏令時間早上8點至下午4點。'</span>,\n",
       "        <span style=\"color: #008000; text-decoration-color: #008000\">'通宵交易時段（Overnight Trading）的流通量極低，僅佔Interactive Brokers總成交量的2%。'</span>,\n",
       "        <span style=\"color: #008000; text-decoration-color: #008000\">'盤前盤後（Extended Hours）的成交量約佔總成交量的10%。'</span>,\n",
       "        <span style=\"color: #008000; text-decoration-color: #008000\">'通宵交易時段只接受限價單（Limit Order），不接受市價單（Market Order）。'</span>\n",
       "    <span style=\"font-weight: bold\">]</span>,\n",
       "    <span style=\"color: #808000; text-decoration-color: #808000\">takeaways</span>=<span style=\"font-weight: bold\">[</span>\n",
       "        <span style=\"color: #008000; text-decoration-color: #008000\">'投資者現在可以在香港的辦公時間交易美股，無需熬夜。'</span>,\n",
       "        <span style=\"color: #008000; text-decoration-color: #008000\">'進行非正常時段交易時，必須注意流通性低、差價闊和滑價的風險。'</span>,\n",
       "        <span style=\"color: #008000; text-decoration-color: #008000\">'利用通宵交易時段執行預設的目標價訂單是較佳的應用方式，而非根據該時段的價格波動進行分析決策。'</span>,\n",
       "        <span style=\"color: #008000; text-decoration-color: #008000\">'由於流通量低，應避免在非正常時段進行大額交易。'</span>\n",
       "    <span style=\"font-weight: bold\">]</span>,\n",
       "    <span style=\"color: #808000; text-decoration-color: #808000\">overall_summary</span>=<span style=\"color: #008000; text-decoration-color: #008000\">'這部影片詳細介紹了新興的美股24小時交易機制。它解釋了這是通過傳統交易所之外的ECN平台（如Blue </span>\n",
       "<span style=\"color: #008000; text-decoration-color: #008000\">Ocean）實現的，讓亞洲投資者可以在白天交易美股。影片提供了在Interactive </span>\n",
       "<span style=\"color: #008000; text-decoration-color: #008000\">Brokers平台上的詳細操作演示，並深入分析了24小時交易的利弊。其主要優點是便利性，但缺點是流通量低和交易成本可能增加（</span>\n",
       "<span style=\"color: #008000; text-decoration-color: #008000\">差價擴大）。講者建議，投資者應理解真正的價格發現主要發生在正常交易時段，因此通宵交易更適合用來執行預先設定好的目標</span>\n",
       "<span style=\"color: #008000; text-decoration-color: #008000\">價訂單，而不是用來判斷市場走勢。'</span>\n",
       "<span style=\"font-weight: bold\">)</span>\n",
       "</pre>\n"
      ],
      "text/plain": [
       "\u001b[1;35mAnalysis\u001b[0m\u001b[1m(\u001b[0m\n",
       "    \u001b[33mtitle\u001b[0m=\u001b[32m'美股24小時交易：如何操作、優缺點及應用策略'\u001b[0m,\n",
       "    \u001b[33mchapters\u001b[0m=\u001b[1m[\u001b[0m\n",
       "        \u001b[1;35mChapter\u001b[0m\u001b[1m(\u001b[0m\n",
       "            \u001b[33mheader\u001b[0m=\u001b[32m'什麼是美股24小時交易？'\u001b[0m,\n",
       "            \u001b[33mkey_points\u001b[0m=\u001b[1m[\u001b[0m\n",
       "                \u001b[32m'美股可透過電子通訊網絡（ECN）平台實現24小時交易。'\u001b[0m,\n",
       "                \u001b[32m'除了傳統交易所，還有ARCA、EDGX、Blue Ocean等ECN平台提供延長交易時段。'\u001b[0m,\n",
       "                \u001b[32m'ECN平台與傳統交易所交易的股票完全相同，只是交易渠道不同。'\u001b[0m\n",
       "            \u001b[1m]\u001b[0m,\n",
       "            \u001b[33msummary\u001b[0m=\u001b[32m'影片介紹了美股現在可以24小時交易，解決了亞洲投資者需要熬夜的問題。這主要是通過傳統交易所（如紐\u001b[0m\n",
       "\u001b[32m約證券交易所、納斯達克）之外的電子通訊網絡（ECN）平台實現的。這些ECN平台，如ARCA、EDGX和Blue \u001b[0m\n",
       "\u001b[32mOcean，提供了盤前、盤後甚至通宵的交易時段，讓交易時間得以延長。這些平台與傳統交易所提供的股票是完全相同的，只是交易\u001b[0m\n",
       "\u001b[32m渠道和時間不同。'\u001b[0m\n",
       "        \u001b[1m)\u001b[0m,\n",
       "        \u001b[1;35mChapter\u001b[0m\u001b[1m(\u001b[0m\n",
       "            \u001b[33mheader\u001b[0m=\u001b[32m'24小時美股交易實況操作'\u001b[0m,\n",
       "            \u001b[33mkey_points\u001b[0m=\u001b[1m[\u001b[0m\n",
       "                \u001b[32m'使用IB平台時，需在「Time In Force \u001b[0m\u001b[32m(\u001b[0m\u001b[32mTIF\u001b[0m\u001b[32m)\u001b[0m\u001b[32m」中選擇「Overnight Trading」。'\u001b[0m,\n",
       "                \u001b[32m'影片以買入特斯拉股票為例進行操作示範。'\u001b[0m,\n",
       "                \u001b[32m'下單前務必覆核訂單總金額，防止出錯。'\u001b[0m,\n",
       "                \u001b[32m'通宵交易時段只接受限價單（Limit Order）。'\u001b[0m\n",
       "            \u001b[1m]\u001b[0m,\n",
       "            \u001b[33msummary\u001b[0m=\u001b[32m'影片以Interactive Brokers \u001b[0m\u001b[32m(\u001b[0m\u001b[32mIB\u001b[0m\u001b[32m)\u001b[0m\u001b[32m \u001b[0m\n",
       "\u001b[32m的交易平台為例，逐步示範如何在香港的日間時段（對應美國的夜間）買賣美股。操作關鍵在於下單時，在「Time In Force \u001b[0m\n",
       "\u001b[32m(\u001b[0m\u001b[32mTIF\u001b[0m\u001b[32m)\u001b[0m\u001b[32m」選項中選擇「Overnight \u001b[0m\n",
       "\u001b[32mTrading」。影片展示了如何為特斯拉（TSLA）股票下達一個通宵交易的買單，並強調了檢查訂單總金額（Amount）的重要性，以避\u001b[0m\n",
       "\u001b[32m免下錯單。此外，通宵交易目前只接受限價單（Limit Order）。'\u001b[0m\n",
       "        \u001b[1m)\u001b[0m,\n",
       "        \u001b[1;35mChapter\u001b[0m\u001b[1m(\u001b[0m\n",
       "            \u001b[33mheader\u001b[0m=\u001b[32m'24小時交易的優點與缺點'\u001b[0m,\n",
       "            \u001b[33mkey_points\u001b[0m=\u001b[1m[\u001b[0m\n",
       "                \u001b[32m'優點：方便，可在亞洲時區對市場新聞作出即時反應。'\u001b[0m,\n",
       "                \u001b[32m'缺點：流通量低，買賣差價闊。'\u001b[0m,\n",
       "                \u001b[32m'缺點：訂單稀疏，大額交易容易造成滑價（Trade Slippage）。'\u001b[0m\n",
       "            \u001b[1m]\u001b[0m,\n",
       "            \u001b[33msummary\u001b[0m=\u001b[32m'24小時交易的最大好處是方便，尤其對於亞洲投資者，可以在白天對突發事件作出反應，無需熬夜。然而，\u001b[0m\n",
       "\u001b[32m缺點也很明顯，主要是在非正常交易時段（特別是通宵時段），市場流通量低，導致掛盤稀疏、買賣差價擴大，大額交易容易影響\u001b[0m\n",
       "\u001b[32m價格並造成滑價（Slippage）風險。'\u001b[0m\n",
       "        \u001b[1m)\u001b[0m,\n",
       "        \u001b[1;35mChapter\u001b[0m\u001b[1m(\u001b[0m\n",
       "            \u001b[33mheader\u001b[0m=\u001b[32m'如何應用24小時交易策略'\u001b[0m,\n",
       "            \u001b[33mkey_points\u001b[0m=\u001b[1m[\u001b[0m\n",
       "                \u001b[32m'真正的價格發現（Price Discovery）發生在正常交易時段。'\u001b[0m,\n",
       "                \u001b[32m'不應根據通宵時段的價格波動來判斷市場趨勢或做交易決策。'\u001b[0m,\n",
       "                \u001b[32m'可利用通宵交易時段執行預先設定好的目標價位訂單。'\u001b[0m\n",
       "            \u001b[1m]\u001b[0m,\n",
       "            \u001b[33msummary\u001b[0m=\u001b[32m'講者分享了他的個人策略。他認為真正的價格發現（Price \u001b[0m\n",
       "\u001b[32mDiscovery）發生在交易量最大的正常交易時段（美國白天）。因此，他不會根據通宵時段的價格波動來做新的交易決策。相反，他\u001b[0m\n",
       "\u001b[32m會利用這個時段來執行預先設定好的目標價位訂單，例如當股價達到某個預設的賣出價時，就可以掛單賣出。他用街市買魚作比喻\u001b[0m\n",
       "\u001b[32m，日間的價格才反映真實的供需，深夜的零星交易價格不具代表性。'\u001b[0m\n",
       "        \u001b[1m)\u001b[0m\n",
       "    \u001b[1m]\u001b[0m,\n",
       "    \u001b[33mkey_facts\u001b[0m=\u001b[1m[\u001b[0m\n",
       "        \u001b[32m'美股可透過ECN平台實現24小時交易。'\u001b[0m,\n",
       "        \u001b[32m'Blue Ocean ATS平台提供美國東岸時間晚上8點至凌晨4點的交易，對應香港夏令時間早上8點至下午4點。'\u001b[0m,\n",
       "        \u001b[32m'通宵交易時段（Overnight Trading）的流通量極低，僅佔Interactive Brokers總成交量的2%。'\u001b[0m,\n",
       "        \u001b[32m'盤前盤後（Extended Hours）的成交量約佔總成交量的10%。'\u001b[0m,\n",
       "        \u001b[32m'通宵交易時段只接受限價單（Limit Order），不接受市價單（Market Order）。'\u001b[0m\n",
       "    \u001b[1m]\u001b[0m,\n",
       "    \u001b[33mtakeaways\u001b[0m=\u001b[1m[\u001b[0m\n",
       "        \u001b[32m'投資者現在可以在香港的辦公時間交易美股，無需熬夜。'\u001b[0m,\n",
       "        \u001b[32m'進行非正常時段交易時，必須注意流通性低、差價闊和滑價的風險。'\u001b[0m,\n",
       "        \u001b[32m'利用通宵交易時段執行預設的目標價訂單是較佳的應用方式，而非根據該時段的價格波動進行分析決策。'\u001b[0m,\n",
       "        \u001b[32m'由於流通量低，應避免在非正常時段進行大額交易。'\u001b[0m\n",
       "    \u001b[1m]\u001b[0m,\n",
       "    \u001b[33moverall_summary\u001b[0m=\u001b[32m'這部影片詳細介紹了新興的美股24小時交易機制。它解釋了這是通過傳統交易所之外的ECN平台（如Blue \u001b[0m\n",
       "\u001b[32mOcean）實現的，讓亞洲投資者可以在白天交易美股。影片提供了在Interactive \u001b[0m\n",
       "\u001b[32mBrokers平台上的詳細操作演示，並深入分析了24小時交易的利弊。其主要優點是便利性，但缺點是流通量低和交易成本可能增加（\u001b[0m\n",
       "\u001b[32m差價擴大）。講者建議，投資者應理解真正的價格發現主要發生在正常交易時段，因此通宵交易更適合用來執行預先設定好的目標\u001b[0m\n",
       "\u001b[32m價訂單，而不是用來判斷市場走勢。'\u001b[0m\n",
       "\u001b[1m)\u001b[0m\n"
      ]
     },
     "metadata": {},
     "output_type": "display_data"
    }
   ],
   "source": [
    "print(final_result)"
   ]
  },
  {
   "cell_type": "code",
   "execution_count": null,
   "id": "c821fe0e",
   "metadata": {},
   "outputs": [],
   "source": [
    "from youtube_summarizer.youtube_loader import youtube_loader\n",
    "\n",
    "youtube_loader(\"https://www.youtube.com/watch?v=S07XJKq-H6Q\")"
   ]
  },
  {
   "cell_type": "code",
   "execution_count": null,
   "id": "418c66e6",
   "metadata": {},
   "outputs": [
    {
     "data": {
      "text/html": [
       "<pre style=\"white-space:pre;overflow-x:auto;line-height:normal;font-family:Menlo,'DejaVu Sans Mono',consolas,'Courier New',monospace\"><span style=\"font-weight: bold\">{</span>\n",
       "  <span style=\"color: #008000; text-decoration-color: #008000\">\"title\"</span>: <span style=\"color: #008000; text-decoration-color: #008000\">\"An Investment Analysis of Intel (INTC)\"</span>,\n",
       "  <span style=\"color: #008000; text-decoration-color: #008000\">\"chapters\"</span>: <span style=\"font-weight: bold\">[</span>\n",
       "    <span style=\"font-weight: bold\">{</span>\n",
       "      <span style=\"color: #008000; text-decoration-color: #008000\">\"header\"</span>: <span style=\"color: #008000; text-decoration-color: #008000\">\"Introduction: The Next Big Stock Opportunity\"</span>,\n",
       "      <span style=\"color: #008000; text-decoration-color: #008000\">\"key_points\"</span>: <span style=\"font-weight: bold\">[</span>\n",
       "        <span style=\"color: #008000; text-decoration-color: #008000\">\"The video identifies Intel (INTC) as a stock with a textbook setup for a breakout, despite being down </span>\n",
       "<span style=\"color: #008000; text-decoration-color: #008000\">60%.\"</span>,\n",
       "        <span style=\"color: #008000; text-decoration-color: #008000\">\"The analysis is supported by institutional buying data from Darkpool trading, which has been consistently </span>\n",
       "<span style=\"color: #008000; text-decoration-color: #008000\">bullish on Intel.\"</span>,\n",
       "        <span style=\"color: #008000; text-decoration-color: #008000\">\"A free detailed workbook is offered to viewers for a deeper understanding of the company and Wall Street </span>\n",
       "<span style=\"color: #008000; text-decoration-color: #008000\">trading rules.\"</span>\n",
       "      <span style=\"font-weight: bold\">]</span>,\n",
       "      <span style=\"color: #008000; text-decoration-color: #008000\">\"summary\"</span>: <span style=\"color: #008000; text-decoration-color: #008000\">\"The speaker introduces Intel as a significant investment opportunity, comparing its potential to </span>\n",
       "<span style=\"color: #008000; text-decoration-color: #008000\">past successes like Palantir. He highlights that institutional investors ('the big boys') have been actively buying</span>\n",
       "<span style=\"color: #008000; text-decoration-color: #008000\">the stock, as indicated by Darkpool data. The video promises to cover five key bullish reasons and a specific entry</span>\n",
       "<span style=\"color: #008000; text-decoration-color: #008000\">point for purchasing the stock.\"</span>\n",
       "    <span style=\"font-weight: bold\">}</span>,\n",
       "    <span style=\"font-weight: bold\">{</span>\n",
       "      <span style=\"color: #008000; text-decoration-color: #008000\">\"header\"</span>: <span style=\"color: #008000; text-decoration-color: #008000\">\"The Five Bullish Reasons for Intel\"</span>,\n",
       "      <span style=\"color: #008000; text-decoration-color: #008000\">\"key_points\"</span>: <span style=\"font-weight: bold\">[</span>\n",
       "        <span style=\"color: #008000; text-decoration-color: #008000\">\"The US government is providing Intel with approximately $7.8 billion in grants to build domestic chip </span>\n",
       "<span style=\"color: #008000; text-decoration-color: #008000\">foundries, making it a critical piece of US infrastructure.\"</span>,\n",
       "        <span style=\"color: #008000; text-decoration-color: #008000\">\"New leadership is targeting $10 billion in cost savings and launching more competitive chips that are </span>\n",
       "<span style=\"color: #008000; text-decoration-color: #008000\">allegedly 50% cheaper to run than Nvidia's.\"</span>,\n",
       "        <span style=\"color: #008000; text-decoration-color: #008000\">\"The rise of AI is expected to drive a PC refresh cycle, as users will need more powerful machines for </span>\n",
       "<span style=\"color: #008000; text-decoration-color: #008000\">local computing, benefiting Intel.\"</span>,\n",
       "        <span style=\"color: #008000; text-decoration-color: #008000\">\"Intel is investing tens of billions to build a foundry business to rival TSMC and capture a share of the </span>\n",
       "<span style=\"color: #008000; text-decoration-color: #008000\">$80 billion third-party foundry market.\"</span>,\n",
       "        <span style=\"color: #008000; text-decoration-color: #008000\">\"Based on its current valuation, some analysts project a potential 3-5x return in the next few years if the</span>\n",
       "<span style=\"color: #008000; text-decoration-color: #008000\">company successfully executes its turnaround plan.\"</span>\n",
       "      <span style=\"font-weight: bold\">]</span>,\n",
       "      <span style=\"color: #008000; text-decoration-color: #008000\">\"summary\"</span>: <span style=\"color: #008000; text-decoration-color: #008000\">\"This chapter details the five core fundamental arguments for being bullish on Intel. These </span>\n",
       "<span style=\"color: #008000; text-decoration-color: #008000\">include significant government support to onshore chip manufacturing, aggressive cost-cutting measures under new </span>\n",
       "<span style=\"color: #008000; text-decoration-color: #008000\">leadership, the growing demand for AI-capable PCs, the strategic expansion into the third-party foundry business to</span>\n",
       "<span style=\"color: #008000; text-decoration-color: #008000\">compete globally, and the stock's attractive valuation which suggests a high potential for future returns.\"</span>\n",
       "    <span style=\"font-weight: bold\">}</span>,\n",
       "    <span style=\"font-weight: bold\">{</span>\n",
       "      <span style=\"color: #008000; text-decoration-color: #008000\">\"header\"</span>: <span style=\"color: #008000; text-decoration-color: #008000\">\"Technical Analysis and Entry Strategy\"</span>,\n",
       "      <span style=\"color: #008000; text-decoration-color: #008000\">\"key_points\"</span>: <span style=\"font-weight: bold\">[</span>\n",
       "        <span style=\"color: #008000; text-decoration-color: #008000\">\"The stock has been in a sideways consolidation phase for about a year, suggesting that most sellers have </span>\n",
       "<span style=\"color: #008000; text-decoration-color: #008000\">already exited their positions.\"</span>,\n",
       "        <span style=\"color: #008000; text-decoration-color: #008000\">\"Recent trading volume has been historically high, indicating a 'clean slate' is being created for a </span>\n",
       "<span style=\"color: #008000; text-decoration-color: #008000\">potential upward move.\"</span>,\n",
       "        <span style=\"color: #008000; text-decoration-color: #008000\">\"A key resistance level is identified at $25, where market makers and institutions are likely to sell.\"</span>,\n",
       "        <span style=\"color: #008000; text-decoration-color: #008000\">\"The recommended entry point is not now, but after the stock breaks out above the recent high of </span>\n",
       "<span style=\"color: #008000; text-decoration-color: #008000\">approximately $27.50 on significant volume.\"</span>\n",
       "      <span style=\"font-weight: bold\">]</span>,\n",
       "      <span style=\"color: #008000; text-decoration-color: #008000\">\"summary\"</span>: <span style=\"color: #008000; text-decoration-color: #008000\">\"The speaker shifts from fundamentals to technical analysis, examining Intel's stock chart. He </span>\n",
       "<span style=\"color: #008000; text-decoration-color: #008000\">notes a year-long consolidation period, which he views as a positive sign as it shakes out weak hands. He points </span>\n",
       "<span style=\"color: #008000; text-decoration-color: #008000\">out a significant resistance level at $25. The core message is to avoid buying prematurely and instead wait for a </span>\n",
       "<span style=\"color: #008000; text-decoration-color: #008000\">confirmed breakout above the $27.50 level, supported by high trading volume, as this would signal strong buying </span>\n",
       "<span style=\"color: #008000; text-decoration-color: #008000\">momentum and a higher probability of a sustained upward trend.\"</span>\n",
       "    <span style=\"font-weight: bold\">}</span>,\n",
       "    <span style=\"font-weight: bold\">{</span>\n",
       "      <span style=\"color: #008000; text-decoration-color: #008000\">\"header\"</span>: <span style=\"color: #008000; text-decoration-color: #008000\">\"Conclusion and Risk Management\"</span>,\n",
       "      <span style=\"color: #008000; text-decoration-color: #008000\">\"key_points\"</span>: <span style=\"font-weight: bold\">[</span>\n",
       "        <span style=\"color: #008000; text-decoration-color: #008000\">\"Investors should not blindly buy a stock based on a YouTube video or FOMO (Fear Of Missing Out).\"</span>,\n",
       "        <span style=\"color: #008000; text-decoration-color: #008000\">\"It is crucial to have a personal risk management strategy, including setting stop-losses.\"</span>,\n",
       "        <span style=\"color: #008000; text-decoration-color: #008000\">\"The provided workbook can help investors develop their own strategy and understand the rules for buying </span>\n",
       "<span style=\"color: #008000; text-decoration-color: #008000\">such stocks.\"</span>\n",
       "      <span style=\"font-weight: bold\">]</span>,\n",
       "      <span style=\"color: #008000; text-decoration-color: #008000\">\"summary\"</span>: <span style=\"color: #008000; text-decoration-color: #008000\">\"The video concludes with a strong caution against impulsive buying. The speaker emphasizes the </span>\n",
       "<span style=\"color: #008000; text-decoration-color: #008000\">importance of individual research, establishing a clear risk management plan, and knowing your entry and exit </span>\n",
       "<span style=\"color: #008000; text-decoration-color: #008000\">points. He reiterates that FOMO is a poor reason to invest and encourages viewers to use the supplementary </span>\n",
       "<span style=\"color: #008000; text-decoration-color: #008000\">materials, like the workbook, to make informed decisions.\"</span>\n",
       "    <span style=\"font-weight: bold\">}</span>\n",
       "  <span style=\"font-weight: bold\">]</span>,\n",
       "  <span style=\"color: #008000; text-decoration-color: #008000\">\"key_facts\"</span>: <span style=\"font-weight: bold\">[</span>\n",
       "    <span style=\"color: #008000; text-decoration-color: #008000\">\"The stock in focus is Intel (INTC).\"</span>,\n",
       "    <span style=\"color: #008000; text-decoration-color: #008000\">\"The stock is down approximately 60% from its highs.\"</span>,\n",
       "    <span style=\"color: #008000; text-decoration-color: #008000\">\"The US government has granted Intel around $7.8 billion to build domestic chip foundries.\"</span>,\n",
       "    <span style=\"color: #008000; text-decoration-color: #008000\">\"Intel's new leadership is targeting $10 billion in cost savings.\"</span>,\n",
       "    <span style=\"color: #008000; text-decoration-color: #008000\">\"Intel's new chips are claimed to be 50% cheaper to run than Nvidia's for the same inference output.\"</span>,\n",
       "    <span style=\"color: #008000; text-decoration-color: #008000\">\"The global third-party foundry market is valued at $80 billion.\"</span>,\n",
       "    <span style=\"color: #008000; text-decoration-color: #008000\">\"Analysts see a potential for a 3-5x return on Intel stock in the coming years.\"</span>,\n",
       "    <span style=\"color: #008000; text-decoration-color: #008000\">\"The stock has been in a sideways consolidation pattern for about one year.\"</span>,\n",
       "    <span style=\"color: #008000; text-decoration-color: #008000\">\"A key technical resistance level for the stock is at $25.\"</span>,\n",
       "    <span style=\"color: #008000; text-decoration-color: #008000\">\"The proposed entry point is a breakout above the recent high of $27.50.\"</span>\n",
       "  <span style=\"font-weight: bold\">]</span>,\n",
       "  <span style=\"color: #008000; text-decoration-color: #008000\">\"takeaways\"</span>: <span style=\"font-weight: bold\">[</span>\n",
       "    <span style=\"color: #008000; text-decoration-color: #008000\">\"Intel presents a potential turnaround opportunity based on five key fundamental drivers: government support, </span>\n",
       "<span style=\"color: #008000; text-decoration-color: #008000\">cost-cutting, the AI PC cycle, foundry business expansion, and low valuation.\"</span>,\n",
       "    <span style=\"color: #008000; text-decoration-color: #008000\">\"Technical analysis is critical for timing an entry. A long consolidation period, like the one Intel is in, can</span>\n",
       "<span style=\"color: #008000; text-decoration-color: #008000\">precede a significant breakout.\"</span>,\n",
       "    <span style=\"color: #008000; text-decoration-color: #008000\">\"Patience is key; instead of buying into the consolidation, a more prudent strategy is to wait for a confirmed </span>\n",
       "<span style=\"color: #008000; text-decoration-color: #008000\">breakout above a key resistance level ($27.50) on high volume.\"</span>,\n",
       "    <span style=\"color: #008000; text-decoration-color: #008000\">\"Always conduct your own due diligence and establish a personal risk management plan before investing in any </span>\n",
       "<span style=\"color: #008000; text-decoration-color: #008000\">stock.\"</span>,\n",
       "    <span style=\"color: #008000; text-decoration-color: #008000\">\"Institutional buying, as seen in Darkpool data, can be a strong indicator of underlying strength in a stock.\"</span>\n",
       "  <span style=\"font-weight: bold\">]</span>,\n",
       "  <span style=\"color: #008000; text-decoration-color: #008000\">\"overall_summary\"</span>: <span style=\"color: #008000; text-decoration-color: #008000\">\"The video presents a bullish investment thesis for Intel (INTC), a stock that has fallen </span>\n",
       "<span style=\"color: #008000; text-decoration-color: #008000\">significantly from its peak. The speaker outlines five fundamental reasons for optimism: substantial US government </span>\n",
       "<span style=\"color: #008000; text-decoration-color: #008000\">grants to bolster domestic chip manufacturing, a new leadership team focused on $10 billion in cost savings, the </span>\n",
       "<span style=\"color: #008000; text-decoration-color: #008000\">impending AI-driven PC refresh cycle, a multi-billion dollar investment to build a foundry business to compete with</span>\n",
       "<span style=\"color: #008000; text-decoration-color: #008000\">TSMC, and a compelling valuation that suggests a potential 3-5x return. The analysis then shifts to the technicals,</span>\n",
       "<span style=\"color: #008000; text-decoration-color: #008000\">highlighting a year-long sideways consolidation period which often precedes a major price move. The speaker advises</span>\n",
       "<span style=\"color: #008000; text-decoration-color: #008000\">against buying immediately, pointing to a strong resistance level at $25. The recommended strategy is to wait for a</span>\n",
       "<span style=\"color: #008000; text-decoration-color: #008000\">decisive breakout above the recent high of $27.50 on strong volume, which would confirm the start of a new uptrend.</span>\n",
       "<span style=\"color: #008000; text-decoration-color: #008000\">The video concludes by stressing the importance of personal research, risk management, and avoiding investment </span>\n",
       "<span style=\"color: #008000; text-decoration-color: #008000\">decisions based on FOMO.\"</span>\n",
       "<span style=\"font-weight: bold\">}</span>\n",
       "</pre>\n"
      ],
      "text/plain": [
       "\u001b[1m{\u001b[0m\n",
       "  \u001b[32m\"title\"\u001b[0m: \u001b[32m\"An Investment Analysis of Intel \u001b[0m\u001b[32m(\u001b[0m\u001b[32mINTC\u001b[0m\u001b[32m)\u001b[0m\u001b[32m\"\u001b[0m,\n",
       "  \u001b[32m\"chapters\"\u001b[0m: \u001b[1m[\u001b[0m\n",
       "    \u001b[1m{\u001b[0m\n",
       "      \u001b[32m\"header\"\u001b[0m: \u001b[32m\"Introduction: The Next Big Stock Opportunity\"\u001b[0m,\n",
       "      \u001b[32m\"key_points\"\u001b[0m: \u001b[1m[\u001b[0m\n",
       "        \u001b[32m\"The video identifies Intel \u001b[0m\u001b[32m(\u001b[0m\u001b[32mINTC\u001b[0m\u001b[32m)\u001b[0m\u001b[32m as a stock with a textbook setup for a breakout, despite being down \u001b[0m\n",
       "\u001b[32m60%.\"\u001b[0m,\n",
       "        \u001b[32m\"The analysis is supported by institutional buying data from Darkpool trading, which has been consistently \u001b[0m\n",
       "\u001b[32mbullish on Intel.\"\u001b[0m,\n",
       "        \u001b[32m\"A free detailed workbook is offered to viewers for a deeper understanding of the company and Wall Street \u001b[0m\n",
       "\u001b[32mtrading rules.\"\u001b[0m\n",
       "      \u001b[1m]\u001b[0m,\n",
       "      \u001b[32m\"summary\"\u001b[0m: \u001b[32m\"The speaker introduces Intel as a significant investment opportunity, comparing its potential to \u001b[0m\n",
       "\u001b[32mpast successes like Palantir. He highlights that institutional investors \u001b[0m\u001b[32m(\u001b[0m\u001b[32m'the big boys'\u001b[0m\u001b[32m)\u001b[0m\u001b[32m have been actively buying\u001b[0m\n",
       "\u001b[32mthe stock, as indicated by Darkpool data. The video promises to cover five key bullish reasons and a specific entry\u001b[0m\n",
       "\u001b[32mpoint for purchasing the stock.\"\u001b[0m\n",
       "    \u001b[1m}\u001b[0m,\n",
       "    \u001b[1m{\u001b[0m\n",
       "      \u001b[32m\"header\"\u001b[0m: \u001b[32m\"The Five Bullish Reasons for Intel\"\u001b[0m,\n",
       "      \u001b[32m\"key_points\"\u001b[0m: \u001b[1m[\u001b[0m\n",
       "        \u001b[32m\"The US government is providing Intel with approximately $7.8 billion in grants to build domestic chip \u001b[0m\n",
       "\u001b[32mfoundries, making it a critical piece of US infrastructure.\"\u001b[0m,\n",
       "        \u001b[32m\"New leadership is targeting $10 billion in cost savings and launching more competitive chips that are \u001b[0m\n",
       "\u001b[32mallegedly 50% cheaper to run than Nvidia's.\"\u001b[0m,\n",
       "        \u001b[32m\"The rise of AI is expected to drive a PC refresh cycle, as users will need more powerful machines for \u001b[0m\n",
       "\u001b[32mlocal computing, benefiting Intel.\"\u001b[0m,\n",
       "        \u001b[32m\"Intel is investing tens of billions to build a foundry business to rival TSMC and capture a share of the \u001b[0m\n",
       "\u001b[32m$80 billion third-party foundry market.\"\u001b[0m,\n",
       "        \u001b[32m\"Based on its current valuation, some analysts project a potential 3-5x return in the next few years if the\u001b[0m\n",
       "\u001b[32mcompany successfully executes its turnaround plan.\"\u001b[0m\n",
       "      \u001b[1m]\u001b[0m,\n",
       "      \u001b[32m\"summary\"\u001b[0m: \u001b[32m\"This chapter details the five core fundamental arguments for being bullish on Intel. These \u001b[0m\n",
       "\u001b[32minclude significant government support to onshore chip manufacturing, aggressive cost-cutting measures under new \u001b[0m\n",
       "\u001b[32mleadership, the growing demand for AI-capable PCs, the strategic expansion into the third-party foundry business to\u001b[0m\n",
       "\u001b[32mcompete globally, and the stock's attractive valuation which suggests a high potential for future returns.\"\u001b[0m\n",
       "    \u001b[1m}\u001b[0m,\n",
       "    \u001b[1m{\u001b[0m\n",
       "      \u001b[32m\"header\"\u001b[0m: \u001b[32m\"Technical Analysis and Entry Strategy\"\u001b[0m,\n",
       "      \u001b[32m\"key_points\"\u001b[0m: \u001b[1m[\u001b[0m\n",
       "        \u001b[32m\"The stock has been in a sideways consolidation phase for about a year, suggesting that most sellers have \u001b[0m\n",
       "\u001b[32malready exited their positions.\"\u001b[0m,\n",
       "        \u001b[32m\"Recent trading volume has been historically high, indicating a 'clean slate' is being created for a \u001b[0m\n",
       "\u001b[32mpotential upward move.\"\u001b[0m,\n",
       "        \u001b[32m\"A key resistance level is identified at $25, where market makers and institutions are likely to sell.\"\u001b[0m,\n",
       "        \u001b[32m\"The recommended entry point is not now, but after the stock breaks out above the recent high of \u001b[0m\n",
       "\u001b[32mapproximately $27.50 on significant volume.\"\u001b[0m\n",
       "      \u001b[1m]\u001b[0m,\n",
       "      \u001b[32m\"summary\"\u001b[0m: \u001b[32m\"The speaker shifts from fundamentals to technical analysis, examining Intel's stock chart. He \u001b[0m\n",
       "\u001b[32mnotes a year-long consolidation period, which he views as a positive sign as it shakes out weak hands. He points \u001b[0m\n",
       "\u001b[32mout a significant resistance level at $25. The core message is to avoid buying prematurely and instead wait for a \u001b[0m\n",
       "\u001b[32mconfirmed breakout above the $27.50 level, supported by high trading volume, as this would signal strong buying \u001b[0m\n",
       "\u001b[32mmomentum and a higher probability of a sustained upward trend.\"\u001b[0m\n",
       "    \u001b[1m}\u001b[0m,\n",
       "    \u001b[1m{\u001b[0m\n",
       "      \u001b[32m\"header\"\u001b[0m: \u001b[32m\"Conclusion and Risk Management\"\u001b[0m,\n",
       "      \u001b[32m\"key_points\"\u001b[0m: \u001b[1m[\u001b[0m\n",
       "        \u001b[32m\"Investors should not blindly buy a stock based on a YouTube video or FOMO \u001b[0m\u001b[32m(\u001b[0m\u001b[32mFear Of Missing Out\u001b[0m\u001b[32m)\u001b[0m\u001b[32m.\"\u001b[0m,\n",
       "        \u001b[32m\"It is crucial to have a personal risk management strategy, including setting stop-losses.\"\u001b[0m,\n",
       "        \u001b[32m\"The provided workbook can help investors develop their own strategy and understand the rules for buying \u001b[0m\n",
       "\u001b[32msuch stocks.\"\u001b[0m\n",
       "      \u001b[1m]\u001b[0m,\n",
       "      \u001b[32m\"summary\"\u001b[0m: \u001b[32m\"The video concludes with a strong caution against impulsive buying. The speaker emphasizes the \u001b[0m\n",
       "\u001b[32mimportance of individual research, establishing a clear risk management plan, and knowing your entry and exit \u001b[0m\n",
       "\u001b[32mpoints. He reiterates that FOMO is a poor reason to invest and encourages viewers to use the supplementary \u001b[0m\n",
       "\u001b[32mmaterials, like the workbook, to make informed decisions.\"\u001b[0m\n",
       "    \u001b[1m}\u001b[0m\n",
       "  \u001b[1m]\u001b[0m,\n",
       "  \u001b[32m\"key_facts\"\u001b[0m: \u001b[1m[\u001b[0m\n",
       "    \u001b[32m\"The stock in focus is Intel \u001b[0m\u001b[32m(\u001b[0m\u001b[32mINTC\u001b[0m\u001b[32m)\u001b[0m\u001b[32m.\"\u001b[0m,\n",
       "    \u001b[32m\"The stock is down approximately 60% from its highs.\"\u001b[0m,\n",
       "    \u001b[32m\"The US government has granted Intel around $7.8 billion to build domestic chip foundries.\"\u001b[0m,\n",
       "    \u001b[32m\"Intel's new leadership is targeting $10 billion in cost savings.\"\u001b[0m,\n",
       "    \u001b[32m\"Intel's new chips are claimed to be 50% cheaper to run than Nvidia's for the same inference output.\"\u001b[0m,\n",
       "    \u001b[32m\"The global third-party foundry market is valued at $80 billion.\"\u001b[0m,\n",
       "    \u001b[32m\"Analysts see a potential for a 3-5x return on Intel stock in the coming years.\"\u001b[0m,\n",
       "    \u001b[32m\"The stock has been in a sideways consolidation pattern for about one year.\"\u001b[0m,\n",
       "    \u001b[32m\"A key technical resistance level for the stock is at $25.\"\u001b[0m,\n",
       "    \u001b[32m\"The proposed entry point is a breakout above the recent high of $27.50.\"\u001b[0m\n",
       "  \u001b[1m]\u001b[0m,\n",
       "  \u001b[32m\"takeaways\"\u001b[0m: \u001b[1m[\u001b[0m\n",
       "    \u001b[32m\"Intel presents a potential turnaround opportunity based on five key fundamental drivers: government support, \u001b[0m\n",
       "\u001b[32mcost-cutting, the AI PC cycle, foundry business expansion, and low valuation.\"\u001b[0m,\n",
       "    \u001b[32m\"Technical analysis is critical for timing an entry. A long consolidation period, like the one Intel is in, can\u001b[0m\n",
       "\u001b[32mprecede a significant breakout.\"\u001b[0m,\n",
       "    \u001b[32m\"Patience is key; instead of buying into the consolidation, a more prudent strategy is to wait for a confirmed \u001b[0m\n",
       "\u001b[32mbreakout above a key resistance level \u001b[0m\u001b[32m(\u001b[0m\u001b[32m$27.50\u001b[0m\u001b[32m)\u001b[0m\u001b[32m on high volume.\"\u001b[0m,\n",
       "    \u001b[32m\"Always conduct your own due diligence and establish a personal risk management plan before investing in any \u001b[0m\n",
       "\u001b[32mstock.\"\u001b[0m,\n",
       "    \u001b[32m\"Institutional buying, as seen in Darkpool data, can be a strong indicator of underlying strength in a stock.\"\u001b[0m\n",
       "  \u001b[1m]\u001b[0m,\n",
       "  \u001b[32m\"overall_summary\"\u001b[0m: \u001b[32m\"The video presents a bullish investment thesis for Intel \u001b[0m\u001b[32m(\u001b[0m\u001b[32mINTC\u001b[0m\u001b[32m)\u001b[0m\u001b[32m, a stock that has fallen \u001b[0m\n",
       "\u001b[32msignificantly from its peak. The speaker outlines five fundamental reasons for optimism: substantial US government \u001b[0m\n",
       "\u001b[32mgrants to bolster domestic chip manufacturing, a new leadership team focused on $10 billion in cost savings, the \u001b[0m\n",
       "\u001b[32mimpending AI-driven PC refresh cycle, a multi-billion dollar investment to build a foundry business to compete with\u001b[0m\n",
       "\u001b[32mTSMC, and a compelling valuation that suggests a potential 3-5x return. The analysis then shifts to the technicals,\u001b[0m\n",
       "\u001b[32mhighlighting a year-long sideways consolidation period which often precedes a major price move. The speaker advises\u001b[0m\n",
       "\u001b[32magainst buying immediately, pointing to a strong resistance level at $25. The recommended strategy is to wait for a\u001b[0m\n",
       "\u001b[32mdecisive breakout above the recent high of $27.50 on strong volume, which would confirm the start of a new uptrend.\u001b[0m\n",
       "\u001b[32mThe video concludes by stressing the importance of personal research, risk management, and avoiding investment \u001b[0m\n",
       "\u001b[32mdecisions based on FOMO.\"\u001b[0m\n",
       "\u001b[1m}\u001b[0m\n"
      ]
     },
     "metadata": {},
     "output_type": "display_data"
    }
   ],
   "source": [
    "import os\n",
    "\n",
    "from dotenv import load_dotenv\n",
    "from google.genai import Client, types\n",
    "from pydantic import BaseModel, Field\n",
    "from rich import print\n",
    "\n",
    "load_dotenv()\n",
    "\n",
    "\n",
    "class Chapter(BaseModel):\n",
    "    header: str = Field(description=\"A descriptive title for the chapter\")\n",
    "    key_points: list[str] = Field(description=\"Important takeaways and insights from this chapter\")\n",
    "    summary: str = Field(description=\"A comprehensive summary of the chapter content\")\n",
    "\n",
    "\n",
    "class Analysis(BaseModel):\n",
    "    title: str = Field(description=\"The main title or topic of the video content\")\n",
    "    chapters: list[Chapter] = Field(description=\"Structured breakdown of content into logical chapters\")\n",
    "    key_facts: list[str] = Field(description=\"Important facts, statistics, or data points mentioned\")\n",
    "    takeaways: list[str] = Field(description=\"Key insights and actionable takeaways for the audience\")\n",
    "    overall_summary: str = Field(description=\"A comprehensive summary synthesizing all chapters, facts, and themes\")\n",
    "\n",
    "\n",
    "client = Client(api_key=os.getenv(\"GEMINI_API_KEY\"))\n",
    "\n",
    "response = client.models.generate_content(\n",
    "    model=\"models/gemini-2.5-pro\",\n",
    "    contents=types.Content(\n",
    "        parts=[types.Part(text=caption)],\n",
    "    ),\n",
    "    config=types.GenerateContentConfig(\n",
    "        temperature=0,\n",
    "        response_mime_type=\"application/json\",\n",
    "        response_schema=Analysis,\n",
    "        thinking_config=types.ThinkingConfig(thinking_budget=2048),\n",
    "    ),\n",
    ")\n",
    "\n",
    "print(response.text)"
   ]
  }
 ],
 "metadata": {
  "kernelspec": {
   "display_name": "base",
   "language": "python",
   "name": "python3"
  },
  "language_info": {
   "codemirror_mode": {
    "name": "ipython",
    "version": 3
   },
   "file_extension": ".py",
   "mimetype": "text/x-python",
   "name": "python",
   "nbconvert_exporter": "python",
   "pygments_lexer": "ipython3",
   "version": "3.12.2"
  }
 },
 "nbformat": 4,
 "nbformat_minor": 5
}
