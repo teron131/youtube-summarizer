{
 "cells": [
  {
   "cell_type": "code",
   "execution_count": null,
   "id": "418c66e6",
   "metadata": {},
   "outputs": [],
   "source": [
    "from youtube_summarizer.summarizer import quick_summary\n",
    "\n",
    "quick_summary(\n",
    "    \"\"\"\n",
    "Test\n",
    "\"\"\"\n",
    ")"
   ]
  }
 ],
 "metadata": {
  "kernelspec": {
   "display_name": ".venv",
   "language": "python",
   "name": "python3"
  },
  "language_info": {
   "name": "python",
   "version": "3.12.2"
  }
 },
 "nbformat": 4,
 "nbformat_minor": 5
}
