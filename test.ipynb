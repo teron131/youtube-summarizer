{
 "cells": [
  {
   "cell_type": "code",
   "execution_count": null,
   "id": "d8c0e68f",
   "metadata": {},
   "outputs": [
    {
     "name": "stdout",
     "output_type": "stream",
     "text": [
      "[{\n",
      "  \"id\": \"iYT2haVIgSM\",\n",
      "  \"thumbnail\": \"https://img.youtube.com/vi/iYT2haVIgSM/maxresdefault.jpg\",\n",
      "  \"url\": \"https://www.youtube.com/watch?v=iYT2haVIgSM\",\n",
      "  \"type\": \"video\",\n",
      "  \"title\": \"Getting Started with the NVIDIA Jetson AGX Thor Developer Kit for Physical AI\",\n",
      "  \"description\": \"The NVIDIA Jetson AGX Thor Developer Kit is the ultimate developer resource for building the future of humanoid robotics and next-generation physical AI applications. Powered by the advanced NVIDIA Blackwell GPU and 128 GB of memory,  it delivers up to 2070 FP4 TFLOPS of AI performance—all within a 130 W power envelope. \\n\\nThis video walks you through how to power on and set up the device for the first time (first boot tutorial). It also covers key features, specifications, and components, and the latest NVIDIA workflows using NVIDIA Isaac GR00T N1, the NVIDIA Blueprint for Video Search and Summarization (VSS), and NVIDIA Holoscan Sensor Bridge.\\n \\n➡️ Learn more: NVIDIA Jetson Thor Platform: https://www.nvidia.com/en-us/autonomo... \\n\\n📝 Read the technical blog post: Introducing NVIDIA Jetson Thor, the Ultimate Platform for Physical AI: https://developer.nvidia.com/blog/int... \\n\\n📥 Download NVIDIA Jetpack 7: https://developer.nvidia.com/embedded... \\n\\n00:05 – Introduction\\n01:01 – What’s in the Box\\n01:25 – Hardware Overview\\n02:15 – First Power and Boot\\n02:54 – The NVIDIA Software Stack\\n03:54 – Isaac GR00T N1\\n4:16 – Video Search and Summarization\\n5:04 – NVIDIA Holoscan\\n6:05 –Conclusion\\n\\nNVIDIA, NVIDIA Jetson Thor, Physical AI, Humanoid Robots, #NVIDIARobotics, #NVIDIAJetson\",\n",
      "  \"commentCountInt\": null,\n",
      "  \"likeCountText\": \"569\",\n",
      "  \"likeCountInt\": 569,\n",
      "  \"viewCountText\": \"19,814\",\n",
      "  \"viewCountInt\": 19814,\n",
      "  \"publishDateText\": \"Aug 25, 2025\",\n",
      "  \"publishDate\": \"2025-08-25T08:01:11-07:00\",\n",
      "  \"channel\": {\n",
      "    \"id\": \"UCBHcMCGaiJhv-ESTcWGJPcw\",\n",
      "    \"url\": \"https://www.youtube.com/@NVIDIADeveloper\",\n",
      "    \"handle\": \"NVIDIADeveloper\",\n",
      "    \"title\": \"NVIDIA Developer\"\n",
      "  },\n",
      "  \"chapters\": [\n",
      "    {\n",
      "      \"title\": \"Introduction\",\n",
      "      \"timeDescription\": \"0:05\",\n",
      "      \"startSeconds\": 5\n",
      "    },\n",
      "    {\n",
      "      \"title\": \"What’s in the Box\",\n",
      "      \"timeDescription\": \"1:01\",\n",
      "      \"startSeconds\": 61\n",
      "    },\n",
      "    {\n",
      "      \"title\": \"Hardware Overview\",\n",
      "      \"timeDescription\": \"1:25\",\n",
      "      \"startSeconds\": 85\n",
      "    },\n",
      "    {\n",
      "      \"title\": \"First Power and Boot\",\n",
      "      \"timeDescription\": \"2:15\",\n",
      "      \"startSeconds\": 135\n",
      "    },\n",
      "    {\n",
      "      \"title\": \"The NVIDIA Software Stack\",\n",
      "      \"timeDescription\": \"2:54\",\n",
      "      \"startSeconds\": 174\n",
      "    },\n",
      "    {\n",
      "      \"title\": \"Isaac GR00T N1\",\n",
      "      \"timeDescription\": \"3:54\",\n",
      "      \"startSeconds\": 234\n",
      "    },\n",
      "    {\n",
      "      \"title\": \"Video Search and Summarization\",\n",
      "      \"timeDescription\": \"4:16\",\n",
      "      \"startSeconds\": 256\n",
      "    },\n",
      "    {\n",
      "      \"title\": \"NVIDIA Holoscan\",\n",
      "      \"timeDescription\": \"5:04\",\n",
      "      \"startSeconds\": 304\n",
      "    },\n",
      "    {\n",
      "      \"title\": \"Conclusion\",\n",
      "      \"timeDescription\": \"6:05\",\n",
      "      \"startSeconds\": 365\n",
      "    }\n",
      "  ],\n",
      "  \"watchNextVideos\": [\n",
      "    {\n",
      "      \"id\": \"_2NijXqBESI\",\n",
      "      \"title\": \"The Physical Turing Test: Jim Fan on Nvidia's Roadmap for Embodied AI\",\n",
      "      \"thumbnail\": \"https://i.ytimg.com/vi/_2NijXqBESI/hqdefault.jpg?sqp=-oaymwEbCKgBEF5IVfKriqkDDggBFQAAiEIYAXABwAEG&rs=AOn4CLDhDFunF4zWqtPXRDocT3z8PGRatg\",\n",
      "      \"channel\": {\n",
      "        \"title\": \"Sequoia Capital\",\n",
      "        \"url\": \"https://www.youtube.com/@sequoiacapital\",\n",
      "        \"handle\": \"sequoiacapital\",\n",
      "        \"id\": \"UCWrF0oN6unbXrWsTN7RctTw\"\n",
      "      },\n",
      "      \"publishedTimeText\": \"3 months ago\",\n",
      "      \"publishedTime\": \"2025-05-27T09:44:32.489Z\",\n",
      "      \"publishDateText\": \"3 months ago\",\n",
      "      \"publishDate\": \"2025-05-27T09:44:32.489Z\",\n",
      "      \"viewCountText\": \"395K views\",\n",
      "      \"viewCountInt\": 395000,\n",
      "      \"lengthText\": \"17:34\",\n",
      "      \"lengthInSeconds\": 1054,\n",
      "      \"videoUrl\": \"https://www.youtube.com/watch?v=_2NijXqBESI\"\n",
      "    },\n",
      "    {\n",
      "      \"id\": \"ZjX1-f9U2As\",\n",
      "      \"title\": \"Elon Musk Just Made Huge Predictions (NEW)\",\n",
      "      \"thumbnail\": \"https://i.ytimg.com/vi/ZjX1-f9U2As/hqdefault.jpg?sqp=-oaymwEbCKgBEF5IVfKriqkDDggBFQAAiEIYAXABwAEG&rs=AOn4CLAUI7FzzU6PF4VNGrovphlNxQtrPQ\",\n",
      "      \"channel\": {\n",
      "        \"title\": \"Farzad\",\n",
      "        \"url\": \"https://www.youtube.com/@FarzadMediaINC\",\n",
      "        \"handle\": \"FarzadMediaINC\",\n",
      "        \"id\": \"UCgbyN_o-Guwpyqfuuz3pyIw\"\n",
      "      },\n",
      "      \"publishedTimeText\": \"1 day ago\",\n",
      "      \"publishedTime\": \"2025-08-26T09:44:32.489Z\",\n",
      "      \"publishDateText\": \"1 day ago\",\n",
      "      \"publishDate\": \"2025-08-26T09:44:32.489Z\",\n",
      "      \"viewCountText\": \"133K views\",\n",
      "      \"viewCountInt\": 133000,\n",
      "      \"lengthText\": \"20:11\",\n",
      "      \"lengthInSeconds\": 1211,\n",
      "      \"videoUrl\": \"https://www.youtube.com/watch?v=ZjX1-f9U2As\"\n",
      "    },\n",
      "    {\n",
      "      \"id\": \"-gPL9EA2pP8\",\n",
      "      \"title\": \"Gemini 2.5 Flash Image is Insane... (Nano Banana Released!)\",\n",
      "      \"thumbnail\": \"https://i9.ytimg.com/vi/-gPL9EA2pP8/hqdefault_custom_1.jpg?sqp=CPCku8UG-oaymwEbCKgBEF5IVfKriqkDDggBFQAAiEIYAXABwAEG&rs=AOn4CLCcigou-ceOE8c7vzsGKYOpx3002Q\",\n",
      "      \"channel\": {\n",
      "        \"title\": \"Matthew Berman\",\n",
      "        \"url\": \"https://www.youtube.com/@matthew_berman\",\n",
      "        \"handle\": \"matthew_berman\",\n",
      "        \"id\": \"UCawZsQWqfGSbCI5yjkdVkTA\"\n",
      "      },\n",
      "      \"publishedTimeText\": \"9 hours ago\",\n",
      "      \"publishedTime\": \"2025-08-27T09:44:32.489Z\",\n",
      "      \"publishDateText\": \"9 hours ago\",\n",
      "      \"publishDate\": \"2025-08-27T09:44:32.489Z\",\n",
      "      \"viewCountText\": \"23K views\",\n",
      "      \"viewCountInt\": 23000,\n",
      "      \"lengthText\": \"18:31\",\n",
      "      \"lengthInSeconds\": 1111,\n",
      "      \"videoUrl\": \"https://www.youtube.com/watch?v=-gPL9EA2pP8\"\n",
      "    },\n",
      "    {\n",
      "      \"id\": \"cgnKUUcCKcs\",\n",
      "      \"title\": \"More Spark than Spark?? Jetson  THOR T5000: 128gb, Blackwell / 14 Core Arm and the Future of DotDot!\",\n",
      "      \"thumbnail\": \"https://i.ytimg.com/vi/cgnKUUcCKcs/hqdefault.jpg?sqp=-oaymwEbCKgBEF5IVfKriqkDDggBFQAAiEIYAXABwAEG&rs=AOn4CLBYyLscrD7Ggh-0p2NfuV17nBUADA\",\n",
      "      \"channel\": {\n",
      "        \"title\": \"Level1Techs\",\n",
      "        \"url\": \"https://www.youtube.com/@Level1Techs\",\n",
      "        \"handle\": \"Level1Techs\",\n",
      "        \"id\": \"UC4w1YQAJMWOz4qtxinq55LQ\"\n",
      "      },\n",
      "      \"publishedTimeText\": \"1 day ago\",\n",
      "      \"publishedTime\": \"2025-08-26T09:44:32.489Z\",\n",
      "      \"publishDateText\": \"1 day ago\",\n",
      "      \"publishDate\": \"2025-08-26T09:44:32.489Z\",\n",
      "      \"viewCountText\": \"17K views\",\n",
      "      \"viewCountInt\": 17000,\n",
      "      \"lengthText\": \"19:53\",\n",
      "      \"lengthInSeconds\": 1193,\n",
      "      \"videoUrl\": \"https://www.youtube.com/watch?v=cgnKUUcCKcs\"\n",
      "    },\n",
      "    {\n",
      "      \"id\": \"TCDydWl46Ok\",\n",
      "      \"title\": \"I Finally Upgraded to Multi-Gig (And You Probably Shouldn't)\",\n",
      "      \"thumbnail\": \"https://i9.ytimg.com/vi/TCDydWl46Ok/hqdefault_custom_1.jpg?sqp=CPCku8UG-oaymwEbCKgBEF5IVfKriqkDDggBFQAAiEIYAXABwAEG&rs=AOn4CLCBmSENLUfQIikJGiKa9oDstC_Nmg\",\n",
      "      \"channel\": {\n",
      "        \"title\": \"Snazzy Labs\",\n",
      "        \"url\": \"https://www.youtube.com/@snazzy\",\n",
      "        \"handle\": \"snazzy\",\n",
      "        \"id\": \"UCO2x-p9gg9TLKneXlibGR7w\"\n",
      "      },\n",
      "      \"publishedTimeText\": \"15 hours ago\",\n",
      "      \"publishedTime\": \"2025-08-27T09:44:32.489Z\",\n",
      "      \"publishDateText\": \"15 hours ago\",\n",
      "      \"publishDate\": \"2025-08-27T09:44:32.489Z\",\n",
      "      \"viewCountText\": \"61K views\",\n",
      "      \"viewCountInt\": 61000,\n",
      "      \"lengthText\": \"22:31\",\n",
      "      \"lengthInSeconds\": 1351,\n",
      "      \"videoUrl\": \"https://www.youtube.com/watch?v=TCDydWl46Ok\"\n",
      "    },\n",
      "    {\n",
      "      \"id\": \"Ju0ndy2kwlw\",\n",
      "      \"title\": \"I built an AI supercomputer with 5 Mac Studios\",\n",
      "      \"thumbnail\": \"https://i.ytimg.com/vi/Ju0ndy2kwlw/hqdefault.jpg?sqp=-oaymwEbCKgBEF5IVfKriqkDDggBFQAAiEIYAXABwAEG&rs=AOn4CLC5beSd-1DD4qzf5V-n3EHKbNAIEg\",\n",
      "      \"channel\": {\n",
      "        \"title\": \"NetworkChuck\",\n",
      "        \"url\": \"https://www.youtube.com/@NetworkChuck\",\n",
      "        \"handle\": \"NetworkChuck\",\n",
      "        \"id\": \"UC9x0AN7BWHpCDHSm9NiJFJQ\"\n",
      "      },\n",
      "      \"publishedTimeText\": \"6 months ago\",\n",
      "      \"publishedTime\": \"2025-02-27T09:44:32.489Z\",\n",
      "      \"publishDateText\": \"6 months ago\",\n",
      "      \"publishDate\": \"2025-02-27T09:44:32.489Z\",\n",
      "      \"viewCountText\": \"1.5M views\",\n",
      "      \"viewCountInt\": 1500000,\n",
      "      \"lengthText\": \"34:57\",\n",
      "      \"lengthInSeconds\": 2097,\n",
      "      \"videoUrl\": \"https://www.youtube.com/watch?v=Ju0ndy2kwlw\"\n",
      "    },\n",
      "    {\n",
      "      \"id\": \"T17bpGItqXw\",\n",
      "      \"title\": \"AI and You Against the Machine: Guide so you can own Big AI and Run Local\",\n",
      "      \"thumbnail\": \"https://i.ytimg.com/vi/T17bpGItqXw/hqdefault.jpg?sqp=-oaymwEbCKgBEF5IVfKriqkDDggBFQAAiEIYAXABwAEG&rs=AOn4CLClvt7IuMKEJoLVnjS4rZfqlxBEfQ\",\n",
      "      \"channel\": {\n",
      "        \"title\": \"Level1Techs\",\n",
      "        \"url\": \"https://www.youtube.com/@Level1Techs\",\n",
      "        \"handle\": \"Level1Techs\",\n",
      "        \"id\": \"UC4w1YQAJMWOz4qtxinq55LQ\"\n",
      "      },\n",
      "      \"publishedTimeText\": \"1 month ago\",\n",
      "      \"publishedTime\": \"2025-07-27T09:44:32.489Z\",\n",
      "      \"publishDateText\": \"1 month ago\",\n",
      "      \"publishDate\": \"2025-07-27T09:44:32.489Z\",\n",
      "      \"viewCountText\": \"150K views\",\n",
      "      \"viewCountInt\": 150000,\n",
      "      \"lengthText\": \"15:05\",\n",
      "      \"lengthInSeconds\": 905,\n",
      "      \"videoUrl\": \"https://www.youtube.com/watch?v=T17bpGItqXw\"\n",
      "    },\n",
      "    {\n",
      "      \"id\": \"FVPE5zCte_E\",\n",
      "      \"title\": \"NVIDIA Jetson AGX Thor Hands-On: King of Embedded AI Power?\",\n",
      "      \"thumbnail\": \"https://i.ytimg.com/vi/FVPE5zCte_E/hqdefault.jpg?sqp=-oaymwEbCKgBEF5IVfKriqkDDggBFQAAiEIYAXABwAEG&rs=AOn4CLCr7Bk-y0jmtiKGFt3T-FBndPdTuw\",\n",
      "      \"channel\": {\n",
      "        \"title\": \"JetsonHacks\",\n",
      "        \"url\": \"https://www.youtube.com/@JetsonHacks\",\n",
      "        \"handle\": \"JetsonHacks\",\n",
      "        \"id\": \"UCQs0lwV6E4p7LQaGJ6fgy5Q\"\n",
      "      },\n",
      "      \"publishedTimeText\": \"1 day ago\",\n",
      "      \"publishedTime\": \"2025-08-26T09:44:32.489Z\",\n",
      "      \"publishDateText\": \"1 day ago\",\n",
      "      \"publishDate\": \"2025-08-26T09:44:32.489Z\",\n",
      "      \"viewCountText\": \"13K views\",\n",
      "      \"viewCountInt\": 13000,\n",
      "      \"lengthText\": \"14:15\",\n",
      "      \"lengthInSeconds\": 855,\n",
      "      \"videoUrl\": \"https://www.youtube.com/watch?v=FVPE5zCte_E\"\n",
      "    },\n",
      "    {\n",
      "      \"id\": \"b5EYygvegjs\",\n",
      "      \"title\": \"SpaceX Just Had Their Most Stunning Launch Yet (HIGHLIGHTS)\",\n",
      "      \"thumbnail\": \"https://i9.ytimg.com/vi/b5EYygvegjs/hqdefault_custom_1.jpg?sqp=CPCku8UG-oaymwEbCKgBEF5IVfKriqkDDggBFQAAiEIYAXABwAEG&rs=AOn4CLCjzOR_5FJS69KK4G9schB6bWaHng\",\n",
      "      \"channel\": {\n",
      "        \"title\": \"Farzad\",\n",
      "        \"url\": \"https://www.youtube.com/@FarzadMediaINC\",\n",
      "        \"handle\": \"FarzadMediaINC\",\n",
      "        \"id\": \"UCgbyN_o-Guwpyqfuuz3pyIw\"\n",
      "      },\n",
      "      \"publishedTimeText\": \"8 hours ago\",\n",
      "      \"publishedTime\": \"2025-08-27T09:44:32.489Z\",\n",
      "      \"publishDateText\": \"8 hours ago\",\n",
      "      \"publishDate\": \"2025-08-27T09:44:32.489Z\",\n",
      "      \"viewCountText\": \"74K views\",\n",
      "      \"viewCountInt\": 74000,\n",
      "      \"lengthText\": \"36:02\",\n",
      "      \"lengthInSeconds\": 2162,\n",
      "      \"videoUrl\": \"https://www.youtube.com/watch?v=b5EYygvegjs\"\n",
      "    },\n",
      "    {\n",
      "      \"id\": \"N5xhOqlvRh4\",\n",
      "      \"title\": \"I built a private AI mini-cluster with Framework Desktop\",\n",
      "      \"thumbnail\": \"https://i.ytimg.com/vi/N5xhOqlvRh4/hqdefault.jpg?sqp=-oaymwEbCKgBEF5IVfKriqkDDggBFQAAiEIYAXABwAEG&rs=AOn4CLB--Z99B8gPylIsWH-Zciun_NxGSg\",\n",
      "      \"channel\": {\n",
      "        \"title\": \"Jeff Geerling\",\n",
      "        \"url\": \"https://www.youtube.com/@JeffGeerling\",\n",
      "        \"handle\": \"JeffGeerling\",\n",
      "        \"id\": \"UCR-DXc1voovS8nhAvccRZhg\"\n",
      "      },\n",
      "      \"publishedTimeText\": \"2 weeks ago\",\n",
      "      \"publishedTime\": \"2025-08-13T09:44:32.489Z\",\n",
      "      \"publishDateText\": \"2 weeks ago\",\n",
      "      \"publishDate\": \"2025-08-13T09:44:32.489Z\",\n",
      "      \"viewCountText\": \"527K views\",\n",
      "      \"viewCountInt\": 527000,\n",
      "      \"lengthText\": \"20:02\",\n",
      "      \"lengthInSeconds\": 1202,\n",
      "      \"videoUrl\": \"https://www.youtube.com/watch?v=N5xhOqlvRh4\"\n",
      "    },\n",
      "    {\n",
      "      \"id\": \"KZeIEiBrT_w\",\n",
      "      \"title\": \"The Strange Math That Predicts (Almost) Anything\",\n",
      "      \"thumbnail\": \"https://i.ytimg.com/vi/KZeIEiBrT_w/hqdefault.jpg?sqp=-oaymwEbCKgBEF5IVfKriqkDDggBFQAAiEIYAXABwAEG&rs=AOn4CLD9lKVF6qDtVKvfBjjlfHZRWIFfmQ\",\n",
      "      \"channel\": {\n",
      "        \"title\": \"Veritasium\",\n",
      "        \"url\": \"https://www.youtube.com/@veritasium\",\n",
      "        \"handle\": \"veritasium\",\n",
      "        \"id\": \"UCHnyfMqiRRG1u-2MsSQLbXA\"\n",
      "      },\n",
      "      \"publishedTimeText\": \"1 month ago\",\n",
      "      \"publishedTime\": \"2025-07-27T09:44:32.489Z\",\n",
      "      \"publishDateText\": \"1 month ago\",\n",
      "      \"publishDate\": \"2025-07-27T09:44:32.489Z\",\n",
      "      \"viewCountText\": \"7.2M views\",\n",
      "      \"viewCountInt\": 7200000,\n",
      "      \"lengthText\": \"32:32\",\n",
      "      \"lengthInSeconds\": 1952,\n",
      "      \"videoUrl\": \"https://www.youtube.com/watch?v=KZeIEiBrT_w\"\n",
      "    },\n",
      "    {\n",
      "      \"id\": \"xhiAFOOHFXg\",\n",
      "      \"title\": \"These NEW Smart Glasses Top Ray Ban Meta, Google XR, And Apple!\",\n",
      "      \"thumbnail\": \"https://i9.ytimg.com/vi/xhiAFOOHFXg/hqdefault_custom_2.jpg?sqp=CPCku8UG-oaymwEbCKgBEF5IVfKriqkDDggBFQAAiEIYAXABwAEG&rs=AOn4CLAh6HDsxsU880x8QxRLN7tAz4Ekmw\",\n",
      "      \"channel\": {\n",
      "        \"title\": \"Steven Sullivan\",\n",
      "        \"url\": \"https://www.youtube.com/@MetaMutt\",\n",
      "        \"handle\": \"MetaMutt\",\n",
      "        \"id\": \"UCTecoCovL-9_f59o888a1cA\"\n",
      "      },\n",
      "      \"publishedTimeText\": \"4 days ago\",\n",
      "      \"publishedTime\": \"2025-08-23T09:44:32.489Z\",\n",
      "      \"publishDateText\": \"4 days ago\",\n",
      "      \"publishDate\": \"2025-08-23T09:44:32.489Z\",\n",
      "      \"viewCountText\": \"37K views\",\n",
      "      \"viewCountInt\": 37000,\n",
      "      \"lengthText\": \"23:47\",\n",
      "      \"lengthInSeconds\": 1427,\n",
      "      \"videoUrl\": \"https://www.youtube.com/watch?v=xhiAFOOHFXg\"\n",
      "    }\n",
      "  ],\n",
      "  \"keywords\": [],\n",
      "  \"durationMs\": 392000,\n",
      "  \"durationFormatted\": \"00:06:32\",\n",
      "  \"transcript\": [\n",
      "    {\n",
      "      \"text\": \"[Music]\",\n",
      "      \"startMs\": \"5303\",\n",
      "      \"endMs\": \"5840\",\n",
      "      \"startTimeText\": \"0:05\"\n",
      "    },\n",
      "    {\n",
      "      \"text\": \"Hi, I'm Leela with NVIDIA, and this is the Jetson \\nAGX Thor Developer Kit. Jetson Thor is the  \",\n",
      "      \"startMs\": \"5840\",\n",
      "      \"endMs\": \"13200\",\n",
      "      \"startTimeText\": \"0:05\"\n",
      "    },\n",
      "    {\n",
      "      \"text\": \"ultimate platform for humanoid robotics. It's \\npart of NVIDIA's three-computer solution for  \",\n",
      "      \"startMs\": \"13200\",\n",
      "      \"endMs\": \"19279\",\n",
      "      \"startTimeText\": \"0:13\"\n",
      "    },\n",
      "    {\n",
      "      \"text\": \"accelerating physical AI: NVIDIA DGX for \\ntraining, NVIDIA Omniverse for synthetic  \",\n",
      "      \"startMs\": \"19280\",\n",
      "      \"endMs\": \"26400\",\n",
      "      \"startTimeText\": \"0:19\"\n",
      "    },\n",
      "    {\n",
      "      \"text\": \"data generation and physical AI simulation, and \\nNVIDIA Jetson Thor for runtime robotics. Jetson  \",\n",
      "      \"startMs\": \"26400\",\n",
      "      \"endMs\": \"34079\",\n",
      "      \"startTimeText\": \"0:26\"\n",
      "    },\n",
      "    {\n",
      "      \"text\": \"AGX Thor is the ideal runtime computer for any \\nkind of physical AI application, from humanoids  \",\n",
      "      \"startMs\": \"34080\",\n",
      "      \"endMs\": \"40640\",\n",
      "      \"startTimeText\": \"0:34\"\n",
      "    },\n",
      "    {\n",
      "      \"text\": \"to Edge AI agents. It gives you unmatched \\nperformance and scalability in a compact,  \",\n",
      "      \"startMs\": \"40640\",\n",
      "      \"endMs\": \"46400\",\n",
      "      \"startTimeText\": \"0:40\"\n",
      "    },\n",
      "    {\n",
      "      \"text\": \"power-efficient form factor. Plus, it's powered by \\nthe advanced Blackwell GPU and 128 GB of memory,  \",\n",
      "      \"startMs\": \"46400\",\n",
      "      \"endMs\": \"54320\",\n",
      "      \"startTimeText\": \"0:46\"\n",
      "    },\n",
      "    {\n",
      "      \"text\": \"delivering up to 2070 FP4 TFLOPS of AI compute to \\neffortlessly run the latest generative AI models. \",\n",
      "      \"startMs\": \"54320\",\n",
      "      \"endMs\": \"62640\",\n",
      "      \"startTimeText\": \"0:54\"\n",
      "    },\n",
      "    {\n",
      "      \"text\": \"Let's take a closer look at the Jetson AGX Thor \\nDeveloper Kit. It includes a Jetson T5000 module,  \",\n",
      "      \"startMs\": \"62640\",\n",
      "      \"endMs\": \"69920\",\n",
      "      \"startTimeText\": \"1:02\"\n",
      "    },\n",
      "    {\n",
      "      \"text\": \"a reference carrier board, an active \\nheat sink with a fan, and a power supply.  \",\n",
      "      \"startMs\": \"69920\",\n",
      "      \"endMs\": \"77119\",\n",
      "      \"startTimeText\": \"1:09\"\n",
      "    },\n",
      "    {\n",
      "      \"text\": \"If you want to set up with a monitor, you'll \\nneed to provide a computer display, keyboard,  \",\n",
      "      \"startMs\": \"77120\",\n",
      "      \"endMs\": \"82880\",\n",
      "      \"startTimeText\": \"1:17\"\n",
      "    },\n",
      "    {\n",
      "      \"text\": \"and mouse to get started. To make your setup \\nprocess as smooth as possible, we've conveniently  \",\n",
      "      \"startMs\": \"82880\",\n",
      "      \"endMs\": \"89119\",\n",
      "      \"startTimeText\": \"1:22\"\n",
      "    },\n",
      "    {\n",
      "      \"text\": \"placed all the I/O ports on one side of the \\nboard. This thoughtful design choice makes it  \",\n",
      "      \"startMs\": \"89120\",\n",
      "      \"endMs\": \"94560\",\n",
      "      \"startTimeText\": \"1:29\"\n",
      "    },\n",
      "    {\n",
      "      \"text\": \"super easy to connect your sensors and manage your \\nwiring when building your robot. Starting here,  \",\n",
      "      \"startMs\": \"94560\",\n",
      "      \"endMs\": \"100320\",\n",
      "      \"startTimeText\": \"1:34\"\n",
      "    },\n",
      "    {\n",
      "      \"text\": \"we see two USB-A ports, an Ethernet port, a \\nDisplayPort, an HDMI port, two USB-C ports,  \",\n",
      "      \"startMs\": \"100320\",\n",
      "      \"endMs\": \"110320\",\n",
      "      \"startTimeText\": \"1:40\"\n",
      "    },\n",
      "    {\n",
      "      \"text\": \"a QSFP slot, and a Micro-Fit port for extending \\nthe board's power if needed. Under the developer  \",\n",
      "      \"startMs\": \"110320\",\n",
      "      \"endMs\": \"117600\",\n",
      "      \"startTimeText\": \"1:50\"\n",
      "    },\n",
      "    {\n",
      "      \"text\": \"kit, we have an M.2 key M slot with a populated \\n1TB NVMe storage and an M.2 key E slot with a  \",\n",
      "      \"startMs\": \"117600\",\n",
      "      \"endMs\": \"125600\",\n",
      "      \"startTimeText\": \"1:57\"\n",
      "    },\n",
      "    {\n",
      "      \"text\": \"pre-installed wireless networking card. On the \\nother side of the developer kit, there are three  \",\n",
      "      \"startMs\": \"125600\",\n",
      "      \"endMs\": \"131440\",\n",
      "      \"startTimeText\": \"2:05\"\n",
      "    },\n",
      "    {\n",
      "      \"text\": \"buttons for power, force recovery, and reset.\\nIt's easy to get started. In the box is a  \",\n",
      "      \"startMs\": \"131440\",\n",
      "      \"endMs\": \"139200\",\n",
      "      \"startTimeText\": \"2:11\"\n",
      "    },\n",
      "    {\n",
      "      \"text\": \"small booklet that includes a link \\nto step-by-step instructions. First,  \",\n",
      "      \"startMs\": \"139200\",\n",
      "      \"endMs\": \"143920\",\n",
      "      \"startTimeText\": \"2:19\"\n",
      "    },\n",
      "    {\n",
      "      \"text\": \"download the latest NVIDIA JetPack 7 ISO image \\nfrom the JetPack SDK download page and flash it  \",\n",
      "      \"startMs\": \"143920\",\n",
      "      \"endMs\": \"150240\",\n",
      "      \"startTimeText\": \"2:23\"\n",
      "    },\n",
      "    {\n",
      "      \"text\": \"to a USB drive to install on your developer kit. \\nAfter attaching your monitor, keyboard, and mouse,  \",\n",
      "      \"startMs\": \"150240\",\n",
      "      \"endMs\": \"157040\",\n",
      "      \"startTimeText\": \"2:30\"\n",
      "    },\n",
      "    {\n",
      "      \"text\": \"just connect the power supply and your developer \\nkit will power on automatically. On first boot,  \",\n",
      "      \"startMs\": \"157040\",\n",
      "      \"endMs\": \"163680\",\n",
      "      \"startTimeText\": \"2:37\"\n",
      "    },\n",
      "    {\n",
      "      \"text\": \"you'll be prompted to choose a username, \\npassword, and other basic information.  \",\n",
      "      \"startMs\": \"163680\",\n",
      "      \"endMs\": \"168640\",\n",
      "      \"startTimeText\": \"2:43\"\n",
      "    },\n",
      "    {\n",
      "      \"text\": \"You can also set up your Wi-Fi at this time.\\nJetson Thor delivers a seamless cloud-to-edge  \",\n",
      "      \"startMs\": \"168640\",\n",
      "      \"endMs\": \"177200\",\n",
      "      \"startTimeText\": \"2:48\"\n",
      "    },\n",
      "    {\n",
      "      \"text\": \"experience by running the NVIDIA AI software stack \\nfor physical AI applications. This includes NVIDIA  \",\n",
      "      \"startMs\": \"177200\",\n",
      "      \"endMs\": \"184480\",\n",
      "      \"startTimeText\": \"2:57\"\n",
      "    },\n",
      "    {\n",
      "      \"text\": \"Isaac for robotics, NVIDIA Metropolis for video \\nanalytics AI agents, and NVIDIA Holoscan for  \",\n",
      "      \"startMs\": \"184480\",\n",
      "      \"endMs\": \"191360\",\n",
      "      \"startTimeText\": \"3:04\"\n",
      "    },\n",
      "    {\n",
      "      \"text\": \"sensor processing. With up to 7.5x the performance \\nof Jetson AGX Orin, Jetson Thor can run all modern  \",\n",
      "      \"startMs\": \"191360\",\n",
      "      \"endMs\": \"199040\",\n",
      "      \"startTimeText\": \"3:11\"\n",
      "    },\n",
      "    {\n",
      "      \"text\": \"AI models from vision-language-action models \\nlike NVIDIA Isaac GR00T N1 to all popular LLMs  \",\n",
      "      \"startMs\": \"199040\",\n",
      "      \"endMs\": \"206560\",\n",
      "      \"startTimeText\": \"3:19\"\n",
      "    },\n",
      "    {\n",
      "      \"text\": \"and VLMs. NVIDIA Isaac GR00Tis redefining the \\nfuture of robotics with four key pillars: robotic  \",\n",
      "      \"startMs\": \"206560\",\n",
      "      \"endMs\": \"214480\",\n",
      "      \"startTimeText\": \"3:26\"\n",
      "    },\n",
      "    {\n",
      "      \"text\": \"foundational models, synthetic data pipelines, a \\nsimulation environment, and a runtime computer.  \",\n",
      "      \"startMs\": \"214480\",\n",
      "      \"endMs\": \"225440\",\n",
      "      \"startTimeText\": \"3:34\"\n",
      "    },\n",
      "    {\n",
      "      \"text\": \"You can also accelerate your software development \\nby tethering the developer kit directly to any  \",\n",
      "      \"startMs\": \"225440\",\n",
      "      \"endMs\": \"231120\",\n",
      "      \"startTimeText\": \"3:45\"\n",
      "    },\n",
      "    {\n",
      "      \"text\": \"existing robot. Here, NVIDIA Isaac GR00T N1 is \\nrunning on Thor. To show a developer's end-to-end  \",\n",
      "      \"startMs\": \"231120\",\n",
      "      \"endMs\": \"238879\",\n",
      "      \"startTimeText\": \"3:51\"\n",
      "    },\n",
      "    {\n",
      "      \"text\": \"journey, we've fine-tuned GR00T N1 for picking up \\na nut and pouring it in Isaac Sim and Isaac Lab.  \",\n",
      "      \"startMs\": \"238880\",\n",
      "      \"endMs\": \"246080\",\n",
      "      \"startTimeText\": \"3:58\"\n",
      "    },\n",
      "    {\n",
      "      \"text\": \"We've also implemented a hardware-in-the-loop \\nscenario running NVIDIA Omniverse on RTX Pro  \",\n",
      "      \"startMs\": \"246080\",\n",
      "      \"endMs\": \"252560\",\n",
      "      \"startTimeText\": \"4:06\"\n",
      "    },\n",
      "    {\n",
      "      \"text\": \"6000 and inferencing on Jetson Thor.\\nThe AI blueprint for Video Search and  \",\n",
      "      \"startMs\": \"252560\",\n",
      "      \"endMs\": \"259120\",\n",
      "      \"startTimeText\": \"4:12\"\n",
      "    },\n",
      "    {\n",
      "      \"text\": \"Summarization (VSS) from NVIDIA Metropolis gives \\nyou the tools to build and deploy video analytics  \",\n",
      "      \"startMs\": \"259120\",\n",
      "      \"endMs\": \"266960\",\n",
      "      \"startTimeText\": \"4:19\"\n",
      "    },\n",
      "    {\n",
      "      \"text\": \"AI agents that can perform contextualized \\nreal-time alerts, video summarization,  \",\n",
      "      \"startMs\": \"266960\",\n",
      "      \"endMs\": \"273199\",\n",
      "      \"startTimeText\": \"4:26\"\n",
      "    },\n",
      "    {\n",
      "      \"text\": \"and Q&A by analyzing live camera streams. VSS \\nis powering visual agent workforces spanning  \",\n",
      "      \"startMs\": \"273200\",\n",
      "      \"endMs\": \"281280\",\n",
      "      \"startTimeText\": \"4:33\"\n",
      "    },\n",
      "    {\n",
      "      \"text\": \"many use cases, including visual inspection and \\nworker safety in manufacturing, fan engagement  \",\n",
      "      \"startMs\": \"281280\",\n",
      "      \"endMs\": \"288080\",\n",
      "      \"startTimeText\": \"4:41\"\n",
      "    },\n",
      "    {\n",
      "      \"text\": \"and player analytics in live sports, and improved \\nemergency response times for roadway incidents.  \",\n",
      "      \"startMs\": \"288080\",\n",
      "      \"endMs\": \"296080\",\n",
      "      \"startTimeText\": \"4:48\"\n",
      "    },\n",
      "    {\n",
      "      \"text\": \"Here you can see VSS running locally on Jetson \\nThor, making Agentic AI possible for the edge. \",\n",
      "      \"startMs\": \"296080\",\n",
      "      \"endMs\": \"303919\",\n",
      "      \"startTimeText\": \"4:56\"\n",
      "    },\n",
      "    {\n",
      "      \"text\": \"The NVIDIA Holoscan platform is built to simplify \\nand scale edge AI on enterprise-grade hardware,  \",\n",
      "      \"startMs\": \"303920\",\n",
      "      \"endMs\": \"311520\",\n",
      "      \"startTimeText\": \"5:03\"\n",
      "    },\n",
      "    {\n",
      "      \"text\": \"giving you a high-performance edge solution for \\nreal-time AI. With Holoscan Sensor Bridge handling  \",\n",
      "      \"startMs\": \"311520\",\n",
      "      \"endMs\": \"319120\",\n",
      "      \"startTimeText\": \"5:11\"\n",
      "    },\n",
      "    {\n",
      "      \"text\": \"high-throughput I/O from sensors, you can stream \\nsensor data directly into low-latency pipelines  \",\n",
      "      \"startMs\": \"319120\",\n",
      "      \"endMs\": \"326000\",\n",
      "      \"startTimeText\": \"5:19\"\n",
      "    },\n",
      "    {\n",
      "      \"text\": \"and run inference on NVIDIA Thor with minimum CPU \\nusage. Let's take a closer look at a 5-megapixel  \",\n",
      "      \"startMs\": \"326000\",\n",
      "      \"endMs\": \"333520\",\n",
      "      \"startTimeText\": \"5:26\"\n",
      "    },\n",
      "    {\n",
      "      \"text\": \"Holoscan Sensor Bridge Ethernet camera connected \\nto a Jetson Thor running a video language model  \",\n",
      "      \"startMs\": \"333520\",\n",
      "      \"endMs\": \"340080\",\n",
      "      \"startTimeText\": \"5:33\"\n",
      "    },\n",
      "    {\n",
      "      \"text\": \"100% locally. The Holoscan Sensor Bridge camera \\nstreams the 4K stereo cameras directly to the GPU.  \",\n",
      "      \"startMs\": \"340080\",\n",
      "      \"endMs\": \"349360\",\n",
      "      \"startTimeText\": \"5:40\"\n",
      "    },\n",
      "    {\n",
      "      \"text\": \"There, the video frames are sent to a VLM running \\non the edge. This VLM is capable of receiving user  \",\n",
      "      \"startMs\": \"349360\",\n",
      "      \"endMs\": \"356960\",\n",
      "      \"startTimeText\": \"5:49\"\n",
      "    },\n",
      "    {\n",
      "      \"text\": \"requests and creating a step-by-step plan that \\ncan be executed by a downstream robotic policy. \",\n",
      "      \"startMs\": \"356960\",\n",
      "      \"endMs\": \"369199\",\n",
      "      \"startTimeText\": \"5:56\"\n",
      "    },\n",
      "    {\n",
      "      \"text\": \"That's a quick overview of the \\nJetson AGX Thor Developer Kit,  \",\n",
      "      \"startMs\": \"369200\",\n",
      "      \"endMs\": \"373280\",\n",
      "      \"startTimeText\": \"6:09\"\n",
      "    },\n",
      "    {\n",
      "      \"text\": \"the ultimate platform for accelerating physical AI \\nand humanoid robotics. Join the over two million  \",\n",
      "      \"startMs\": \"373280\",\n",
      "      \"endMs\": \"379360\",\n",
      "      \"startTimeText\": \"6:13\"\n",
      "    },\n",
      "    {\n",
      "      \"text\": \"developers who are driving the next generation of \\nrobotics and beyond. Get your developer kit today.\",\n",
      "      \"startMs\": \"379360\",\n",
      "      \"endMs\": \"388400\",\n",
      "      \"startTimeText\": \"6:19\"\n",
      "    }\n",
      "  ],\n",
      "  \"transcript_only_text\": \"[Music] Hi, I'm Leela with NVIDIA, and this is the Jetson \\nAGX Thor Developer Kit. Jetson Thor is the   ultimate platform for humanoid robotics. It's \\npart of NVIDIA's three-computer solution for   accelerating physical AI: NVIDIA DGX for \\ntraining, NVIDIA Omniverse for synthetic   data generation and physical AI simulation, and \\nNVIDIA Jetson Thor for runtime robotics. Jetson   AGX Thor is the ideal runtime computer for any \\nkind of physical AI application, from humanoids   to Edge AI agents. It gives you unmatched \\nperformance and scalability in a compact,   power-efficient form factor. Plus, it's powered by \\nthe advanced Blackwell GPU and 128 GB of memory,   delivering up to 2070 FP4 TFLOPS of AI compute to \\neffortlessly run the latest generative AI models.  Let's take a closer look at the Jetson AGX Thor \\nDeveloper Kit. It includes a Jetson T5000 module,   a reference carrier board, an active \\nheat sink with a fan, and a power supply.   If you want to set up with a monitor, you'll \\nneed to provide a computer display, keyboard,   and mouse to get started. To make your setup \\nprocess as smooth as possible, we've conveniently   placed all the I/O ports on one side of the \\nboard. This thoughtful design choice makes it   super easy to connect your sensors and manage your \\nwiring when building your robot. Starting here,   we see two USB-A ports, an Ethernet port, a \\nDisplayPort, an HDMI port, two USB-C ports,   a QSFP slot, and a Micro-Fit port for extending \\nthe board's power if needed. Under the developer   kit, we have an M.2 key M slot with a populated \\n1TB NVMe storage and an M.2 key E slot with a   pre-installed wireless networking card. On the \\nother side of the developer kit, there are three   buttons for power, force recovery, and reset.\\nIt's easy to get started. In the box is a   small booklet that includes a link \\nto step-by-step instructions. First,   download the latest NVIDIA JetPack 7 ISO image \\nfrom the JetPack SDK download page and flash it   to a USB drive to install on your developer kit. \\nAfter attaching your monitor, keyboard, and mouse,   just connect the power supply and your developer \\nkit will power on automatically. On first boot,   you'll be prompted to choose a username, \\npassword, and other basic information.   You can also set up your Wi-Fi at this time.\\nJetson Thor delivers a seamless cloud-to-edge   experience by running the NVIDIA AI software stack \\nfor physical AI applications. This includes NVIDIA   Isaac for robotics, NVIDIA Metropolis for video \\nanalytics AI agents, and NVIDIA Holoscan for   sensor processing. With up to 7.5x the performance \\nof Jetson AGX Orin, Jetson Thor can run all modern   AI models from vision-language-action models \\nlike NVIDIA Isaac GR00T N1 to all popular LLMs   and VLMs. NVIDIA Isaac GR00Tis redefining the \\nfuture of robotics with four key pillars: robotic   foundational models, synthetic data pipelines, a \\nsimulation environment, and a runtime computer.   You can also accelerate your software development \\nby tethering the developer kit directly to any   existing robot. Here, NVIDIA Isaac GR00T N1 is \\nrunning on Thor. To show a developer's end-to-end   journey, we've fine-tuned GR00T N1 for picking up \\na nut and pouring it in Isaac Sim and Isaac Lab.   We've also implemented a hardware-in-the-loop \\nscenario running NVIDIA Omniverse on RTX Pro   6000 and inferencing on Jetson Thor.\\nThe AI blueprint for Video Search and   Summarization (VSS) from NVIDIA Metropolis gives \\nyou the tools to build and deploy video analytics   AI agents that can perform contextualized \\nreal-time alerts, video summarization,   and Q&A by analyzing live camera streams. VSS \\nis powering visual agent workforces spanning   many use cases, including visual inspection and \\nworker safety in manufacturing, fan engagement   and player analytics in live sports, and improved \\nemergency response times for roadway incidents.   Here you can see VSS running locally on Jetson \\nThor, making Agentic AI possible for the edge.  The NVIDIA Holoscan platform is built to simplify \\nand scale edge AI on enterprise-grade hardware,   giving you a high-performance edge solution for \\nreal-time AI. With Holoscan Sensor Bridge handling   high-throughput I/O from sensors, you can stream \\nsensor data directly into low-latency pipelines   and run inference on NVIDIA Thor with minimum CPU \\nusage. Let's take a closer look at a 5-megapixel   Holoscan Sensor Bridge Ethernet camera connected \\nto a Jetson Thor running a video language model   100% locally. The Holoscan Sensor Bridge camera \\nstreams the 4K stereo cameras directly to the GPU.   There, the video frames are sent to a VLM running \\non the edge. This VLM is capable of receiving user   requests and creating a step-by-step plan that \\ncan be executed by a downstream robotic policy.  That's a quick overview of the \\nJetson AGX Thor Developer Kit,   the ultimate platform for accelerating physical AI \\nand humanoid robotics. Join the over two million   developers who are driving the next generation of \\nrobotics and beyond. Get your developer kit today.\",\n",
      "  \"language\": \"English\"\n",
      "}]\n"
     ]
    }
   ],
   "source": [
    "import json\n",
    "import os\n",
    "\n",
    "import requests\n",
    "\n",
    "APIFY_API_KEY = os.getenv(\"APIFY_API_KEY\")\n",
    "\n",
    "url = f\"https://api.apify.com/v2/acts/scrape-creators~best-youtube-scraper/run-sync-get-dataset-items?token={APIFY_API_KEY}&maxItems=1&timeout=60\"\n",
    "\n",
    "payload = json.dumps(\n",
    "    {\n",
    "        \"getTranscript\": True,\n",
    "        \"videoUrls\": [\"https://www.youtube.com/watch?v=iYT2haVIgSM\"],\n",
    "    }\n",
    ")\n",
    "headers = {\"Content-Type\": \"application/json\", \"Accept\": \"application/json\"}\n",
    "\n",
    "response = requests.request(\"POST\", url, headers=headers, data=payload)\n",
    "\n",
    "print(response.text)"
   ]
  },
  {
   "cell_type": "code",
   "execution_count": 9,
   "id": "e90ceca7",
   "metadata": {},
   "outputs": [
    {
     "data": {
      "text/plain": [
       "{'id': 'iYT2haVIgSM',\n",
       " 'thumbnail': 'https://img.youtube.com/vi/iYT2haVIgSM/maxresdefault.jpg',\n",
       " 'url': 'https://www.youtube.com/watch?v=iYT2haVIgSM',\n",
       " 'type': 'video',\n",
       " 'title': 'Getting Started with the NVIDIA Jetson AGX Thor Developer Kit for Physical AI',\n",
       " 'description': 'The NVIDIA Jetson AGX Thor Developer Kit is the ultimate developer resource for building the future of humanoid robotics and next-generation physical AI applications. Powered by the advanced NVIDIA Blackwell GPU and 128 GB of memory,  it delivers up to 2070 FP4 TFLOPS of AI performance—all within a 130 W power envelope. \\n\\nThis video walks you through how to power on and set up the device for the first time (first boot tutorial). It also covers key features, specifications, and components, and the latest NVIDIA workflows using NVIDIA Isaac GR00T N1, the NVIDIA Blueprint for Video Search and Summarization (VSS), and NVIDIA Holoscan Sensor Bridge.\\n \\n➡️ Learn more: NVIDIA Jetson Thor Platform: https://www.nvidia.com/en-us/autonomo... \\n\\n📝 Read the technical blog post: Introducing NVIDIA Jetson Thor, the Ultimate Platform for Physical AI: https://developer.nvidia.com/blog/int... \\n\\n📥 Download NVIDIA Jetpack 7: https://developer.nvidia.com/embedded... \\n\\n00:05 – Introduction\\n01:01 – What’s in the Box\\n01:25 – Hardware Overview\\n02:15 – First Power and Boot\\n02:54 – The NVIDIA Software Stack\\n03:54 – Isaac GR00T N1\\n4:16 – Video Search and Summarization\\n5:04 – NVIDIA Holoscan\\n6:05 –Conclusion\\n\\nNVIDIA, NVIDIA Jetson Thor, Physical AI, Humanoid Robots, #NVIDIARobotics, #NVIDIAJetson',\n",
       " 'commentCountInt': None,\n",
       " 'likeCountText': '569',\n",
       " 'likeCountInt': 569,\n",
       " 'viewCountText': '19,814',\n",
       " 'viewCountInt': 19814,\n",
       " 'publishDateText': 'Aug 25, 2025',\n",
       " 'publishDate': '2025-08-25T08:01:11-07:00',\n",
       " 'channel': {'id': 'UCBHcMCGaiJhv-ESTcWGJPcw',\n",
       "  'url': 'https://www.youtube.com/@NVIDIADeveloper',\n",
       "  'handle': 'NVIDIADeveloper',\n",
       "  'title': 'NVIDIA Developer'},\n",
       " 'chapters': [{'title': 'Introduction',\n",
       "   'timeDescription': '0:05',\n",
       "   'startSeconds': 5},\n",
       "  {'title': 'What’s in the Box',\n",
       "   'timeDescription': '1:01',\n",
       "   'startSeconds': 61},\n",
       "  {'title': 'Hardware Overview',\n",
       "   'timeDescription': '1:25',\n",
       "   'startSeconds': 85},\n",
       "  {'title': 'First Power and Boot',\n",
       "   'timeDescription': '2:15',\n",
       "   'startSeconds': 135},\n",
       "  {'title': 'The NVIDIA Software Stack',\n",
       "   'timeDescription': '2:54',\n",
       "   'startSeconds': 174},\n",
       "  {'title': 'Isaac GR00T N1', 'timeDescription': '3:54', 'startSeconds': 234},\n",
       "  {'title': 'Video Search and Summarization',\n",
       "   'timeDescription': '4:16',\n",
       "   'startSeconds': 256},\n",
       "  {'title': 'NVIDIA Holoscan', 'timeDescription': '5:04', 'startSeconds': 304},\n",
       "  {'title': 'Conclusion', 'timeDescription': '6:05', 'startSeconds': 365}],\n",
       " 'watchNextVideos': [{'id': '_2NijXqBESI',\n",
       "   'title': \"The Physical Turing Test: Jim Fan on Nvidia's Roadmap for Embodied AI\",\n",
       "   'thumbnail': 'https://i.ytimg.com/vi/_2NijXqBESI/hqdefault.jpg?sqp=-oaymwEbCKgBEF5IVfKriqkDDggBFQAAiEIYAXABwAEG&rs=AOn4CLDhDFunF4zWqtPXRDocT3z8PGRatg',\n",
       "   'channel': {'title': 'Sequoia Capital',\n",
       "    'url': 'https://www.youtube.com/@sequoiacapital',\n",
       "    'handle': 'sequoiacapital',\n",
       "    'id': 'UCWrF0oN6unbXrWsTN7RctTw'},\n",
       "   'publishedTimeText': '3 months ago',\n",
       "   'publishedTime': '2025-05-27T09:44:32.489Z',\n",
       "   'publishDateText': '3 months ago',\n",
       "   'publishDate': '2025-05-27T09:44:32.489Z',\n",
       "   'viewCountText': '395K views',\n",
       "   'viewCountInt': 395000,\n",
       "   'lengthText': '17:34',\n",
       "   'lengthInSeconds': 1054,\n",
       "   'videoUrl': 'https://www.youtube.com/watch?v=_2NijXqBESI'},\n",
       "  {'id': 'ZjX1-f9U2As',\n",
       "   'title': 'Elon Musk Just Made Huge Predictions (NEW)',\n",
       "   'thumbnail': 'https://i.ytimg.com/vi/ZjX1-f9U2As/hqdefault.jpg?sqp=-oaymwEbCKgBEF5IVfKriqkDDggBFQAAiEIYAXABwAEG&rs=AOn4CLAUI7FzzU6PF4VNGrovphlNxQtrPQ',\n",
       "   'channel': {'title': 'Farzad',\n",
       "    'url': 'https://www.youtube.com/@FarzadMediaINC',\n",
       "    'handle': 'FarzadMediaINC',\n",
       "    'id': 'UCgbyN_o-Guwpyqfuuz3pyIw'},\n",
       "   'publishedTimeText': '1 day ago',\n",
       "   'publishedTime': '2025-08-26T09:44:32.489Z',\n",
       "   'publishDateText': '1 day ago',\n",
       "   'publishDate': '2025-08-26T09:44:32.489Z',\n",
       "   'viewCountText': '133K views',\n",
       "   'viewCountInt': 133000,\n",
       "   'lengthText': '20:11',\n",
       "   'lengthInSeconds': 1211,\n",
       "   'videoUrl': 'https://www.youtube.com/watch?v=ZjX1-f9U2As'},\n",
       "  {'id': '-gPL9EA2pP8',\n",
       "   'title': 'Gemini 2.5 Flash Image is Insane... (Nano Banana Released!)',\n",
       "   'thumbnail': 'https://i9.ytimg.com/vi/-gPL9EA2pP8/hqdefault_custom_1.jpg?sqp=CPCku8UG-oaymwEbCKgBEF5IVfKriqkDDggBFQAAiEIYAXABwAEG&rs=AOn4CLCcigou-ceOE8c7vzsGKYOpx3002Q',\n",
       "   'channel': {'title': 'Matthew Berman',\n",
       "    'url': 'https://www.youtube.com/@matthew_berman',\n",
       "    'handle': 'matthew_berman',\n",
       "    'id': 'UCawZsQWqfGSbCI5yjkdVkTA'},\n",
       "   'publishedTimeText': '9 hours ago',\n",
       "   'publishedTime': '2025-08-27T09:44:32.489Z',\n",
       "   'publishDateText': '9 hours ago',\n",
       "   'publishDate': '2025-08-27T09:44:32.489Z',\n",
       "   'viewCountText': '23K views',\n",
       "   'viewCountInt': 23000,\n",
       "   'lengthText': '18:31',\n",
       "   'lengthInSeconds': 1111,\n",
       "   'videoUrl': 'https://www.youtube.com/watch?v=-gPL9EA2pP8'},\n",
       "  {'id': 'cgnKUUcCKcs',\n",
       "   'title': 'More Spark than Spark?? Jetson  THOR T5000: 128gb, Blackwell / 14 Core Arm and the Future of DotDot!',\n",
       "   'thumbnail': 'https://i.ytimg.com/vi/cgnKUUcCKcs/hqdefault.jpg?sqp=-oaymwEbCKgBEF5IVfKriqkDDggBFQAAiEIYAXABwAEG&rs=AOn4CLBYyLscrD7Ggh-0p2NfuV17nBUADA',\n",
       "   'channel': {'title': 'Level1Techs',\n",
       "    'url': 'https://www.youtube.com/@Level1Techs',\n",
       "    'handle': 'Level1Techs',\n",
       "    'id': 'UC4w1YQAJMWOz4qtxinq55LQ'},\n",
       "   'publishedTimeText': '1 day ago',\n",
       "   'publishedTime': '2025-08-26T09:44:32.489Z',\n",
       "   'publishDateText': '1 day ago',\n",
       "   'publishDate': '2025-08-26T09:44:32.489Z',\n",
       "   'viewCountText': '17K views',\n",
       "   'viewCountInt': 17000,\n",
       "   'lengthText': '19:53',\n",
       "   'lengthInSeconds': 1193,\n",
       "   'videoUrl': 'https://www.youtube.com/watch?v=cgnKUUcCKcs'},\n",
       "  {'id': 'TCDydWl46Ok',\n",
       "   'title': \"I Finally Upgraded to Multi-Gig (And You Probably Shouldn't)\",\n",
       "   'thumbnail': 'https://i9.ytimg.com/vi/TCDydWl46Ok/hqdefault_custom_1.jpg?sqp=CPCku8UG-oaymwEbCKgBEF5IVfKriqkDDggBFQAAiEIYAXABwAEG&rs=AOn4CLCBmSENLUfQIikJGiKa9oDstC_Nmg',\n",
       "   'channel': {'title': 'Snazzy Labs',\n",
       "    'url': 'https://www.youtube.com/@snazzy',\n",
       "    'handle': 'snazzy',\n",
       "    'id': 'UCO2x-p9gg9TLKneXlibGR7w'},\n",
       "   'publishedTimeText': '15 hours ago',\n",
       "   'publishedTime': '2025-08-27T09:44:32.489Z',\n",
       "   'publishDateText': '15 hours ago',\n",
       "   'publishDate': '2025-08-27T09:44:32.489Z',\n",
       "   'viewCountText': '61K views',\n",
       "   'viewCountInt': 61000,\n",
       "   'lengthText': '22:31',\n",
       "   'lengthInSeconds': 1351,\n",
       "   'videoUrl': 'https://www.youtube.com/watch?v=TCDydWl46Ok'},\n",
       "  {'id': 'Ju0ndy2kwlw',\n",
       "   'title': 'I built an AI supercomputer with 5 Mac Studios',\n",
       "   'thumbnail': 'https://i.ytimg.com/vi/Ju0ndy2kwlw/hqdefault.jpg?sqp=-oaymwEbCKgBEF5IVfKriqkDDggBFQAAiEIYAXABwAEG&rs=AOn4CLC5beSd-1DD4qzf5V-n3EHKbNAIEg',\n",
       "   'channel': {'title': 'NetworkChuck',\n",
       "    'url': 'https://www.youtube.com/@NetworkChuck',\n",
       "    'handle': 'NetworkChuck',\n",
       "    'id': 'UC9x0AN7BWHpCDHSm9NiJFJQ'},\n",
       "   'publishedTimeText': '6 months ago',\n",
       "   'publishedTime': '2025-02-27T09:44:32.489Z',\n",
       "   'publishDateText': '6 months ago',\n",
       "   'publishDate': '2025-02-27T09:44:32.489Z',\n",
       "   'viewCountText': '1.5M views',\n",
       "   'viewCountInt': 1500000,\n",
       "   'lengthText': '34:57',\n",
       "   'lengthInSeconds': 2097,\n",
       "   'videoUrl': 'https://www.youtube.com/watch?v=Ju0ndy2kwlw'},\n",
       "  {'id': 'T17bpGItqXw',\n",
       "   'title': 'AI and You Against the Machine: Guide so you can own Big AI and Run Local',\n",
       "   'thumbnail': 'https://i.ytimg.com/vi/T17bpGItqXw/hqdefault.jpg?sqp=-oaymwEbCKgBEF5IVfKriqkDDggBFQAAiEIYAXABwAEG&rs=AOn4CLClvt7IuMKEJoLVnjS4rZfqlxBEfQ',\n",
       "   'channel': {'title': 'Level1Techs',\n",
       "    'url': 'https://www.youtube.com/@Level1Techs',\n",
       "    'handle': 'Level1Techs',\n",
       "    'id': 'UC4w1YQAJMWOz4qtxinq55LQ'},\n",
       "   'publishedTimeText': '1 month ago',\n",
       "   'publishedTime': '2025-07-27T09:44:32.489Z',\n",
       "   'publishDateText': '1 month ago',\n",
       "   'publishDate': '2025-07-27T09:44:32.489Z',\n",
       "   'viewCountText': '150K views',\n",
       "   'viewCountInt': 150000,\n",
       "   'lengthText': '15:05',\n",
       "   'lengthInSeconds': 905,\n",
       "   'videoUrl': 'https://www.youtube.com/watch?v=T17bpGItqXw'},\n",
       "  {'id': 'FVPE5zCte_E',\n",
       "   'title': 'NVIDIA Jetson AGX Thor Hands-On: King of Embedded AI Power?',\n",
       "   'thumbnail': 'https://i.ytimg.com/vi/FVPE5zCte_E/hqdefault.jpg?sqp=-oaymwEbCKgBEF5IVfKriqkDDggBFQAAiEIYAXABwAEG&rs=AOn4CLCr7Bk-y0jmtiKGFt3T-FBndPdTuw',\n",
       "   'channel': {'title': 'JetsonHacks',\n",
       "    'url': 'https://www.youtube.com/@JetsonHacks',\n",
       "    'handle': 'JetsonHacks',\n",
       "    'id': 'UCQs0lwV6E4p7LQaGJ6fgy5Q'},\n",
       "   'publishedTimeText': '1 day ago',\n",
       "   'publishedTime': '2025-08-26T09:44:32.489Z',\n",
       "   'publishDateText': '1 day ago',\n",
       "   'publishDate': '2025-08-26T09:44:32.489Z',\n",
       "   'viewCountText': '13K views',\n",
       "   'viewCountInt': 13000,\n",
       "   'lengthText': '14:15',\n",
       "   'lengthInSeconds': 855,\n",
       "   'videoUrl': 'https://www.youtube.com/watch?v=FVPE5zCte_E'},\n",
       "  {'id': 'b5EYygvegjs',\n",
       "   'title': 'SpaceX Just Had Their Most Stunning Launch Yet (HIGHLIGHTS)',\n",
       "   'thumbnail': 'https://i9.ytimg.com/vi/b5EYygvegjs/hqdefault_custom_1.jpg?sqp=CPCku8UG-oaymwEbCKgBEF5IVfKriqkDDggBFQAAiEIYAXABwAEG&rs=AOn4CLCjzOR_5FJS69KK4G9schB6bWaHng',\n",
       "   'channel': {'title': 'Farzad',\n",
       "    'url': 'https://www.youtube.com/@FarzadMediaINC',\n",
       "    'handle': 'FarzadMediaINC',\n",
       "    'id': 'UCgbyN_o-Guwpyqfuuz3pyIw'},\n",
       "   'publishedTimeText': '8 hours ago',\n",
       "   'publishedTime': '2025-08-27T09:44:32.489Z',\n",
       "   'publishDateText': '8 hours ago',\n",
       "   'publishDate': '2025-08-27T09:44:32.489Z',\n",
       "   'viewCountText': '74K views',\n",
       "   'viewCountInt': 74000,\n",
       "   'lengthText': '36:02',\n",
       "   'lengthInSeconds': 2162,\n",
       "   'videoUrl': 'https://www.youtube.com/watch?v=b5EYygvegjs'},\n",
       "  {'id': 'N5xhOqlvRh4',\n",
       "   'title': 'I built a private AI mini-cluster with Framework Desktop',\n",
       "   'thumbnail': 'https://i.ytimg.com/vi/N5xhOqlvRh4/hqdefault.jpg?sqp=-oaymwEbCKgBEF5IVfKriqkDDggBFQAAiEIYAXABwAEG&rs=AOn4CLB--Z99B8gPylIsWH-Zciun_NxGSg',\n",
       "   'channel': {'title': 'Jeff Geerling',\n",
       "    'url': 'https://www.youtube.com/@JeffGeerling',\n",
       "    'handle': 'JeffGeerling',\n",
       "    'id': 'UCR-DXc1voovS8nhAvccRZhg'},\n",
       "   'publishedTimeText': '2 weeks ago',\n",
       "   'publishedTime': '2025-08-13T09:44:32.489Z',\n",
       "   'publishDateText': '2 weeks ago',\n",
       "   'publishDate': '2025-08-13T09:44:32.489Z',\n",
       "   'viewCountText': '527K views',\n",
       "   'viewCountInt': 527000,\n",
       "   'lengthText': '20:02',\n",
       "   'lengthInSeconds': 1202,\n",
       "   'videoUrl': 'https://www.youtube.com/watch?v=N5xhOqlvRh4'},\n",
       "  {'id': 'KZeIEiBrT_w',\n",
       "   'title': 'The Strange Math That Predicts (Almost) Anything',\n",
       "   'thumbnail': 'https://i.ytimg.com/vi/KZeIEiBrT_w/hqdefault.jpg?sqp=-oaymwEbCKgBEF5IVfKriqkDDggBFQAAiEIYAXABwAEG&rs=AOn4CLD9lKVF6qDtVKvfBjjlfHZRWIFfmQ',\n",
       "   'channel': {'title': 'Veritasium',\n",
       "    'url': 'https://www.youtube.com/@veritasium',\n",
       "    'handle': 'veritasium',\n",
       "    'id': 'UCHnyfMqiRRG1u-2MsSQLbXA'},\n",
       "   'publishedTimeText': '1 month ago',\n",
       "   'publishedTime': '2025-07-27T09:44:32.489Z',\n",
       "   'publishDateText': '1 month ago',\n",
       "   'publishDate': '2025-07-27T09:44:32.489Z',\n",
       "   'viewCountText': '7.2M views',\n",
       "   'viewCountInt': 7200000,\n",
       "   'lengthText': '32:32',\n",
       "   'lengthInSeconds': 1952,\n",
       "   'videoUrl': 'https://www.youtube.com/watch?v=KZeIEiBrT_w'},\n",
       "  {'id': 'xhiAFOOHFXg',\n",
       "   'title': 'These NEW Smart Glasses Top Ray Ban Meta, Google XR, And Apple!',\n",
       "   'thumbnail': 'https://i9.ytimg.com/vi/xhiAFOOHFXg/hqdefault_custom_2.jpg?sqp=CPCku8UG-oaymwEbCKgBEF5IVfKriqkDDggBFQAAiEIYAXABwAEG&rs=AOn4CLAh6HDsxsU880x8QxRLN7tAz4Ekmw',\n",
       "   'channel': {'title': 'Steven Sullivan',\n",
       "    'url': 'https://www.youtube.com/@MetaMutt',\n",
       "    'handle': 'MetaMutt',\n",
       "    'id': 'UCTecoCovL-9_f59o888a1cA'},\n",
       "   'publishedTimeText': '4 days ago',\n",
       "   'publishedTime': '2025-08-23T09:44:32.489Z',\n",
       "   'publishDateText': '4 days ago',\n",
       "   'publishDate': '2025-08-23T09:44:32.489Z',\n",
       "   'viewCountText': '37K views',\n",
       "   'viewCountInt': 37000,\n",
       "   'lengthText': '23:47',\n",
       "   'lengthInSeconds': 1427,\n",
       "   'videoUrl': 'https://www.youtube.com/watch?v=xhiAFOOHFXg'}],\n",
       " 'keywords': [],\n",
       " 'durationMs': 392000,\n",
       " 'durationFormatted': '00:06:32',\n",
       " 'transcript': [{'text': '[Music]',\n",
       "   'startMs': '5303',\n",
       "   'endMs': '5840',\n",
       "   'startTimeText': '0:05'},\n",
       "  {'text': \"Hi, I'm Leela with NVIDIA, and this is the Jetson\\xa0\\nAGX Thor Developer Kit. Jetson Thor is the\\xa0\\xa0\",\n",
       "   'startMs': '5840',\n",
       "   'endMs': '13200',\n",
       "   'startTimeText': '0:05'},\n",
       "  {'text': \"ultimate platform for humanoid robotics. It's\\xa0\\npart of NVIDIA's three-computer solution for\\xa0\\xa0\",\n",
       "   'startMs': '13200',\n",
       "   'endMs': '19279',\n",
       "   'startTimeText': '0:13'},\n",
       "  {'text': 'accelerating physical AI: NVIDIA DGX for\\xa0\\ntraining, NVIDIA Omniverse for synthetic\\xa0\\xa0',\n",
       "   'startMs': '19280',\n",
       "   'endMs': '26400',\n",
       "   'startTimeText': '0:19'},\n",
       "  {'text': 'data generation and physical AI simulation, and\\xa0\\nNVIDIA Jetson Thor for runtime robotics. Jetson\\xa0\\xa0',\n",
       "   'startMs': '26400',\n",
       "   'endMs': '34079',\n",
       "   'startTimeText': '0:26'},\n",
       "  {'text': 'AGX Thor is the ideal runtime computer for any\\xa0\\nkind of physical AI application, from humanoids\\xa0\\xa0',\n",
       "   'startMs': '34080',\n",
       "   'endMs': '40640',\n",
       "   'startTimeText': '0:34'},\n",
       "  {'text': 'to Edge AI agents. It gives you unmatched\\xa0\\nperformance and scalability in a compact,\\xa0\\xa0',\n",
       "   'startMs': '40640',\n",
       "   'endMs': '46400',\n",
       "   'startTimeText': '0:40'},\n",
       "  {'text': \"power-efficient form factor. Plus, it's powered by\\xa0\\nthe advanced Blackwell GPU and 128 GB of memory,\\xa0\\xa0\",\n",
       "   'startMs': '46400',\n",
       "   'endMs': '54320',\n",
       "   'startTimeText': '0:46'},\n",
       "  {'text': 'delivering up to 2070 FP4 TFLOPS of AI compute to\\xa0\\neffortlessly run the latest generative AI models.\\xa0',\n",
       "   'startMs': '54320',\n",
       "   'endMs': '62640',\n",
       "   'startTimeText': '0:54'},\n",
       "  {'text': \"Let's take a closer look at the Jetson AGX Thor\\xa0\\nDeveloper Kit. It includes a Jetson T5000 module,\\xa0\\xa0\",\n",
       "   'startMs': '62640',\n",
       "   'endMs': '69920',\n",
       "   'startTimeText': '1:02'},\n",
       "  {'text': 'a reference carrier board, an active\\xa0\\nheat sink with a fan, and a power supply.\\xa0\\xa0',\n",
       "   'startMs': '69920',\n",
       "   'endMs': '77119',\n",
       "   'startTimeText': '1:09'},\n",
       "  {'text': \"If you want to set up with a monitor, you'll\\xa0\\nneed to provide a computer display, keyboard,\\xa0\\xa0\",\n",
       "   'startMs': '77120',\n",
       "   'endMs': '82880',\n",
       "   'startTimeText': '1:17'},\n",
       "  {'text': \"and mouse to get started. To make your setup\\xa0\\nprocess as smooth as possible, we've conveniently\\xa0\\xa0\",\n",
       "   'startMs': '82880',\n",
       "   'endMs': '89119',\n",
       "   'startTimeText': '1:22'},\n",
       "  {'text': 'placed all the I/O ports on one side of the\\xa0\\nboard. This thoughtful design choice makes it\\xa0\\xa0',\n",
       "   'startMs': '89120',\n",
       "   'endMs': '94560',\n",
       "   'startTimeText': '1:29'},\n",
       "  {'text': 'super easy to connect your sensors and manage your\\xa0\\nwiring when building your robot. Starting here,\\xa0\\xa0',\n",
       "   'startMs': '94560',\n",
       "   'endMs': '100320',\n",
       "   'startTimeText': '1:34'},\n",
       "  {'text': 'we see two USB-A ports, an Ethernet port, a\\xa0\\nDisplayPort, an HDMI port, two USB-C ports,\\xa0\\xa0',\n",
       "   'startMs': '100320',\n",
       "   'endMs': '110320',\n",
       "   'startTimeText': '1:40'},\n",
       "  {'text': \"a QSFP slot, and a Micro-Fit port for extending\\xa0\\nthe board's power if needed. Under the developer\\xa0\\xa0\",\n",
       "   'startMs': '110320',\n",
       "   'endMs': '117600',\n",
       "   'startTimeText': '1:50'},\n",
       "  {'text': 'kit, we have an M.2 key M slot with a populated\\xa0\\n1TB NVMe storage and an M.2 key E slot with a\\xa0\\xa0',\n",
       "   'startMs': '117600',\n",
       "   'endMs': '125600',\n",
       "   'startTimeText': '1:57'},\n",
       "  {'text': 'pre-installed wireless networking card. On the\\xa0\\nother side of the developer kit, there are three\\xa0\\xa0',\n",
       "   'startMs': '125600',\n",
       "   'endMs': '131440',\n",
       "   'startTimeText': '2:05'},\n",
       "  {'text': \"buttons for power, force recovery, and reset.\\nIt's easy to get started. In the box is a\\xa0\\xa0\",\n",
       "   'startMs': '131440',\n",
       "   'endMs': '139200',\n",
       "   'startTimeText': '2:11'},\n",
       "  {'text': 'small booklet that includes a link\\xa0\\nto step-by-step instructions. First,\\xa0\\xa0',\n",
       "   'startMs': '139200',\n",
       "   'endMs': '143920',\n",
       "   'startTimeText': '2:19'},\n",
       "  {'text': 'download the latest NVIDIA JetPack 7 ISO image\\xa0\\nfrom the JetPack SDK download page and flash it\\xa0\\xa0',\n",
       "   'startMs': '143920',\n",
       "   'endMs': '150240',\n",
       "   'startTimeText': '2:23'},\n",
       "  {'text': 'to a USB drive to install on your developer kit.\\xa0\\nAfter attaching your monitor, keyboard, and mouse,\\xa0\\xa0',\n",
       "   'startMs': '150240',\n",
       "   'endMs': '157040',\n",
       "   'startTimeText': '2:30'},\n",
       "  {'text': 'just connect the power supply and your developer\\xa0\\nkit will power on automatically. On first boot,\\xa0\\xa0',\n",
       "   'startMs': '157040',\n",
       "   'endMs': '163680',\n",
       "   'startTimeText': '2:37'},\n",
       "  {'text': \"you'll be prompted to choose a username,\\xa0\\npassword, and other basic information.\\xa0\\xa0\",\n",
       "   'startMs': '163680',\n",
       "   'endMs': '168640',\n",
       "   'startTimeText': '2:43'},\n",
       "  {'text': 'You can also set up your Wi-Fi at this time.\\nJetson Thor delivers a seamless cloud-to-edge\\xa0\\xa0',\n",
       "   'startMs': '168640',\n",
       "   'endMs': '177200',\n",
       "   'startTimeText': '2:48'},\n",
       "  {'text': 'experience by running the NVIDIA AI software stack\\xa0\\nfor physical AI applications. This includes NVIDIA\\xa0\\xa0',\n",
       "   'startMs': '177200',\n",
       "   'endMs': '184480',\n",
       "   'startTimeText': '2:57'},\n",
       "  {'text': 'Isaac for robotics, NVIDIA Metropolis for video\\xa0\\nanalytics AI agents, and NVIDIA Holoscan for\\xa0\\xa0',\n",
       "   'startMs': '184480',\n",
       "   'endMs': '191360',\n",
       "   'startTimeText': '3:04'},\n",
       "  {'text': 'sensor processing. With up to 7.5x the performance\\xa0\\nof Jetson AGX Orin, Jetson Thor can run all modern\\xa0\\xa0',\n",
       "   'startMs': '191360',\n",
       "   'endMs': '199040',\n",
       "   'startTimeText': '3:11'},\n",
       "  {'text': 'AI models from vision-language-action models\\xa0\\nlike NVIDIA Isaac GR00T N1 to all popular LLMs\\xa0\\xa0',\n",
       "   'startMs': '199040',\n",
       "   'endMs': '206560',\n",
       "   'startTimeText': '3:19'},\n",
       "  {'text': 'and VLMs. NVIDIA Isaac GR00Tis redefining the\\xa0\\nfuture of robotics with four key pillars: robotic\\xa0\\xa0',\n",
       "   'startMs': '206560',\n",
       "   'endMs': '214480',\n",
       "   'startTimeText': '3:26'},\n",
       "  {'text': 'foundational models, synthetic data pipelines, a\\xa0\\nsimulation environment, and a runtime computer.\\xa0\\xa0',\n",
       "   'startMs': '214480',\n",
       "   'endMs': '225440',\n",
       "   'startTimeText': '3:34'},\n",
       "  {'text': 'You can also accelerate your software development\\xa0\\nby tethering the developer kit directly to any\\xa0\\xa0',\n",
       "   'startMs': '225440',\n",
       "   'endMs': '231120',\n",
       "   'startTimeText': '3:45'},\n",
       "  {'text': \"existing robot. Here, NVIDIA Isaac GR00T N1 is\\xa0\\nrunning on Thor. To show a developer's end-to-end\\xa0\\xa0\",\n",
       "   'startMs': '231120',\n",
       "   'endMs': '238879',\n",
       "   'startTimeText': '3:51'},\n",
       "  {'text': \"journey, we've fine-tuned GR00T N1 for picking up\\xa0\\na nut and pouring it in Isaac Sim and Isaac Lab.\\xa0\\xa0\",\n",
       "   'startMs': '238880',\n",
       "   'endMs': '246080',\n",
       "   'startTimeText': '3:58'},\n",
       "  {'text': \"We've also implemented a hardware-in-the-loop\\xa0\\nscenario running NVIDIA Omniverse on RTX Pro\\xa0\\xa0\",\n",
       "   'startMs': '246080',\n",
       "   'endMs': '252560',\n",
       "   'startTimeText': '4:06'},\n",
       "  {'text': '6000 and inferencing on Jetson Thor.\\nThe AI blueprint for Video Search and\\xa0\\xa0',\n",
       "   'startMs': '252560',\n",
       "   'endMs': '259120',\n",
       "   'startTimeText': '4:12'},\n",
       "  {'text': 'Summarization (VSS) from NVIDIA Metropolis gives\\xa0\\nyou the tools to build and deploy video analytics\\xa0\\xa0',\n",
       "   'startMs': '259120',\n",
       "   'endMs': '266960',\n",
       "   'startTimeText': '4:19'},\n",
       "  {'text': 'AI agents that can perform contextualized\\xa0\\nreal-time alerts, video summarization,\\xa0\\xa0',\n",
       "   'startMs': '266960',\n",
       "   'endMs': '273199',\n",
       "   'startTimeText': '4:26'},\n",
       "  {'text': 'and Q&A by analyzing live camera streams. VSS\\xa0\\nis powering visual agent workforces spanning\\xa0\\xa0',\n",
       "   'startMs': '273200',\n",
       "   'endMs': '281280',\n",
       "   'startTimeText': '4:33'},\n",
       "  {'text': 'many use cases, including visual inspection and\\xa0\\nworker safety in manufacturing, fan engagement\\xa0\\xa0',\n",
       "   'startMs': '281280',\n",
       "   'endMs': '288080',\n",
       "   'startTimeText': '4:41'},\n",
       "  {'text': 'and player analytics in live sports, and improved\\xa0\\nemergency response times for roadway incidents.\\xa0\\xa0',\n",
       "   'startMs': '288080',\n",
       "   'endMs': '296080',\n",
       "   'startTimeText': '4:48'},\n",
       "  {'text': 'Here you can see VSS running locally on Jetson\\xa0\\nThor, making Agentic AI possible for the edge.\\xa0',\n",
       "   'startMs': '296080',\n",
       "   'endMs': '303919',\n",
       "   'startTimeText': '4:56'},\n",
       "  {'text': 'The NVIDIA Holoscan platform is built to simplify\\xa0\\nand scale edge AI on enterprise-grade hardware,\\xa0\\xa0',\n",
       "   'startMs': '303920',\n",
       "   'endMs': '311520',\n",
       "   'startTimeText': '5:03'},\n",
       "  {'text': 'giving you a high-performance edge solution for\\xa0\\nreal-time AI. With Holoscan Sensor Bridge handling\\xa0\\xa0',\n",
       "   'startMs': '311520',\n",
       "   'endMs': '319120',\n",
       "   'startTimeText': '5:11'},\n",
       "  {'text': 'high-throughput I/O from sensors, you can stream\\xa0\\nsensor data directly into low-latency pipelines\\xa0\\xa0',\n",
       "   'startMs': '319120',\n",
       "   'endMs': '326000',\n",
       "   'startTimeText': '5:19'},\n",
       "  {'text': \"and run inference on NVIDIA Thor with minimum CPU\\xa0\\nusage. Let's take a closer look at a 5-megapixel\\xa0\\xa0\",\n",
       "   'startMs': '326000',\n",
       "   'endMs': '333520',\n",
       "   'startTimeText': '5:26'},\n",
       "  {'text': 'Holoscan Sensor Bridge Ethernet camera connected\\xa0\\nto a Jetson Thor running a video language model\\xa0\\xa0',\n",
       "   'startMs': '333520',\n",
       "   'endMs': '340080',\n",
       "   'startTimeText': '5:33'},\n",
       "  {'text': '100% locally. The Holoscan Sensor Bridge camera\\xa0\\nstreams the 4K stereo cameras directly to the GPU.\\xa0\\xa0',\n",
       "   'startMs': '340080',\n",
       "   'endMs': '349360',\n",
       "   'startTimeText': '5:40'},\n",
       "  {'text': 'There, the video frames are sent to a VLM running\\xa0\\non the edge. This VLM is capable of receiving user\\xa0\\xa0',\n",
       "   'startMs': '349360',\n",
       "   'endMs': '356960',\n",
       "   'startTimeText': '5:49'},\n",
       "  {'text': 'requests and creating a step-by-step plan that\\xa0\\ncan be executed by a downstream robotic policy.\\xa0',\n",
       "   'startMs': '356960',\n",
       "   'endMs': '369199',\n",
       "   'startTimeText': '5:56'},\n",
       "  {'text': \"That's a quick overview of the\\xa0\\nJetson AGX Thor Developer Kit,\\xa0\\xa0\",\n",
       "   'startMs': '369200',\n",
       "   'endMs': '373280',\n",
       "   'startTimeText': '6:09'},\n",
       "  {'text': 'the ultimate platform for accelerating physical AI\\xa0\\nand humanoid robotics. Join the over two million\\xa0\\xa0',\n",
       "   'startMs': '373280',\n",
       "   'endMs': '379360',\n",
       "   'startTimeText': '6:13'},\n",
       "  {'text': 'developers who are driving the next generation of\\xa0\\nrobotics and beyond. Get your developer kit today.',\n",
       "   'startMs': '379360',\n",
       "   'endMs': '388400',\n",
       "   'startTimeText': '6:19'}],\n",
       " 'transcript_only_text': \"[Music] Hi, I'm Leela with NVIDIA, and this is the Jetson\\xa0\\nAGX Thor Developer Kit. Jetson Thor is the\\xa0\\xa0 ultimate platform for humanoid robotics. It's\\xa0\\npart of NVIDIA's three-computer solution for\\xa0\\xa0 accelerating physical AI: NVIDIA DGX for\\xa0\\ntraining, NVIDIA Omniverse for synthetic\\xa0\\xa0 data generation and physical AI simulation, and\\xa0\\nNVIDIA Jetson Thor for runtime robotics. Jetson\\xa0\\xa0 AGX Thor is the ideal runtime computer for any\\xa0\\nkind of physical AI application, from humanoids\\xa0\\xa0 to Edge AI agents. It gives you unmatched\\xa0\\nperformance and scalability in a compact,\\xa0\\xa0 power-efficient form factor. Plus, it's powered by\\xa0\\nthe advanced Blackwell GPU and 128 GB of memory,\\xa0\\xa0 delivering up to 2070 FP4 TFLOPS of AI compute to\\xa0\\neffortlessly run the latest generative AI models.\\xa0 Let's take a closer look at the Jetson AGX Thor\\xa0\\nDeveloper Kit. It includes a Jetson T5000 module,\\xa0\\xa0 a reference carrier board, an active\\xa0\\nheat sink with a fan, and a power supply.\\xa0\\xa0 If you want to set up with a monitor, you'll\\xa0\\nneed to provide a computer display, keyboard,\\xa0\\xa0 and mouse to get started. To make your setup\\xa0\\nprocess as smooth as possible, we've conveniently\\xa0\\xa0 placed all the I/O ports on one side of the\\xa0\\nboard. This thoughtful design choice makes it\\xa0\\xa0 super easy to connect your sensors and manage your\\xa0\\nwiring when building your robot. Starting here,\\xa0\\xa0 we see two USB-A ports, an Ethernet port, a\\xa0\\nDisplayPort, an HDMI port, two USB-C ports,\\xa0\\xa0 a QSFP slot, and a Micro-Fit port for extending\\xa0\\nthe board's power if needed. Under the developer\\xa0\\xa0 kit, we have an M.2 key M slot with a populated\\xa0\\n1TB NVMe storage and an M.2 key E slot with a\\xa0\\xa0 pre-installed wireless networking card. On the\\xa0\\nother side of the developer kit, there are three\\xa0\\xa0 buttons for power, force recovery, and reset.\\nIt's easy to get started. In the box is a\\xa0\\xa0 small booklet that includes a link\\xa0\\nto step-by-step instructions. First,\\xa0\\xa0 download the latest NVIDIA JetPack 7 ISO image\\xa0\\nfrom the JetPack SDK download page and flash it\\xa0\\xa0 to a USB drive to install on your developer kit.\\xa0\\nAfter attaching your monitor, keyboard, and mouse,\\xa0\\xa0 just connect the power supply and your developer\\xa0\\nkit will power on automatically. On first boot,\\xa0\\xa0 you'll be prompted to choose a username,\\xa0\\npassword, and other basic information.\\xa0\\xa0 You can also set up your Wi-Fi at this time.\\nJetson Thor delivers a seamless cloud-to-edge\\xa0\\xa0 experience by running the NVIDIA AI software stack\\xa0\\nfor physical AI applications. This includes NVIDIA\\xa0\\xa0 Isaac for robotics, NVIDIA Metropolis for video\\xa0\\nanalytics AI agents, and NVIDIA Holoscan for\\xa0\\xa0 sensor processing. With up to 7.5x the performance\\xa0\\nof Jetson AGX Orin, Jetson Thor can run all modern\\xa0\\xa0 AI models from vision-language-action models\\xa0\\nlike NVIDIA Isaac GR00T N1 to all popular LLMs\\xa0\\xa0 and VLMs. NVIDIA Isaac GR00Tis redefining the\\xa0\\nfuture of robotics with four key pillars: robotic\\xa0\\xa0 foundational models, synthetic data pipelines, a\\xa0\\nsimulation environment, and a runtime computer.\\xa0\\xa0 You can also accelerate your software development\\xa0\\nby tethering the developer kit directly to any\\xa0\\xa0 existing robot. Here, NVIDIA Isaac GR00T N1 is\\xa0\\nrunning on Thor. To show a developer's end-to-end\\xa0\\xa0 journey, we've fine-tuned GR00T N1 for picking up\\xa0\\na nut and pouring it in Isaac Sim and Isaac Lab.\\xa0\\xa0 We've also implemented a hardware-in-the-loop\\xa0\\nscenario running NVIDIA Omniverse on RTX Pro\\xa0\\xa0 6000 and inferencing on Jetson Thor.\\nThe AI blueprint for Video Search and\\xa0\\xa0 Summarization (VSS) from NVIDIA Metropolis gives\\xa0\\nyou the tools to build and deploy video analytics\\xa0\\xa0 AI agents that can perform contextualized\\xa0\\nreal-time alerts, video summarization,\\xa0\\xa0 and Q&A by analyzing live camera streams. VSS\\xa0\\nis powering visual agent workforces spanning\\xa0\\xa0 many use cases, including visual inspection and\\xa0\\nworker safety in manufacturing, fan engagement\\xa0\\xa0 and player analytics in live sports, and improved\\xa0\\nemergency response times for roadway incidents.\\xa0\\xa0 Here you can see VSS running locally on Jetson\\xa0\\nThor, making Agentic AI possible for the edge.\\xa0 The NVIDIA Holoscan platform is built to simplify\\xa0\\nand scale edge AI on enterprise-grade hardware,\\xa0\\xa0 giving you a high-performance edge solution for\\xa0\\nreal-time AI. With Holoscan Sensor Bridge handling\\xa0\\xa0 high-throughput I/O from sensors, you can stream\\xa0\\nsensor data directly into low-latency pipelines\\xa0\\xa0 and run inference on NVIDIA Thor with minimum CPU\\xa0\\nusage. Let's take a closer look at a 5-megapixel\\xa0\\xa0 Holoscan Sensor Bridge Ethernet camera connected\\xa0\\nto a Jetson Thor running a video language model\\xa0\\xa0 100% locally. The Holoscan Sensor Bridge camera\\xa0\\nstreams the 4K stereo cameras directly to the GPU.\\xa0\\xa0 There, the video frames are sent to a VLM running\\xa0\\non the edge. This VLM is capable of receiving user\\xa0\\xa0 requests and creating a step-by-step plan that\\xa0\\ncan be executed by a downstream robotic policy.\\xa0 That's a quick overview of the\\xa0\\nJetson AGX Thor Developer Kit,\\xa0\\xa0 the ultimate platform for accelerating physical AI\\xa0\\nand humanoid robotics. Join the over two million\\xa0\\xa0 developers who are driving the next generation of\\xa0\\nrobotics and beyond. Get your developer kit today.\",\n",
       " 'language': 'English'}"
      ]
     },
     "execution_count": 9,
     "metadata": {},
     "output_type": "execute_result"
    }
   ],
   "source": [
    "result = json.loads(response.text)[0]\n",
    "result"
   ]
  },
  {
   "cell_type": "code",
   "execution_count": 10,
   "id": "75513720",
   "metadata": {},
   "outputs": [
    {
     "data": {
      "text/plain": [
       "\"[Music] Hi, I'm Leela with NVIDIA, and this is the Jetson\\xa0\\nAGX Thor Developer Kit. Jetson Thor is the\\xa0\\xa0 ultimate platform for humanoid robotics. It's\\xa0\\npart of NVIDIA's three-computer solution for\\xa0\\xa0 accelerating physical AI: NVIDIA DGX for\\xa0\\ntraining, NVIDIA Omniverse for synthetic\\xa0\\xa0 data generation and physical AI simulation, and\\xa0\\nNVIDIA Jetson Thor for runtime robotics. Jetson\\xa0\\xa0 AGX Thor is the ideal runtime computer for any\\xa0\\nkind of physical AI application, from humanoids\\xa0\\xa0 to Edge AI agents. It gives you unmatched\\xa0\\nperformance and scalability in a compact,\\xa0\\xa0 power-efficient form factor. Plus, it's powered by\\xa0\\nthe advanced Blackwell GPU and 128 GB of memory,\\xa0\\xa0 delivering up to 2070 FP4 TFLOPS of AI compute to\\xa0\\neffortlessly run the latest generative AI models.\\xa0 Let's take a closer look at the Jetson AGX Thor\\xa0\\nDeveloper Kit. It includes a Jetson T5000 module,\\xa0\\xa0 a reference carrier board, an active\\xa0\\nheat sink with a fan, and a power supply.\\xa0\\xa0 If you want to set up with a monitor, you'll\\xa0\\nneed to provide a computer display, keyboard,\\xa0\\xa0 and mouse to get started. To make your setup\\xa0\\nprocess as smooth as possible, we've conveniently\\xa0\\xa0 placed all the I/O ports on one side of the\\xa0\\nboard. This thoughtful design choice makes it\\xa0\\xa0 super easy to connect your sensors and manage your\\xa0\\nwiring when building your robot. Starting here,\\xa0\\xa0 we see two USB-A ports, an Ethernet port, a\\xa0\\nDisplayPort, an HDMI port, two USB-C ports,\\xa0\\xa0 a QSFP slot, and a Micro-Fit port for extending\\xa0\\nthe board's power if needed. Under the developer\\xa0\\xa0 kit, we have an M.2 key M slot with a populated\\xa0\\n1TB NVMe storage and an M.2 key E slot with a\\xa0\\xa0 pre-installed wireless networking card. On the\\xa0\\nother side of the developer kit, there are three\\xa0\\xa0 buttons for power, force recovery, and reset.\\nIt's easy to get started. In the box is a\\xa0\\xa0 small booklet that includes a link\\xa0\\nto step-by-step instructions. First,\\xa0\\xa0 download the latest NVIDIA JetPack 7 ISO image\\xa0\\nfrom the JetPack SDK download page and flash it\\xa0\\xa0 to a USB drive to install on your developer kit.\\xa0\\nAfter attaching your monitor, keyboard, and mouse,\\xa0\\xa0 just connect the power supply and your developer\\xa0\\nkit will power on automatically. On first boot,\\xa0\\xa0 you'll be prompted to choose a username,\\xa0\\npassword, and other basic information.\\xa0\\xa0 You can also set up your Wi-Fi at this time.\\nJetson Thor delivers a seamless cloud-to-edge\\xa0\\xa0 experience by running the NVIDIA AI software stack\\xa0\\nfor physical AI applications. This includes NVIDIA\\xa0\\xa0 Isaac for robotics, NVIDIA Metropolis for video\\xa0\\nanalytics AI agents, and NVIDIA Holoscan for\\xa0\\xa0 sensor processing. With up to 7.5x the performance\\xa0\\nof Jetson AGX Orin, Jetson Thor can run all modern\\xa0\\xa0 AI models from vision-language-action models\\xa0\\nlike NVIDIA Isaac GR00T N1 to all popular LLMs\\xa0\\xa0 and VLMs. NVIDIA Isaac GR00Tis redefining the\\xa0\\nfuture of robotics with four key pillars: robotic\\xa0\\xa0 foundational models, synthetic data pipelines, a\\xa0\\nsimulation environment, and a runtime computer.\\xa0\\xa0 You can also accelerate your software development\\xa0\\nby tethering the developer kit directly to any\\xa0\\xa0 existing robot. Here, NVIDIA Isaac GR00T N1 is\\xa0\\nrunning on Thor. To show a developer's end-to-end\\xa0\\xa0 journey, we've fine-tuned GR00T N1 for picking up\\xa0\\na nut and pouring it in Isaac Sim and Isaac Lab.\\xa0\\xa0 We've also implemented a hardware-in-the-loop\\xa0\\nscenario running NVIDIA Omniverse on RTX Pro\\xa0\\xa0 6000 and inferencing on Jetson Thor.\\nThe AI blueprint for Video Search and\\xa0\\xa0 Summarization (VSS) from NVIDIA Metropolis gives\\xa0\\nyou the tools to build and deploy video analytics\\xa0\\xa0 AI agents that can perform contextualized\\xa0\\nreal-time alerts, video summarization,\\xa0\\xa0 and Q&A by analyzing live camera streams. VSS\\xa0\\nis powering visual agent workforces spanning\\xa0\\xa0 many use cases, including visual inspection and\\xa0\\nworker safety in manufacturing, fan engagement\\xa0\\xa0 and player analytics in live sports, and improved\\xa0\\nemergency response times for roadway incidents.\\xa0\\xa0 Here you can see VSS running locally on Jetson\\xa0\\nThor, making Agentic AI possible for the edge.\\xa0 The NVIDIA Holoscan platform is built to simplify\\xa0\\nand scale edge AI on enterprise-grade hardware,\\xa0\\xa0 giving you a high-performance edge solution for\\xa0\\nreal-time AI. With Holoscan Sensor Bridge handling\\xa0\\xa0 high-throughput I/O from sensors, you can stream\\xa0\\nsensor data directly into low-latency pipelines\\xa0\\xa0 and run inference on NVIDIA Thor with minimum CPU\\xa0\\nusage. Let's take a closer look at a 5-megapixel\\xa0\\xa0 Holoscan Sensor Bridge Ethernet camera connected\\xa0\\nto a Jetson Thor running a video language model\\xa0\\xa0 100% locally. The Holoscan Sensor Bridge camera\\xa0\\nstreams the 4K stereo cameras directly to the GPU.\\xa0\\xa0 There, the video frames are sent to a VLM running\\xa0\\non the edge. This VLM is capable of receiving user\\xa0\\xa0 requests and creating a step-by-step plan that\\xa0\\ncan be executed by a downstream robotic policy.\\xa0 That's a quick overview of the\\xa0\\nJetson AGX Thor Developer Kit,\\xa0\\xa0 the ultimate platform for accelerating physical AI\\xa0\\nand humanoid robotics. Join the over two million\\xa0\\xa0 developers who are driving the next generation of\\xa0\\nrobotics and beyond. Get your developer kit today.\""
      ]
     },
     "execution_count": 10,
     "metadata": {},
     "output_type": "execute_result"
    }
   ],
   "source": [
    "result[\"transcript_only_text\"]"
   ]
  },
  {
   "cell_type": "code",
   "execution_count": null,
   "id": "d8dce6ea",
   "metadata": {},
   "outputs": [
    {
     "data": {
      "text/html": [
       "<pre style=\"white-space:pre;overflow-x:auto;line-height:normal;font-family:Menlo,'DejaVu Sans Mono',consolas,'Courier New',monospace\"><span style=\"font-weight: bold\">{</span>\n",
       "  <span style=\"color: #008000; text-decoration-color: #008000\">\"title\"</span>: \"Trump Holds Meeting with Zelensky</pre>\n"
      ],
      "text/plain": [
       "\u001b[1m{\u001b[0m\n",
       "  \u001b[32m\"title\"\u001b[0m: \"Trump Holds Meeting with Zelensky"
      ]
     },
     "metadata": {},
     "output_type": "display_data"
    },
    {
     "data": {
      "text/html": [
       "<pre style=\"white-space:pre;overflow-x:auto;line-height:normal;font-family:Menlo,'DejaVu Sans Mono',consolas,'Courier New',monospace\"> in the Oval Office\",\n",
       "  <span style=\"color: #008000; text-decoration-color: #008000\">\"chapters\"</span>: <span style=\"font-weight: bold\">[</span>\n",
       "    <span style=\"font-weight: bold\">{</span>\n",
       "      <span style=\"color: #008000; text-decoration-color: #008000\">\"header\"</span>: <span style=\"color: #008000; text-decoration-color: #008000\">\"Introduction and Welcome\"</span>,</pre>\n"
      ],
      "text/plain": [
       " in the Oval Office\",\n",
       "  \u001b[32m\"chapters\"\u001b[0m: \u001b[1m[\u001b[0m\n",
       "    \u001b[1m{\u001b[0m\n",
       "      \u001b[32m\"header\"\u001b[0m: \u001b[32m\"Introduction and Welcome\"\u001b[0m,"
      ]
     },
     "metadata": {},
     "output_type": "display_data"
    },
    {
     "data": {
      "text/html": [
       "<pre style=\"white-space:pre;overflow-x:auto;line-height:normal;font-family:Menlo,'DejaVu Sans Mono',consolas,'Courier New',monospace\">\n",
       "      <span style=\"color: #008000; text-decoration-color: #008000\">\"key_points\"</span>: <span style=\"font-weight: bold\">[</span>\n",
       "        <span style=\"color: #008000; text-decoration-color: #008000\">\"Donald Trump welcomes Ukrainian President Volodymyr Zelenskyy to the Oval Office.\"</span>,\n",
       "        \"Trump</pre>\n"
      ],
      "text/plain": [
       "\n",
       "      \u001b[32m\"key_points\"\u001b[0m: \u001b[1m[\u001b[0m\n",
       "        \u001b[32m\"Donald Trump welcomes Ukrainian President Volodymyr Zelenskyy to the Oval Office.\"\u001b[0m,\n",
       "        \"Trump"
      ]
     },
     "metadata": {},
     "output_type": "display_data"
    },
    {
     "data": {
      "text/html": [
       "<pre style=\"white-space:pre;overflow-x:auto;line-height:normal;font-family:Menlo,'DejaVu Sans Mono',consolas,'Courier New',monospace\"> states that substantial progress is being made in their discussions.\",\n",
       "        \"He mentions a recent good meeting with the President of Russia and</pre>\n"
      ],
      "text/plain": [
       " states that substantial progress is being made in their discussions.\",\n",
       "        \"He mentions a recent good meeting with the President of Russia and"
      ]
     },
     "metadata": {},
     "output_type": "display_data"
    },
    {
     "data": {
      "text/html": [
       "<pre style=\"white-space:pre;overflow-x:auto;line-height:normal;font-family:Menlo,'DejaVu Sans Mono',consolas,'Courier New',monospace\"> an upcoming meeting with seven powerful European leaders.\"\n",
       "      <span style=\"font-weight: bold\">]</span>,\n",
       "      <span style=\"color: #008000; text-decoration-color: #008000\">\"summary\"</span>: \"The video begins with a live</pre>\n"
      ],
      "text/plain": [
       " an upcoming meeting with seven powerful European leaders.\"\n",
       "      \u001b[1m]\u001b[0m,\n",
       "      \u001b[32m\"summary\"\u001b[0m: \"The video begins with a live"
      ]
     },
     "metadata": {},
     "output_type": "display_data"
    },
    {
     "data": {
      "text/html": [
       "<pre style=\"white-space:pre;overflow-x:auto;line-height:normal;font-family:Menlo,'DejaVu Sans Mono',consolas,'Courier New',monospace\"> news report from the White House, where the press is being led into the Oval Office. President Donald Trump is \n",
       "meeting with Ukrainian President</pre>\n"
      ],
      "text/plain": [
       " news report from the White House, where the press is being led into the Oval Office. President Donald Trump is \n",
       "meeting with Ukrainian President"
      ]
     },
     "metadata": {},
     "output_type": "display_data"
    },
    {
     "data": {
      "text/html": [
       "<pre style=\"white-space:pre;overflow-x:auto;line-height:normal;font-family:Menlo,'DejaVu Sans Mono',consolas,'Courier New',monospace\"> Volodymyr Zelenskyy. Trump starts by welcoming Zelenskyy, stating it's an honor to have him. He mentions they</pre>\n"
      ],
      "text/plain": [
       " Volodymyr Zelenskyy. Trump starts by welcoming Zelenskyy, stating it's an honor to have him. He mentions they"
      ]
     },
     "metadata": {},
     "output_type": "display_data"
    },
    {
     "data": {
      "text/html": [
       "<pre style=\"white-space:pre;overflow-x:auto;line-height:normal;font-family:Menlo,'DejaVu Sans Mono',consolas,'Courier New',monospace\">'ve had good discussions and that substantial progress is being made. He also refers to a recent meeting with the \n",
       "President of Russia and a</pre>\n"
      ],
      "text/plain": [
       "'ve had good discussions and that substantial progress is being made. He also refers to a recent meeting with the \n",
       "President of Russia and a"
      ]
     },
     "metadata": {},
     "output_type": "display_data"
    },
    {
     "data": {
      "text/html": [
       "<pre style=\"white-space:pre;overflow-x:auto;line-height:normal;font-family:Menlo,'DejaVu Sans Mono',consolas,'Courier New',monospace\"> forthcoming meeting with seven European leaders, highlighting the importance of the current discussions.\"\n",
       "    <span style=\"font-weight: bold\">}</span>,\n",
       "    <span style=\"font-weight: bold\">{</span>\n",
       "      <span style=\"color: #008000; text-decoration-color: #008000\">\"header\"</span>: \"Zelensky</pre>\n"
      ],
      "text/plain": [
       " forthcoming meeting with seven European leaders, highlighting the importance of the current discussions.\"\n",
       "    \u001b[1m}\u001b[0m,\n",
       "    \u001b[1m{\u001b[0m\n",
       "      \u001b[32m\"header\"\u001b[0m: \"Zelensky"
      ]
     },
     "metadata": {},
     "output_type": "display_data"
    },
    {
     "data": {
      "text/html": [
       "<pre style=\"white-space:pre;overflow-x:auto;line-height:normal;font-family:Menlo,'DejaVu Sans Mono',consolas,'Courier New',monospace\">y's Remarks and a Letter to the First Lady\",\n",
       "      <span style=\"color: #008000; text-decoration-color: #008000\">\"key_points\"</span>: <span style=\"font-weight: bold\">[</span>\n",
       "        \"Zel</pre>\n"
      ],
      "text/plain": [
       "y's Remarks and a Letter to the First Lady\",\n",
       "      \u001b[32m\"key_points\"\u001b[0m: \u001b[1m[\u001b[0m\n",
       "        \"Zel"
      ]
     },
     "metadata": {},
     "output_type": "display_data"
    },
    {
     "data": {
      "text/html": [
       "<pre style=\"white-space:pre;overflow-x:auto;line-height:normal;font-family:Menlo,'DejaVu Sans Mono',consolas,'Courier New',monospace\">enskyy thanks Trump for the invitation and his personal efforts to stop the war.\",\n",
       "        \"He thanks the First Lady of</pre>\n"
      ],
      "text/plain": [
       "enskyy thanks Trump for the invitation and his personal efforts to stop the war.\",\n",
       "        \"He thanks the First Lady of"
      ]
     },
     "metadata": {},
     "output_type": "display_data"
    },
    {
     "data": {
      "text/html": [
       "<pre style=\"white-space:pre;overflow-x:auto;line-height:normal;font-family:Menlo,'DejaVu Sans Mono',consolas,'Courier New',monospace\"> the United States for sending a letter to Putin about abducted Ukrainian children.\",\n",
       "        \"Zelenskyy presents a letter from his wife to</pre>\n"
      ],
      "text/plain": [
       " the United States for sending a letter to Putin about abducted Ukrainian children.\",\n",
       "        \"Zelenskyy presents a letter from his wife to"
      ]
     },
     "metadata": {},
     "output_type": "display_data"
    },
    {
     "data": {
      "text/html": [
       "<pre style=\"white-space:pre;overflow-x:auto;line-height:normal;font-family:Menlo,'DejaVu Sans Mono',consolas,'Courier New',monospace\"> Trump's wife.\"\n",
       "      <span style=\"font-weight: bold\">]</span>,\n",
       "      <span style=\"color: #008000; text-decoration-color: #008000\">\"summary\"</span>: \"President Zelenskyy thanks President Trump for the invitation and for</pre>\n"
      ],
      "text/plain": [
       " Trump's wife.\"\n",
       "      \u001b[1m]\u001b[0m,\n",
       "      \u001b[32m\"summary\"\u001b[0m: \"President Zelenskyy thanks President Trump for the invitation and for"
      ]
     },
     "metadata": {},
     "output_type": "display_data"
    },
    {
     "data": {
      "text/html": [
       "<pre style=\"white-space:pre;overflow-x:auto;line-height:normal;font-family:Menlo,'DejaVu Sans Mono',consolas,'Courier New',monospace\"> his personal efforts to stop the killings and the war. He also takes the opportunity to thank the First Lady of \n",
       "the United States for sending a letter to</pre>\n"
      ],
      "text/plain": [
       " his personal efforts to stop the killings and the war. He also takes the opportunity to thank the First Lady of \n",
       "the United States for sending a letter to"
      ]
     },
     "metadata": {},
     "output_type": "display_data"
    },
    {
     "data": {
      "text/html": [
       "<pre style=\"white-space:pre;overflow-x:auto;line-height:normal;font-family:Menlo,'DejaVu Sans Mono',consolas,'Courier New',monospace\"> Vladimir Putin concerning abducted Ukrainian children. Zelenskyy then hands Trump a letter from his own wife, the \n",
       "First Lady of Ukraine,</pre>\n"
      ],
      "text/plain": [
       " Vladimir Putin concerning abducted Ukrainian children. Zelenskyy then hands Trump a letter from his own wife, the \n",
       "First Lady of Ukraine,"
      ]
     },
     "metadata": {},
     "output_type": "display_data"
    },
    {
     "data": {
      "text/html": [
       "<pre style=\"white-space:pre;overflow-x:auto;line-height:normal;font-family:Menlo,'DejaVu Sans Mono',consolas,'Courier New',monospace\"> addressed to Trump's wife, which Trump accepts with a laugh.\"\n",
       "    <span style=\"font-weight: bold\">}</span>,\n",
       "    <span style=\"font-weight: bold\">{</span>\n",
       "      <span style=\"color: #008000; text-decoration-color: #008000\">\"header\"</span>: \"Press</pre>\n"
      ],
      "text/plain": [
       " addressed to Trump's wife, which Trump accepts with a laugh.\"\n",
       "    \u001b[1m}\u001b[0m,\n",
       "    \u001b[1m{\u001b[0m\n",
       "      \u001b[32m\"header\"\u001b[0m: \"Press"
      ]
     },
     "metadata": {},
     "output_type": "display_data"
    },
    {
     "data": {
      "text/html": [
       "<pre style=\"white-space:pre;overflow-x:auto;line-height:normal;font-family:Menlo,'DejaVu Sans Mono',consolas,'Courier New',monospace\"> Questions on Ending the War\",\n",
       "      <span style=\"color: #008000; text-decoration-color: #008000\">\"key_points\"</span>: <span style=\"font-weight: bold\">[</span>\n",
       "        \"A reporter questions the differing views on who</pre>\n"
      ],
      "text/plain": [
       " Questions on Ending the War\",\n",
       "      \u001b[32m\"key_points\"\u001b[0m: \u001b[1m[\u001b[0m\n",
       "        \"A reporter questions the differing views on who"
      ]
     },
     "metadata": {},
     "output_type": "display_data"
    },
    {
     "data": {
      "text/html": [
       "<pre style=\"white-space:pre;overflow-x:auto;line-height:normal;font-family:Menlo,'DejaVu Sans Mono',consolas,'Courier New',monospace\"> should end the war, citing statements from both leaders.\",\n",
       "        \"Trump expresses confidence in the possibility of a trilateral meeting with</pre>\n"
      ],
      "text/plain": [
       " should end the war, citing statements from both leaders.\",\n",
       "        \"Trump expresses confidence in the possibility of a trilateral meeting with"
      ]
     },
     "metadata": {},
     "output_type": "display_data"
    },
    {
     "data": {
      "text/html": [
       "<pre style=\"white-space:pre;overflow-x:auto;line-height:normal;font-family:Menlo,'DejaVu Sans Mono',consolas,'Courier New',monospace\"> Zelenskyy and Putin if the day's meetings go well.\",\n",
       "        \"Trump believes there is a reasonable chance of ending</pre>\n"
      ],
      "text/plain": [
       " Zelenskyy and Putin if the day's meetings go well.\",\n",
       "        \"Trump believes there is a reasonable chance of ending"
      ]
     },
     "metadata": {},
     "output_type": "display_data"
    },
    {
     "data": {
      "text/html": [
       "<pre style=\"white-space:pre;overflow-x:auto;line-height:normal;font-family:Menlo,'DejaVu Sans Mono',consolas,'Courier New',monospace\"> the war through such a meeting.\"\n",
       "      <span style=\"font-weight: bold\">]</span>,\n",
       "      <span style=\"color: #008000; text-decoration-color: #008000\">\"summary\"</span>: \"The press begins to ask questions. A reporter points</pre>\n"
      ],
      "text/plain": [
       " the war through such a meeting.\"\n",
       "      \u001b[1m]\u001b[0m,\n",
       "      \u001b[32m\"summary\"\u001b[0m: \"The press begins to ask questions. A reporter points"
      ]
     },
     "metadata": {},
     "output_type": "display_data"
    },
    {
     "data": {
      "text/html": [
       "<pre style=\"white-space:pre;overflow-x:auto;line-height:normal;font-family:Menlo,'DejaVu Sans Mono',consolas,'Courier New',monospace\"> out the differing perspectives, with Zelenskyy stating Russia must end the war it started, and Trump suggesting \n",
       "Zelenskyy could end it almost</pre>\n"
      ],
      "text/plain": [
       " out the differing perspectives, with Zelenskyy stating Russia must end the war it started, and Trump suggesting \n",
       "Zelenskyy could end it almost"
      ]
     },
     "metadata": {},
     "output_type": "display_data"
    },
    {
     "data": {
      "text/html": [
       "<pre style=\"white-space:pre;overflow-x:auto;line-height:normal;font-family:Menlo,'DejaVu Sans Mono',consolas,'Courier New',monospace\"> immediately. Trump responds by saying he believes a trilateral meeting between himself, Zelenskyy, and Putin could\n",
       "be arranged if the current</pre>\n"
      ],
      "text/plain": [
       " immediately. Trump responds by saying he believes a trilateral meeting between himself, Zelenskyy, and Putin could\n",
       "be arranged if the current"
      ]
     },
     "metadata": {},
     "output_type": "display_data"
    },
    {
     "data": {
      "text/html": [
       "<pre style=\"white-space:pre;overflow-x:auto;line-height:normal;font-family:Menlo,'DejaVu Sans Mono',consolas,'Courier New',monospace\"> discussions are successful. He asserts that this trilateral meeting would have a reasonable chance of ending the \n",
       "war.\"\n",
       "    <span style=\"font-weight: bold\">}</span>,\n",
       "    <span style=\"font-weight: bold\">{</span>\n",
       "      \"header</pre>\n"
      ],
      "text/plain": [
       " discussions are successful. He asserts that this trilateral meeting would have a reasonable chance of ending the \n",
       "war.\"\n",
       "    \u001b[1m}\u001b[0m,\n",
       "    \u001b[1m{\u001b[0m\n",
       "      \"header"
      ]
     },
     "metadata": {},
     "output_type": "display_data"
    },
    {
     "data": {
      "text/html": [
       "<pre style=\"white-space:pre;overflow-x:auto;line-height:normal;font-family:Menlo,'DejaVu Sans Mono',consolas,'Courier New',monospace\"><span style=\"color: #008000; text-decoration-color: #008000\">\": \"</span>US Support and Security Guarantees\",\n",
       "      <span style=\"color: #008000; text-decoration-color: #008000\">\"key_points\"</span>: <span style=\"font-weight: bold\">[</span>\n",
       "        \"Trump is asked if this</pre>\n"
      ],
      "text/plain": [
       "\u001b[32m\": \"\u001b[0mUS Support and Security Guarantees\",\n",
       "      \u001b[32m\"key_points\"\u001b[0m: \u001b[1m[\u001b[0m\n",
       "        \"Trump is asked if this"
      ]
     },
     "metadata": {},
     "output_type": "display_data"
    },
    {
     "data": {
      "text/html": [
       "<pre style=\"white-space:pre;overflow-x:auto;line-height:normal;font-family:Menlo,'DejaVu Sans Mono',consolas,'Courier New',monospace\"> meeting represents the end of the road for American support for Ukraine.\",\n",
       "        \"Trump denies it's the end of the road,</pre>\n"
      ],
      "text/plain": [
       " meeting represents the end of the road for American support for Ukraine.\",\n",
       "        \"Trump denies it's the end of the road,"
      ]
     },
     "metadata": {},
     "output_type": "display_data"
    },
    {
     "data": {
      "text/html": [
       "<pre style=\"white-space:pre;overflow-x:auto;line-height:normal;font-family:Menlo,'DejaVu Sans Mono',consolas,'Courier New',monospace\"> emphasizing the goal is to stop the killing.\",\n",
       "        \"Zelenskyy states that security guarantees would involve strengthening and</pre>\n"
      ],
      "text/plain": [
       " emphasizing the goal is to stop the killing.\",\n",
       "        \"Zelenskyy states that security guarantees would involve strengthening and"
      ]
     },
     "metadata": {},
     "output_type": "display_data"
    },
    {
     "data": {
      "text/html": [
       "<pre style=\"white-space:pre;overflow-x:auto;line-height:normal;font-family:Menlo,'DejaVu Sans Mono',consolas,'Courier New',monospace\"> rearming the Ukrainian military.\",\n",
       "        \"Trump does not rule out sending U.S. troops to Ukraine as part of a</pre>\n"
      ],
      "text/plain": [
       " rearming the Ukrainian military.\",\n",
       "        \"Trump does not rule out sending U.S. troops to Ukraine as part of a"
      ]
     },
     "metadata": {},
     "output_type": "display_data"
    },
    {
     "data": {
      "text/html": [
       "<pre style=\"white-space:pre;overflow-x:auto;line-height:normal;font-family:Menlo,'DejaVu Sans Mono',consolas,'Courier New',monospace\"> security arrangement.\"\n",
       "      <span style=\"font-weight: bold\">]</span>,\n",
       "      <span style=\"color: #008000; text-decoration-color: #008000\">\"summary\"</span>: \"A reporter asks if this meeting is a \\\"deal or no deal\\\" moment</pre>\n"
      ],
      "text/plain": [
       " security arrangement.\"\n",
       "      \u001b[1m]\u001b[0m,\n",
       "      \u001b[32m\"summary\"\u001b[0m: \"A reporter asks if this meeting is a \\\"deal or no deal\\\" moment"
      ]
     },
     "metadata": {},
     "output_type": "display_data"
    },
    {
     "data": {
      "text/html": [
       "<pre style=\"white-space:pre;overflow-x:auto;line-height:normal;font-family:Menlo,'DejaVu Sans Mono',consolas,'Courier New',monospace\"> for American support to Ukraine. Trump dismisses the idea that it's the \\\"end of the road,\\\" stating the</pre>\n"
      ],
      "text/plain": [
       " for American support to Ukraine. Trump dismisses the idea that it's the \\\"end of the road,\\\" stating the"
      ]
     },
     "metadata": {},
     "output_type": "display_data"
    },
    {
     "data": {
      "text/html": [
       "<pre style=\"white-space:pre;overflow-x:auto;line-height:normal;font-family:Menlo,'DejaVu Sans Mono',consolas,'Courier New',monospace\"> priority is to stop the ongoing killing. When asked about the security guarantees he needs, Zelenskyy says it \n",
       "involves everything, specifically</pre>\n"
      ],
      "text/plain": [
       " priority is to stop the ongoing killing. When asked about the security guarantees he needs, Zelenskyy says it \n",
       "involves everything, specifically"
      ]
     },
     "metadata": {},
     "output_type": "display_data"
    },
    {
     "data": {
      "text/html": [
       "<pre style=\"white-space:pre;overflow-x:auto;line-height:normal;font-family:Menlo,'DejaVu Sans Mono',consolas,'Courier New',monospace\"> mentioning the need for a strong Ukrainian army, weapons, training, and intelligence. When asked if security \n",
       "guarantees could involve U.S. troops, Trump does</pre>\n"
      ],
      "text/plain": [
       " mentioning the need for a strong Ukrainian army, weapons, training, and intelligence. When asked if security \n",
       "guarantees could involve U.S. troops, Trump does"
      ]
     },
     "metadata": {},
     "output_type": "display_data"
    },
    {
     "data": {
      "text/html": [
       "<pre style=\"white-space:pre;overflow-x:auto;line-height:normal;font-family:Menlo,'DejaVu Sans Mono',consolas,'Courier New',monospace\"> not rule it out, stating, \\\"We'll be involved\\\" and that European leaders also want to provide protection.\"\n",
       "    <span style=\"font-weight: bold\">}</span>,</pre>\n"
      ],
      "text/plain": [
       " not rule it out, stating, \\\"We'll be involved\\\" and that European leaders also want to provide protection.\"\n",
       "    \u001b[1m}\u001b[0m,"
      ]
     },
     "metadata": {},
     "output_type": "display_data"
    },
    {
     "data": {
      "text/html": [
       "<pre style=\"white-space:pre;overflow-x:auto;line-height:normal;font-family:Menlo,'DejaVu Sans Mono',consolas,'Courier New',monospace\">\n",
       "    <span style=\"font-weight: bold\">{</span>\n",
       "      <span style=\"color: #008000; text-decoration-color: #008000\">\"header\"</span>: <span style=\"color: #008000; text-decoration-color: #008000\">\"Post-Meeting Analysis\"</span>,\n",
       "      <span style=\"color: #008000; text-decoration-color: #008000\">\"key_points\"</span>: <span style=\"font-weight: bold\">[</span>\n",
       "        \"CNN anchors</pre>\n"
      ],
      "text/plain": [
       "\n",
       "    \u001b[1m{\u001b[0m\n",
       "      \u001b[32m\"header\"\u001b[0m: \u001b[32m\"Post-Meeting Analysis\"\u001b[0m,\n",
       "      \u001b[32m\"key_points\"\u001b[0m: \u001b[1m[\u001b[0m\n",
       "        \"CNN anchors"
      ]
     },
     "metadata": {},
     "output_type": "display_data"
    },
    {
     "data": {
      "text/html": [
       "<pre style=\"white-space:pre;overflow-x:auto;line-height:normal;font-family:Menlo,'DejaVu Sans Mono',consolas,'Courier New',monospace\"> describe the meeting as interesting but with some meandering from Trump.\",\n",
       "        \"A key headline is Trump's plan to call</pre>\n"
      ],
      "text/plain": [
       " describe the meeting as interesting but with some meandering from Trump.\",\n",
       "        \"A key headline is Trump's plan to call"
      ]
     },
     "metadata": {},
     "output_type": "display_data"
    },
    {
     "data": {
      "text/html": [
       "<pre style=\"white-space:pre;overflow-x:auto;line-height:normal;font-family:Menlo,'DejaVu Sans Mono',consolas,'Courier New',monospace\"> Putin right after his meetings.\",\n",
       "        <span style=\"color: #008000; text-decoration-color: #008000\">\"Analysts note the change in tone from a previous, more contentious meeting between Trump and Zelenskyy.\"</span>,</pre>\n"
      ],
      "text/plain": [
       " Putin right after his meetings.\",\n",
       "        \u001b[32m\"Analysts note the change in tone from a previous, more contentious meeting between Trump and Zelenskyy.\"\u001b[0m,"
      ]
     },
     "metadata": {},
     "output_type": "display_data"
    },
    {
     "data": {
      "text/html": [
       "<pre style=\"white-space:pre;overflow-x:auto;line-height:normal;font-family:Menlo,'DejaVu Sans Mono',consolas,'Courier New',monospace\">\n",
       "        \"An analyst points out that any peace deal cannot rest on Putin's word alone, highlighting the need for a</pre>\n"
      ],
      "text/plain": [
       "\n",
       "        \"An analyst points out that any peace deal cannot rest on Putin's word alone, highlighting the need for a"
      ]
     },
     "metadata": {},
     "output_type": "display_data"
    },
    {
     "data": {
      "text/html": [
       "<pre style=\"white-space:pre;overflow-x:auto;line-height:normal;font-family:Menlo,'DejaVu Sans Mono',consolas,'Courier New',monospace\"> physical security force.\"\n",
       "      <span style=\"font-weight: bold\">]</span>,\n",
       "      <span style=\"color: #008000; text-decoration-color: #008000\">\"summary\"</span>: \"After the press is ushered out of the Oval Office, CNN</pre>\n"
      ],
      "text/plain": [
       " physical security force.\"\n",
       "      \u001b[1m]\u001b[0m,\n",
       "      \u001b[32m\"summary\"\u001b[0m: \"After the press is ushered out of the Oval Office, CNN"
      ]
     },
     "metadata": {},
     "output_type": "display_data"
    },
    {
     "data": {
      "text/html": [
       "<pre style=\"white-space:pre;overflow-x:auto;line-height:normal;font-family:Menlo,'DejaVu Sans Mono',consolas,'Courier New',monospace\"> anchors and analysts discuss the meeting. They note Trump's relative discipline on the topic, despite some \n",
       "characteristic tangents. The major</pre>\n"
      ],
      "text/plain": [
       " anchors and analysts discuss the meeting. They note Trump's relative discipline on the topic, despite some \n",
       "characteristic tangents. The major"
      ]
     },
     "metadata": {},
     "output_type": "display_data"
    },
    {
     "data": {
      "text/html": [
       "<pre style=\"white-space:pre;overflow-x:auto;line-height:normal;font-family:Menlo,'DejaVu Sans Mono',consolas,'Courier New',monospace\"> news is Trump's announcement that he will call Vladimir Putin immediately after his meetings conclude, with the \n",
       "possibility of a trilateral summit</pre>\n"
      ],
      "text/plain": [
       " news is Trump's announcement that he will call Vladimir Putin immediately after his meetings conclude, with the \n",
       "possibility of a trilateral summit"
      ]
     },
     "metadata": {},
     "output_type": "display_data"
    },
    {
     "data": {
      "text/html": [
       "<pre style=\"white-space:pre;overflow-x:auto;line-height:normal;font-family:Menlo,'DejaVu Sans Mono',consolas,'Courier New',monospace\">. Analysts contrast the cordial tone of this meeting with a more difficult one earlier in the year. The discussion \n",
       "also touches on the necessity</pre>\n"
      ],
      "text/plain": [
       ". Analysts contrast the cordial tone of this meeting with a more difficult one earlier in the year. The discussion \n",
       "also touches on the necessity"
      ]
     },
     "metadata": {},
     "output_type": "display_data"
    },
    {
     "data": {
      "text/html": [
       "<pre style=\"white-space:pre;overflow-x:auto;line-height:normal;font-family:Menlo,'DejaVu Sans Mono',consolas,'Courier New',monospace\"> of a physical security force to enforce any peace agreement, as Putin's promises are considered unreliable.\"\n",
       "    <span style=\"font-weight: bold\">}</span>\n",
       "  </pre>\n"
      ],
      "text/plain": [
       " of a physical security force to enforce any peace agreement, as Putin's promises are considered unreliable.\"\n",
       "    \u001b[1m}\u001b[0m\n",
       "  "
      ]
     },
     "metadata": {},
     "output_type": "display_data"
    },
    {
     "data": {
      "text/html": [
       "<pre style=\"white-space:pre;overflow-x:auto;line-height:normal;font-family:Menlo,'DejaVu Sans Mono',consolas,'Courier New',monospace\"><span style=\"font-weight: bold\">]</span>,\n",
       "  <span style=\"color: #008000; text-decoration-color: #008000\">\"key_facts\"</span>: <span style=\"font-weight: bold\">[</span>\n",
       "    <span style=\"color: #008000; text-decoration-color: #008000\">\"Donald Trump held a meeting with Ukrainian President Volodymyr Zelenskyy in the Oval Office.\"</span>,\n",
       "    \"</pre>\n"
      ],
      "text/plain": [
       "\u001b[1m]\u001b[0m,\n",
       "  \u001b[32m\"key_facts\"\u001b[0m: \u001b[1m[\u001b[0m\n",
       "    \u001b[32m\"Donald Trump held a meeting with Ukrainian President Volodymyr Zelenskyy in the Oval Office.\"\u001b[0m,\n",
       "    \""
      ]
     },
     "metadata": {},
     "output_type": "display_data"
    },
    {
     "data": {
      "text/html": [
       "<pre style=\"white-space:pre;overflow-x:auto;line-height:normal;font-family:Menlo,'DejaVu Sans Mono',consolas,'Courier New',monospace\">Trump stated he would have a trilateral meeting with Zelenskyy and Putin \\\"if everything works out well today.\\\"\",\n",
       "    \"Trump announced</pre>\n"
      ],
      "text/plain": [
       "Trump stated he would have a trilateral meeting with Zelenskyy and Putin \\\"if everything works out well today.\\\"\",\n",
       "    \"Trump announced"
      ]
     },
     "metadata": {},
     "output_type": "display_data"
    },
    {
     "data": {
      "text/html": [
       "<pre style=\"white-space:pre;overflow-x:auto;line-height:normal;font-family:Menlo,'DejaVu Sans Mono',consolas,'Courier New',monospace\"> he would telephone Vladimir Putin \\\"right after\\\" his meeting with Zelenskyy.\",\n",
       "    \"Zelenskyy said that rearming and</pre>\n"
      ],
      "text/plain": [
       " he would telephone Vladimir Putin \\\"right after\\\" his meeting with Zelenskyy.\",\n",
       "    \"Zelenskyy said that rearming and"
      ]
     },
     "metadata": {},
     "output_type": "display_data"
    },
    {
     "data": {
      "text/html": [
       "<pre style=\"white-space:pre;overflow-x:auto;line-height:normal;font-family:Menlo,'DejaVu Sans Mono',consolas,'Courier New',monospace\"> strengthening Ukraine's military will be part of any security guarantees.\",\n",
       "    \"Trump did not rule out sending U.S.</pre>\n"
      ],
      "text/plain": [
       " strengthening Ukraine's military will be part of any security guarantees.\",\n",
       "    \"Trump did not rule out sending U.S."
      ]
     },
     "metadata": {},
     "output_type": "display_data"
    },
    {
     "data": {
      "text/html": [
       "<pre style=\"white-space:pre;overflow-x:auto;line-height:normal;font-family:Menlo,'DejaVu Sans Mono',consolas,'Courier New',monospace\"> troops to Ukraine to ensure security as part of a peace deal.\",\n",
       "    \"Zelenskyy delivered a letter from his wife to</pre>\n"
      ],
      "text/plain": [
       " troops to Ukraine to ensure security as part of a peace deal.\",\n",
       "    \"Zelenskyy delivered a letter from his wife to"
      ]
     },
     "metadata": {},
     "output_type": "display_data"
    },
    {
     "data": {
      "text/html": [
       "<pre style=\"white-space:pre;overflow-x:auto;line-height:normal;font-family:Menlo,'DejaVu Sans Mono',consolas,'Courier New',monospace\"> Melania Trump concerning abducted Ukrainian children.\",\n",
       "    <span style=\"color: #008000; text-decoration-color: #008000\">\"Trump claimed that Putin wants the war on Ukraine to end.\"</span>\n",
       "  <span style=\"font-weight: bold\">]</span>,\n",
       "  <span style=\"color: #008000; text-decoration-color: #008000\">\"takeaways\"</span>: <span style=\"font-weight: bold\">[</span>\n",
       "    <span style=\"color: #008000; text-decoration-color: #008000\">\"Donald Trump is actively positioning himself as a central figure in negotiating an end to the war in </span>\n",
       "<span style=\"color: #008000; text-decoration-color: #008000\">Ukraine.\"</span>,</pre>\n"
      ],
      "text/plain": [
       " Melania Trump concerning abducted Ukrainian children.\",\n",
       "    \u001b[32m\"Trump claimed that Putin wants the war on Ukraine to end.\"\u001b[0m\n",
       "  \u001b[1m]\u001b[0m,\n",
       "  \u001b[32m\"takeaways\"\u001b[0m: \u001b[1m[\u001b[0m\n",
       "    \u001b[32m\"Donald Trump is actively positioning himself as a central figure in negotiating an end to the war in \u001b[0m\n",
       "\u001b[32mUkraine.\"\u001b[0m,"
      ]
     },
     "metadata": {},
     "output_type": "display_data"
    },
    {
     "data": {
      "text/html": [
       "<pre style=\"white-space:pre;overflow-x:auto;line-height:normal;font-family:Menlo,'DejaVu Sans Mono',consolas,'Courier New',monospace\">\n",
       "    <span style=\"color: #008000; text-decoration-color: #008000\">\"A potential trilateral summit between the US, Ukraine, and Russia is being floated as a path to peace.\"</span>,\n",
       "    \"The nature</pre>\n"
      ],
      "text/plain": [
       "\n",
       "    \u001b[32m\"A potential trilateral summit between the US, Ukraine, and Russia is being floated as a path to peace.\"\u001b[0m,\n",
       "    \"The nature"
      ]
     },
     "metadata": {},
     "output_type": "display_data"
    },
    {
     "data": {
      "text/html": [
       "<pre style=\"white-space:pre;overflow-x:auto;line-height:normal;font-family:Menlo,'DejaVu Sans Mono',consolas,'Courier New',monospace\"> of future security guarantees for Ukraine, potentially involving US and European forces, is a critical point of \n",
       "negotiation.\",\n",
       "    \"Despite</pre>\n"
      ],
      "text/plain": [
       " of future security guarantees for Ukraine, potentially involving US and European forces, is a critical point of \n",
       "negotiation.\",\n",
       "    \"Despite"
      ]
     },
     "metadata": {},
     "output_type": "display_data"
    },
    {
     "data": {
      "text/html": [
       "<pre style=\"white-space:pre;overflow-x:auto;line-height:normal;font-family:Menlo,'DejaVu Sans Mono',consolas,'Courier New',monospace\"> past tensions, the meeting between Trump and Zelenskyy appeared cordial, signaling a potential shift in their \n",
       "dynamic.\",\n",
       "    \"Ukraine'</pre>\n"
      ],
      "text/plain": [
       " past tensions, the meeting between Trump and Zelenskyy appeared cordial, signaling a potential shift in their \n",
       "dynamic.\",\n",
       "    \"Ukraine'"
      ]
     },
     "metadata": {},
     "output_type": "display_data"
    },
    {
     "data": {
      "text/html": [
       "<pre style=\"white-space:pre;overflow-x:auto;line-height:normal;font-family:Menlo,'DejaVu Sans Mono',consolas,'Courier New',monospace\">s strategy for peace involves not just a cessation of hostilities but also significant military strengthening and \n",
       "concrete security guarantees from international partners.\"\n",
       "  <span style=\"font-weight: bold\">]</span>,\n",
       "  </pre>\n"
      ],
      "text/plain": [
       "s strategy for peace involves not just a cessation of hostilities but also significant military strengthening and \n",
       "concrete security guarantees from international partners.\"\n",
       "  \u001b[1m]\u001b[0m,\n",
       "  "
      ]
     },
     "metadata": {},
     "output_type": "display_data"
    },
    {
     "data": {
      "text/html": [
       "<pre style=\"white-space:pre;overflow-x:auto;line-height:normal;font-family:Menlo,'DejaVu Sans Mono',consolas,'Courier New',monospace\"><span style=\"color: #008000; text-decoration-color: #008000\">\"overall_summary\"</span>: \"In a significant diplomatic meeting at the White House, President Donald Trump hosted Ukrainian\n",
       "President Volodymyr Zelenskyy in</pre>\n"
      ],
      "text/plain": [
       "\u001b[32m\"overall_summary\"\u001b[0m: \"In a significant diplomatic meeting at the White House, President Donald Trump hosted Ukrainian\n",
       "President Volodymyr Zelenskyy in"
      ]
     },
     "metadata": {},
     "output_type": "display_data"
    },
    {
     "data": {
      "text/html": [
       "<pre style=\"white-space:pre;overflow-x:auto;line-height:normal;font-family:Menlo,'DejaVu Sans Mono',consolas,'Courier New',monospace\"> the Oval Office to discuss the ongoing war with Russia. Trump expressed optimism about making substantial progress\n",
       "towards peace, highlighting his recent discussions</pre>\n"
      ],
      "text/plain": [
       " the Oval Office to discuss the ongoing war with Russia. Trump expressed optimism about making substantial progress\n",
       "towards peace, highlighting his recent discussions"
      ]
     },
     "metadata": {},
     "output_type": "display_data"
    },
    {
     "data": {
      "text/html": [
       "<pre style=\"white-space:pre;overflow-x:auto;line-height:normal;font-family:Menlo,'DejaVu Sans Mono',consolas,'Courier New',monospace\"> with Russia's president and upcoming talks with European leaders. A key announcement from the meeting was Trump's \n",
       "intention to call Vladimir</pre>\n"
      ],
      "text/plain": [
       " with Russia's president and upcoming talks with European leaders. A key announcement from the meeting was Trump's \n",
       "intention to call Vladimir"
      ]
     },
     "metadata": {},
     "output_type": "display_data"
    },
    {
     "data": {
      "text/html": [
       "<pre style=\"white-space:pre;overflow-x:auto;line-height:normal;font-family:Menlo,'DejaVu Sans Mono',consolas,'Courier New',monospace\"> Putin immediately following the discussions, with the potential for a trilateral summit between the three leaders \n",
       "to broker a peace deal. President</pre>\n"
      ],
      "text/plain": [
       " Putin immediately following the discussions, with the potential for a trilateral summit between the three leaders \n",
       "to broker a peace deal. President"
      ]
     },
     "metadata": {},
     "output_type": "display_data"
    },
    {
     "data": {
      "text/html": [
       "<pre style=\"white-space:pre;overflow-x:auto;line-height:normal;font-family:Menlo,'DejaVu Sans Mono',consolas,'Courier New',monospace\"> Zelenskyy thanked Trump for his efforts and emphasized Ukraine's need for robust, long-term security guarantees, \n",
       "which he</pre>\n"
      ],
      "text/plain": [
       " Zelenskyy thanked Trump for his efforts and emphasized Ukraine's need for robust, long-term security guarantees, \n",
       "which he"
      ]
     },
     "metadata": {},
     "output_type": "display_data"
    },
    {
     "data": {
      "text/html": [
       "<pre style=\"white-space:pre;overflow-x:auto;line-height:normal;font-family:Menlo,'DejaVu Sans Mono',consolas,'Courier New',monospace\"> defined as including the rearming and strengthening of the Ukrainian military with weapons, training, and \n",
       "intelligence. When questioned by the</pre>\n"
      ],
      "text/plain": [
       " defined as including the rearming and strengthening of the Ukrainian military with weapons, training, and \n",
       "intelligence. When questioned by the"
      ]
     },
     "metadata": {},
     "output_type": "display_data"
    },
    {
     "data": {
      "text/html": [
       "<pre style=\"white-space:pre;overflow-x:auto;line-height:normal;font-family:Menlo,'DejaVu Sans Mono',consolas,'Courier New',monospace\"> press, Trump did not rule out the possibility of sending U.S. troops to Ukraine as part of a security enforcement</pre>\n"
      ],
      "text/plain": [
       " press, Trump did not rule out the possibility of sending U.S. troops to Ukraine as part of a security enforcement"
      ]
     },
     "metadata": {},
     "output_type": "display_data"
    },
    {
     "data": {
      "text/html": [
       "<pre style=\"white-space:pre;overflow-x:auto;line-height:normal;font-family:Menlo,'DejaVu Sans Mono',consolas,'Courier New',monospace\"> plan, stating that the U.S. and European allies would be involved in ensuring a lasting peace. The meeting \n",
       "maintained</pre>\n"
      ],
      "text/plain": [
       " plan, stating that the U.S. and European allies would be involved in ensuring a lasting peace. The meeting \n",
       "maintained"
      ]
     },
     "metadata": {},
     "output_type": "display_data"
    },
    {
     "data": {
      "text/html": [
       "<pre style=\"white-space:pre;overflow-x:auto;line-height:normal;font-family:Menlo,'DejaVu Sans Mono',consolas,'Courier New',monospace\"> a cordial tone, a notable shift from previous interactions, with both leaders focused on the goal of ending the \n",
       "conflict.\"\n",
       "<span style=\"font-weight: bold\">}</span></pre>\n"
      ],
      "text/plain": [
       " a cordial tone, a notable shift from previous interactions, with both leaders focused on the goal of ending the \n",
       "conflict.\"\n",
       "\u001b[1m}\u001b[0m"
      ]
     },
     "metadata": {},
     "output_type": "display_data"
    },
    {
     "data": {
      "text/html": [
       "<pre style=\"white-space:pre;overflow-x:auto;line-height:normal;font-family:Menlo,'DejaVu Sans Mono',consolas,'Courier New',monospace\"><span style=\"color: #800080; text-decoration-color: #800080; font-weight: bold\">Analysis</span><span style=\"font-weight: bold\">(</span>\n",
       "    <span style=\"color: #808000; text-decoration-color: #808000\">title</span>=<span style=\"color: #008000; text-decoration-color: #008000\">'Trump Holds Meeting with Zelensky in the Oval Office'</span>,\n",
       "    <span style=\"color: #808000; text-decoration-color: #808000\">chapters</span>=<span style=\"font-weight: bold\">[</span>\n",
       "        <span style=\"color: #800080; text-decoration-color: #800080; font-weight: bold\">Chapter</span><span style=\"font-weight: bold\">(</span>\n",
       "            <span style=\"color: #808000; text-decoration-color: #808000\">header</span>=<span style=\"color: #008000; text-decoration-color: #008000\">'Introduction and Welcome'</span>,\n",
       "            <span style=\"color: #808000; text-decoration-color: #808000\">key_points</span>=<span style=\"font-weight: bold\">[</span>\n",
       "                <span style=\"color: #008000; text-decoration-color: #008000\">'Donald Trump welcomes Ukrainian President Volodymyr Zelenskyy to the Oval Office.'</span>,\n",
       "                <span style=\"color: #008000; text-decoration-color: #008000\">'Trump states that substantial progress is being made in their discussions.'</span>,\n",
       "                <span style=\"color: #008000; text-decoration-color: #008000\">'He mentions a recent good meeting with the President of Russia and an upcoming meeting with seven </span>\n",
       "<span style=\"color: #008000; text-decoration-color: #008000\">powerful European leaders.'</span>\n",
       "            <span style=\"font-weight: bold\">]</span>,\n",
       "            <span style=\"color: #808000; text-decoration-color: #808000\">summary</span>=<span style=\"color: #008000; text-decoration-color: #008000\">\"The video begins with a live news report from the White House, where the press is being led </span>\n",
       "<span style=\"color: #008000; text-decoration-color: #008000\">into the Oval Office. President Donald Trump is meeting with Ukrainian President Volodymyr Zelenskyy. Trump starts </span>\n",
       "<span style=\"color: #008000; text-decoration-color: #008000\">by welcoming Zelenskyy, stating it's an honor to have him. He mentions they've had good discussions and that </span>\n",
       "<span style=\"color: #008000; text-decoration-color: #008000\">substantial progress is being made. He also refers to a recent meeting with the President of Russia and a </span>\n",
       "<span style=\"color: #008000; text-decoration-color: #008000\">forthcoming meeting with seven European leaders, highlighting the importance of the current discussions.\"</span>\n",
       "        <span style=\"font-weight: bold\">)</span>,\n",
       "        <span style=\"color: #800080; text-decoration-color: #800080; font-weight: bold\">Chapter</span><span style=\"font-weight: bold\">(</span>\n",
       "            <span style=\"color: #808000; text-decoration-color: #808000\">header</span>=<span style=\"color: #008000; text-decoration-color: #008000\">\"Zelenskyy's Remarks and a Letter to the First Lady\"</span>,\n",
       "            <span style=\"color: #808000; text-decoration-color: #808000\">key_points</span>=<span style=\"font-weight: bold\">[</span>\n",
       "                <span style=\"color: #008000; text-decoration-color: #008000\">'Zelenskyy thanks Trump for the invitation and his personal efforts to stop the war.'</span>,\n",
       "                <span style=\"color: #008000; text-decoration-color: #008000\">'He thanks the First Lady of the United States for sending a letter to Putin about abducted </span>\n",
       "<span style=\"color: #008000; text-decoration-color: #008000\">Ukrainian children.'</span>,\n",
       "                <span style=\"color: #008000; text-decoration-color: #008000\">\"Zelenskyy presents a letter from his wife to Trump's wife.\"</span>\n",
       "            <span style=\"font-weight: bold\">]</span>,\n",
       "            <span style=\"color: #808000; text-decoration-color: #808000\">summary</span>=<span style=\"color: #008000; text-decoration-color: #008000\">\"President Zelenskyy thanks President Trump for the invitation and for his personal efforts to </span>\n",
       "<span style=\"color: #008000; text-decoration-color: #008000\">stop the killings and the war. He also takes the opportunity to thank the First Lady of the United States for </span>\n",
       "<span style=\"color: #008000; text-decoration-color: #008000\">sending a letter to Vladimir Putin concerning abducted Ukrainian children. Zelenskyy then hands Trump a letter from</span>\n",
       "<span style=\"color: #008000; text-decoration-color: #008000\">his own wife, the First Lady of Ukraine, addressed to Trump's wife, which Trump accepts with a laugh.\"</span>\n",
       "        <span style=\"font-weight: bold\">)</span>,\n",
       "        <span style=\"color: #800080; text-decoration-color: #800080; font-weight: bold\">Chapter</span><span style=\"font-weight: bold\">(</span>\n",
       "            <span style=\"color: #808000; text-decoration-color: #808000\">header</span>=<span style=\"color: #008000; text-decoration-color: #008000\">'Press Questions on Ending the War'</span>,\n",
       "            <span style=\"color: #808000; text-decoration-color: #808000\">key_points</span>=<span style=\"font-weight: bold\">[</span>\n",
       "                <span style=\"color: #008000; text-decoration-color: #008000\">'A reporter questions the differing views on who should end the war, citing statements from both </span>\n",
       "<span style=\"color: #008000; text-decoration-color: #008000\">leaders.'</span>,\n",
       "                <span style=\"color: #008000; text-decoration-color: #008000\">\"Trump expresses confidence in the possibility of a trilateral meeting with Zelenskyy and Putin if </span>\n",
       "<span style=\"color: #008000; text-decoration-color: #008000\">the day's meetings go well.\"</span>,\n",
       "                <span style=\"color: #008000; text-decoration-color: #008000\">'Trump believes there is a reasonable chance of ending the war through such a meeting.'</span>\n",
       "            <span style=\"font-weight: bold\">]</span>,\n",
       "            <span style=\"color: #808000; text-decoration-color: #808000\">summary</span>=<span style=\"color: #008000; text-decoration-color: #008000\">'The press begins to ask questions. A reporter points out the differing perspectives, with </span>\n",
       "<span style=\"color: #008000; text-decoration-color: #008000\">Zelenskyy stating Russia must end the war it started, and Trump suggesting Zelenskyy could end it almost </span>\n",
       "<span style=\"color: #008000; text-decoration-color: #008000\">immediately. Trump responds by saying he believes a trilateral meeting between himself, Zelenskyy, and Putin could </span>\n",
       "<span style=\"color: #008000; text-decoration-color: #008000\">be arranged if the current discussions are successful. He asserts that this trilateral meeting would have a </span>\n",
       "<span style=\"color: #008000; text-decoration-color: #008000\">reasonable chance of ending the war.'</span>\n",
       "        <span style=\"font-weight: bold\">)</span>,\n",
       "        <span style=\"color: #800080; text-decoration-color: #800080; font-weight: bold\">Chapter</span><span style=\"font-weight: bold\">(</span>\n",
       "            <span style=\"color: #808000; text-decoration-color: #808000\">header</span>=<span style=\"color: #008000; text-decoration-color: #008000\">'US Support and Security Guarantees'</span>,\n",
       "            <span style=\"color: #808000; text-decoration-color: #808000\">key_points</span>=<span style=\"font-weight: bold\">[</span>\n",
       "                <span style=\"color: #008000; text-decoration-color: #008000\">'Trump is asked if this meeting represents the end of the road for American support for Ukraine.'</span>,\n",
       "                <span style=\"color: #008000; text-decoration-color: #008000\">\"Trump denies it's the end of the road, emphasizing the goal is to stop the killing.\"</span>,\n",
       "                <span style=\"color: #008000; text-decoration-color: #008000\">'Zelenskyy states that security guarantees would involve strengthening and rearming the Ukrainian </span>\n",
       "<span style=\"color: #008000; text-decoration-color: #008000\">military.'</span>,\n",
       "                <span style=\"color: #008000; text-decoration-color: #008000\">'Trump does not rule out sending U.S. troops to Ukraine as part of a security arrangement.'</span>\n",
       "            <span style=\"font-weight: bold\">]</span>,\n",
       "            <span style=\"color: #808000; text-decoration-color: #808000\">summary</span>=<span style=\"color: #008000; text-decoration-color: #008000\">'A reporter asks if this meeting is a \"deal or no deal\" moment for American support to Ukraine.</span>\n",
       "<span style=\"color: #008000; text-decoration-color: #008000\">Trump dismisses the idea that it\\'s the \"end of the road,\" stating the priority is to stop the ongoing killing. </span>\n",
       "<span style=\"color: #008000; text-decoration-color: #008000\">When asked about the security guarantees he needs, Zelenskyy says it involves everything, specifically mentioning </span>\n",
       "<span style=\"color: #008000; text-decoration-color: #008000\">the need for a strong Ukrainian army, weapons, training, and intelligence. When asked if security guarantees could </span>\n",
       "<span style=\"color: #008000; text-decoration-color: #008000\">involve U.S. troops, Trump does not rule it out, stating, \"We\\'ll be involved\" and that European leaders also want </span>\n",
       "<span style=\"color: #008000; text-decoration-color: #008000\">to provide protection.'</span>\n",
       "        <span style=\"font-weight: bold\">)</span>,\n",
       "        <span style=\"color: #800080; text-decoration-color: #800080; font-weight: bold\">Chapter</span><span style=\"font-weight: bold\">(</span>\n",
       "            <span style=\"color: #808000; text-decoration-color: #808000\">header</span>=<span style=\"color: #008000; text-decoration-color: #008000\">'Post-Meeting Analysis'</span>,\n",
       "            <span style=\"color: #808000; text-decoration-color: #808000\">key_points</span>=<span style=\"font-weight: bold\">[</span>\n",
       "                <span style=\"color: #008000; text-decoration-color: #008000\">'CNN anchors describe the meeting as interesting but with some meandering from Trump.'</span>,\n",
       "                <span style=\"color: #008000; text-decoration-color: #008000\">\"A key headline is Trump's plan to call Putin right after his meetings.\"</span>,\n",
       "                <span style=\"color: #008000; text-decoration-color: #008000\">'Analysts note the change in tone from a previous, more contentious meeting between Trump and </span>\n",
       "<span style=\"color: #008000; text-decoration-color: #008000\">Zelenskyy.'</span>,\n",
       "                <span style=\"color: #008000; text-decoration-color: #008000\">\"An analyst points out that any peace deal cannot rest on Putin's word alone, highlighting the need</span>\n",
       "<span style=\"color: #008000; text-decoration-color: #008000\">for a physical security force.\"</span>\n",
       "            <span style=\"font-weight: bold\">]</span>,\n",
       "            <span style=\"color: #808000; text-decoration-color: #808000\">summary</span>=<span style=\"color: #008000; text-decoration-color: #008000\">\"After the press is ushered out of the Oval Office, CNN anchors and analysts discuss the </span>\n",
       "<span style=\"color: #008000; text-decoration-color: #008000\">meeting. They note Trump's relative discipline on the topic, despite some characteristic tangents. The major news </span>\n",
       "<span style=\"color: #008000; text-decoration-color: #008000\">is Trump's announcement that he will call Vladimir Putin immediately after his meetings conclude, with the </span>\n",
       "<span style=\"color: #008000; text-decoration-color: #008000\">possibility of a trilateral summit. Analysts contrast the cordial tone of this meeting with a more difficult one </span>\n",
       "<span style=\"color: #008000; text-decoration-color: #008000\">earlier in the year. The discussion also touches on the necessity of a physical security force to enforce any peace</span>\n",
       "<span style=\"color: #008000; text-decoration-color: #008000\">agreement, as Putin's promises are considered unreliable.\"</span>\n",
       "        <span style=\"font-weight: bold\">)</span>\n",
       "    <span style=\"font-weight: bold\">]</span>,\n",
       "    <span style=\"color: #808000; text-decoration-color: #808000\">key_facts</span>=<span style=\"font-weight: bold\">[</span>\n",
       "        <span style=\"color: #008000; text-decoration-color: #008000\">'Donald Trump held a meeting with Ukrainian President Volodymyr Zelenskyy in the Oval Office.'</span>,\n",
       "        <span style=\"color: #008000; text-decoration-color: #008000\">'Trump stated he would have a trilateral meeting with Zelenskyy and Putin \"if everything works out well </span>\n",
       "<span style=\"color: #008000; text-decoration-color: #008000\">today.\"'</span>,\n",
       "        <span style=\"color: #008000; text-decoration-color: #008000\">'Trump announced he would telephone Vladimir Putin \"right after\" his meeting with Zelenskyy.'</span>,\n",
       "        <span style=\"color: #008000; text-decoration-color: #008000\">\"Zelenskyy said that rearming and strengthening Ukraine's military will be part of any security </span>\n",
       "<span style=\"color: #008000; text-decoration-color: #008000\">guarantees.\"</span>,\n",
       "        <span style=\"color: #008000; text-decoration-color: #008000\">'Trump did not rule out sending U.S. troops to Ukraine to ensure security as part of a peace deal.'</span>,\n",
       "        <span style=\"color: #008000; text-decoration-color: #008000\">'Zelenskyy delivered a letter from his wife to Melania Trump concerning abducted Ukrainian children.'</span>,\n",
       "        <span style=\"color: #008000; text-decoration-color: #008000\">'Trump claimed that Putin wants the war on Ukraine to end.'</span>\n",
       "    <span style=\"font-weight: bold\">]</span>,\n",
       "    <span style=\"color: #808000; text-decoration-color: #808000\">takeaways</span>=<span style=\"font-weight: bold\">[</span>\n",
       "        <span style=\"color: #008000; text-decoration-color: #008000\">'Donald Trump is actively positioning himself as a central figure in negotiating an end to the war in </span>\n",
       "<span style=\"color: #008000; text-decoration-color: #008000\">Ukraine.'</span>,\n",
       "        <span style=\"color: #008000; text-decoration-color: #008000\">'A potential trilateral summit between the US, Ukraine, and Russia is being floated as a path to peace.'</span>,\n",
       "        <span style=\"color: #008000; text-decoration-color: #008000\">'The nature of future security guarantees for Ukraine, potentially involving US and European forces, is a </span>\n",
       "<span style=\"color: #008000; text-decoration-color: #008000\">critical point of negotiation.'</span>,\n",
       "        <span style=\"color: #008000; text-decoration-color: #008000\">'Despite past tensions, the meeting between Trump and Zelenskyy appeared cordial, signaling a potential </span>\n",
       "<span style=\"color: #008000; text-decoration-color: #008000\">shift in their dynamic.'</span>,\n",
       "        <span style=\"color: #008000; text-decoration-color: #008000\">\"Ukraine's strategy for peace involves not just a cessation of hostilities but also significant military </span>\n",
       "<span style=\"color: #008000; text-decoration-color: #008000\">strengthening and concrete security guarantees from international partners.\"</span>\n",
       "    <span style=\"font-weight: bold\">]</span>,\n",
       "    <span style=\"color: #808000; text-decoration-color: #808000\">overall_summary</span>=<span style=\"color: #008000; text-decoration-color: #008000\">\"In a significant diplomatic meeting at the White House, President Donald Trump hosted </span>\n",
       "<span style=\"color: #008000; text-decoration-color: #008000\">Ukrainian President Volodymyr Zelenskyy in the Oval Office to discuss the ongoing war with Russia. Trump expressed </span>\n",
       "<span style=\"color: #008000; text-decoration-color: #008000\">optimism about making substantial progress towards peace, highlighting his recent discussions with Russia's </span>\n",
       "<span style=\"color: #008000; text-decoration-color: #008000\">president and upcoming talks with European leaders. A key announcement from the meeting was Trump's intention to </span>\n",
       "<span style=\"color: #008000; text-decoration-color: #008000\">call Vladimir Putin immediately following the discussions, with the potential for a trilateral summit between the </span>\n",
       "<span style=\"color: #008000; text-decoration-color: #008000\">three leaders to broker a peace deal. President Zelenskyy thanked Trump for his efforts and emphasized Ukraine's </span>\n",
       "<span style=\"color: #008000; text-decoration-color: #008000\">need for robust, long-term security guarantees, which he defined as including the rearming and strengthening of the</span>\n",
       "<span style=\"color: #008000; text-decoration-color: #008000\">Ukrainian military with weapons, training, and intelligence. When questioned by the press, Trump did not rule out </span>\n",
       "<span style=\"color: #008000; text-decoration-color: #008000\">the possibility of sending U.S. troops to Ukraine as part of a security enforcement plan, stating that the U.S. and</span>\n",
       "<span style=\"color: #008000; text-decoration-color: #008000\">European allies would be involved in ensuring a lasting peace. The meeting maintained a cordial tone, a notable </span>\n",
       "<span style=\"color: #008000; text-decoration-color: #008000\">shift from previous interactions, with both leaders focused on the goal of ending the conflict.\"</span>\n",
       "<span style=\"font-weight: bold\">)</span>\n",
       "</pre>\n"
      ],
      "text/plain": [
       "\u001b[1;35mAnalysis\u001b[0m\u001b[1m(\u001b[0m\n",
       "    \u001b[33mtitle\u001b[0m=\u001b[32m'Trump Holds Meeting with Zelensky in the Oval Office'\u001b[0m,\n",
       "    \u001b[33mchapters\u001b[0m=\u001b[1m[\u001b[0m\n",
       "        \u001b[1;35mChapter\u001b[0m\u001b[1m(\u001b[0m\n",
       "            \u001b[33mheader\u001b[0m=\u001b[32m'Introduction and Welcome'\u001b[0m,\n",
       "            \u001b[33mkey_points\u001b[0m=\u001b[1m[\u001b[0m\n",
       "                \u001b[32m'Donald Trump welcomes Ukrainian President Volodymyr Zelenskyy to the Oval Office.'\u001b[0m,\n",
       "                \u001b[32m'Trump states that substantial progress is being made in their discussions.'\u001b[0m,\n",
       "                \u001b[32m'He mentions a recent good meeting with the President of Russia and an upcoming meeting with seven \u001b[0m\n",
       "\u001b[32mpowerful European leaders.'\u001b[0m\n",
       "            \u001b[1m]\u001b[0m,\n",
       "            \u001b[33msummary\u001b[0m=\u001b[32m\"The\u001b[0m\u001b[32m video begins with a live news report from the White House, where the press is being led \u001b[0m\n",
       "\u001b[32minto the Oval Office. President Donald Trump is meeting with Ukrainian President Volodymyr Zelenskyy. Trump starts \u001b[0m\n",
       "\u001b[32mby welcoming Zelenskyy, stating it's an honor to have him. He mentions they've had good discussions and that \u001b[0m\n",
       "\u001b[32msubstantial progress is being made. He also refers to a recent meeting with the President of Russia and a \u001b[0m\n",
       "\u001b[32mforthcoming meeting with seven European leaders, highlighting the importance of the current discussions.\"\u001b[0m\n",
       "        \u001b[1m)\u001b[0m,\n",
       "        \u001b[1;35mChapter\u001b[0m\u001b[1m(\u001b[0m\n",
       "            \u001b[33mheader\u001b[0m=\u001b[32m\"Zelenskyy\u001b[0m\u001b[32m's Remarks and a Letter to the First Lady\"\u001b[0m,\n",
       "            \u001b[33mkey_points\u001b[0m=\u001b[1m[\u001b[0m\n",
       "                \u001b[32m'Zelenskyy thanks Trump for the invitation and his personal efforts to stop the war.'\u001b[0m,\n",
       "                \u001b[32m'He thanks the First Lady of the United States for sending a letter to Putin about abducted \u001b[0m\n",
       "\u001b[32mUkrainian children.'\u001b[0m,\n",
       "                \u001b[32m\"Zelenskyy presents a letter from his wife to Trump's wife.\"\u001b[0m\n",
       "            \u001b[1m]\u001b[0m,\n",
       "            \u001b[33msummary\u001b[0m=\u001b[32m\"President\u001b[0m\u001b[32m Zelenskyy thanks President Trump for the invitation and for his personal efforts to \u001b[0m\n",
       "\u001b[32mstop the killings and the war. He also takes the opportunity to thank the First Lady of the United States for \u001b[0m\n",
       "\u001b[32msending a letter to Vladimir Putin concerning abducted Ukrainian children. Zelenskyy then hands Trump a letter from\u001b[0m\n",
       "\u001b[32mhis own wife, the First Lady of Ukraine, addressed to Trump's wife, which Trump accepts with a laugh.\"\u001b[0m\n",
       "        \u001b[1m)\u001b[0m,\n",
       "        \u001b[1;35mChapter\u001b[0m\u001b[1m(\u001b[0m\n",
       "            \u001b[33mheader\u001b[0m=\u001b[32m'Press Questions on Ending the War'\u001b[0m,\n",
       "            \u001b[33mkey_points\u001b[0m=\u001b[1m[\u001b[0m\n",
       "                \u001b[32m'A reporter questions the differing views on who should end the war, citing statements from both \u001b[0m\n",
       "\u001b[32mleaders.'\u001b[0m,\n",
       "                \u001b[32m\"Trump expresses confidence in the possibility of a trilateral meeting with Zelenskyy and Putin if \u001b[0m\n",
       "\u001b[32mthe day's meetings go well.\"\u001b[0m,\n",
       "                \u001b[32m'Trump believes there is a reasonable chance of ending the war through such a meeting.'\u001b[0m\n",
       "            \u001b[1m]\u001b[0m,\n",
       "            \u001b[33msummary\u001b[0m=\u001b[32m'The press begins to ask questions. A reporter points out the differing perspectives, with \u001b[0m\n",
       "\u001b[32mZelenskyy stating Russia must end the war it started, and Trump suggesting Zelenskyy could end it almost \u001b[0m\n",
       "\u001b[32mimmediately. Trump responds by saying he believes a trilateral meeting between himself, Zelenskyy, and Putin could \u001b[0m\n",
       "\u001b[32mbe arranged if the current discussions are successful. He asserts that this trilateral meeting would have a \u001b[0m\n",
       "\u001b[32mreasonable chance of ending the war.'\u001b[0m\n",
       "        \u001b[1m)\u001b[0m,\n",
       "        \u001b[1;35mChapter\u001b[0m\u001b[1m(\u001b[0m\n",
       "            \u001b[33mheader\u001b[0m=\u001b[32m'US Support and Security Guarantees'\u001b[0m,\n",
       "            \u001b[33mkey_points\u001b[0m=\u001b[1m[\u001b[0m\n",
       "                \u001b[32m'Trump is asked if this meeting represents the end of the road for American support for Ukraine.'\u001b[0m,\n",
       "                \u001b[32m\"Trump denies it's the end of the road, emphasizing the goal is to stop the killing.\"\u001b[0m,\n",
       "                \u001b[32m'Zelenskyy states that security guarantees would involve strengthening and rearming the Ukrainian \u001b[0m\n",
       "\u001b[32mmilitary.'\u001b[0m,\n",
       "                \u001b[32m'Trump does not rule out sending U.S. troops to Ukraine as part of a security arrangement.'\u001b[0m\n",
       "            \u001b[1m]\u001b[0m,\n",
       "            \u001b[33msummary\u001b[0m=\u001b[32m'A reporter asks if this meeting is a \"deal or no deal\" moment for American support to Ukraine.\u001b[0m\n",
       "\u001b[32mTrump dismisses the idea that it\\'s the \"end of the road,\" stating the priority is to stop the ongoing killing. \u001b[0m\n",
       "\u001b[32mWhen asked about the security guarantees he needs, Zelenskyy says it involves everything, specifically mentioning \u001b[0m\n",
       "\u001b[32mthe need for a strong Ukrainian army, weapons, training, and intelligence. When asked if security guarantees could \u001b[0m\n",
       "\u001b[32minvolve U.S. troops, Trump does not rule it out, stating, \"We\\'ll be involved\" and that European leaders also want \u001b[0m\n",
       "\u001b[32mto provide protection.'\u001b[0m\n",
       "        \u001b[1m)\u001b[0m,\n",
       "        \u001b[1;35mChapter\u001b[0m\u001b[1m(\u001b[0m\n",
       "            \u001b[33mheader\u001b[0m=\u001b[32m'Post-Meeting Analysis'\u001b[0m,\n",
       "            \u001b[33mkey_points\u001b[0m=\u001b[1m[\u001b[0m\n",
       "                \u001b[32m'CNN anchors describe the meeting as interesting but with some meandering from Trump.'\u001b[0m,\n",
       "                \u001b[32m\"A key headline is Trump's plan to call Putin right after his meetings.\"\u001b[0m,\n",
       "                \u001b[32m'Analysts note the change in tone from a previous, more contentious meeting between Trump and \u001b[0m\n",
       "\u001b[32mZelenskyy.'\u001b[0m,\n",
       "                \u001b[32m\"An analyst points out that any peace deal cannot rest on Putin's word alone, highlighting the need\u001b[0m\n",
       "\u001b[32mfor a physical security force.\"\u001b[0m\n",
       "            \u001b[1m]\u001b[0m,\n",
       "            \u001b[33msummary\u001b[0m=\u001b[32m\"After\u001b[0m\u001b[32m the press is ushered out of the Oval Office, CNN anchors and analysts discuss the \u001b[0m\n",
       "\u001b[32mmeeting. They note Trump's relative discipline on the topic, despite some characteristic tangents. The major news \u001b[0m\n",
       "\u001b[32mis Trump's announcement that he will call Vladimir Putin immediately after his meetings conclude, with the \u001b[0m\n",
       "\u001b[32mpossibility of a trilateral summit. Analysts contrast the cordial tone of this meeting with a more difficult one \u001b[0m\n",
       "\u001b[32mearlier in the year. The discussion also touches on the necessity of a physical security force to enforce any peace\u001b[0m\n",
       "\u001b[32magreement, as Putin's promises are considered unreliable.\"\u001b[0m\n",
       "        \u001b[1m)\u001b[0m\n",
       "    \u001b[1m]\u001b[0m,\n",
       "    \u001b[33mkey_facts\u001b[0m=\u001b[1m[\u001b[0m\n",
       "        \u001b[32m'Donald Trump held a meeting with Ukrainian President Volodymyr Zelenskyy in the Oval Office.'\u001b[0m,\n",
       "        \u001b[32m'Trump stated he would have a trilateral meeting with Zelenskyy and Putin \"if everything works out well \u001b[0m\n",
       "\u001b[32mtoday.\"'\u001b[0m,\n",
       "        \u001b[32m'Trump announced he would telephone Vladimir Putin \"right after\" his meeting with Zelenskyy.'\u001b[0m,\n",
       "        \u001b[32m\"Zelenskyy said that rearming and strengthening Ukraine's military will be part of any security \u001b[0m\n",
       "\u001b[32mguarantees.\"\u001b[0m,\n",
       "        \u001b[32m'Trump did not rule out sending U.S. troops to Ukraine to ensure security as part of a peace deal.'\u001b[0m,\n",
       "        \u001b[32m'Zelenskyy delivered a letter from his wife to Melania Trump concerning abducted Ukrainian children.'\u001b[0m,\n",
       "        \u001b[32m'Trump claimed that Putin wants the war on Ukraine to end.'\u001b[0m\n",
       "    \u001b[1m]\u001b[0m,\n",
       "    \u001b[33mtakeaways\u001b[0m=\u001b[1m[\u001b[0m\n",
       "        \u001b[32m'Donald Trump is actively positioning himself as a central figure in negotiating an end to the war in \u001b[0m\n",
       "\u001b[32mUkraine.'\u001b[0m,\n",
       "        \u001b[32m'A potential trilateral summit between the US, Ukraine, and Russia is being floated as a path to peace.'\u001b[0m,\n",
       "        \u001b[32m'The nature of future security guarantees for Ukraine, potentially involving US and European forces, is a \u001b[0m\n",
       "\u001b[32mcritical point of negotiation.'\u001b[0m,\n",
       "        \u001b[32m'Despite past tensions, the meeting between Trump and Zelenskyy appeared cordial, signaling a potential \u001b[0m\n",
       "\u001b[32mshift in their dynamic.'\u001b[0m,\n",
       "        \u001b[32m\"Ukraine's strategy for peace involves not just a cessation of hostilities but also significant military \u001b[0m\n",
       "\u001b[32mstrengthening and concrete security guarantees from international partners.\"\u001b[0m\n",
       "    \u001b[1m]\u001b[0m,\n",
       "    \u001b[33moverall_summary\u001b[0m=\u001b[32m\"In\u001b[0m\u001b[32m a significant diplomatic meeting at the White House, President Donald Trump hosted \u001b[0m\n",
       "\u001b[32mUkrainian President Volodymyr Zelenskyy in the Oval Office to discuss the ongoing war with Russia. Trump expressed \u001b[0m\n",
       "\u001b[32moptimism about making substantial progress towards peace, highlighting his recent discussions with Russia's \u001b[0m\n",
       "\u001b[32mpresident and upcoming talks with European leaders. A key announcement from the meeting was Trump's intention to \u001b[0m\n",
       "\u001b[32mcall Vladimir Putin immediately following the discussions, with the potential for a trilateral summit between the \u001b[0m\n",
       "\u001b[32mthree leaders to broker a peace deal. President Zelenskyy thanked Trump for his efforts and emphasized Ukraine's \u001b[0m\n",
       "\u001b[32mneed for robust, long-term security guarantees, which he defined as including the rearming and strengthening of the\u001b[0m\n",
       "\u001b[32mUkrainian military with weapons, training, and intelligence. When questioned by the press, Trump did not rule out \u001b[0m\n",
       "\u001b[32mthe possibility of sending U.S. troops to Ukraine as part of a security enforcement plan, stating that the U.S. and\u001b[0m\n",
       "\u001b[32mEuropean allies would be involved in ensuring a lasting peace. The meeting maintained a cordial tone, a notable \u001b[0m\n",
       "\u001b[32mshift from previous interactions, with both leaders focused on the goal of ending the conflict.\"\u001b[0m\n",
       "\u001b[1m)\u001b[0m\n"
      ]
     },
     "metadata": {},
     "output_type": "display_data"
    }
   ],
   "source": [
    "import os\n",
    "\n",
    "from dotenv import load_dotenv\n",
    "from google.genai import Client, types\n",
    "from pydantic import BaseModel, Field\n",
    "from rich import print\n",
    "\n",
    "load_dotenv()\n",
    "\n",
    "\n",
    "class Chapter(BaseModel):\n",
    "    header: str = Field(description=\"A descriptive title for the chapter\")\n",
    "    key_points: list[str] = Field(description=\"Important takeaways and insights from this chapter\")\n",
    "    summary: str = Field(description=\"A comprehensive summary of the chapter content\")\n",
    "\n",
    "\n",
    "class Analysis(BaseModel):\n",
    "    title: str = Field(description=\"The main title or topic of the video content\")\n",
    "    chapters: list[Chapter] = Field(description=\"Structured breakdown of content into logical chapters\")\n",
    "    key_facts: list[str] = Field(description=\"Important facts, statistics, or data points mentioned\")\n",
    "    takeaways: list[str] = Field(description=\"Key insights and actionable takeaways for the audience\")\n",
    "    overall_summary: str = Field(description=\"A comprehensive summary synthesizing all chapters, facts, and themes\")\n",
    "\n",
    "\n",
    "client = Client(\n",
    "    api_key=os.getenv(\"GEMINI_API_KEY\"),\n",
    "    http_options={\"timeout\": 600000},\n",
    ")\n",
    "\n",
    "\n",
    "response = client.models.generate_content_stream(\n",
    "    model=\"models/gemini-2.5-pro\",\n",
    "    contents=types.Content(\n",
    "        parts=[\n",
    "            types.Part(file_data=types.FileData(file_uri=\"https://youtu.be/TXjbT6BF6Hc\")),\n",
    "        ]\n",
    "    ),\n",
    "    config=types.GenerateContentConfig(\n",
    "        system_instruction=\"Analyze the video/transcript according to the schema and follow the original language.\",\n",
    "        temperature=0,\n",
    "        response_mime_type=\"application/json\",\n",
    "        response_schema=Analysis,\n",
    "        thinking_config=types.ThinkingConfig(thinking_budget=2048),\n",
    "    ),\n",
    ")\n",
    "\n",
    "\n",
    "result_parts = [chunk.text for chunk in response if chunk.text is not None and (print(chunk.text, end=\"\") or True)]\n",
    "final_result = \"\".join(result_parts)\n",
    "\n",
    "final_result = Analysis.model_validate_json(final_result)\n",
    "\n",
    "print(final_result)"
   ]
  },
  {
   "cell_type": "code",
   "execution_count": null,
   "id": "979c8cb4",
   "metadata": {},
   "outputs": [
    {
     "data": {
      "text/plain": [
       "Analysis(title='Trump Holds Meeting with Zelensky in the Oval Office', chapters=[Chapter(header='Introduction and Welcome', key_points=['Donald Trump welcomes Ukrainian President Volodymyr Zelenskyy to the Oval Office.', 'Trump states that substantial progress is being made in their discussions.', 'He mentions a recent good meeting with the President of Russia and an upcoming meeting with seven powerful European leaders.'], summary=\"The video begins with a live news report from the White House, where the press is being led into the Oval Office. President Donald Trump is meeting with Ukrainian President Volodymyr Zelenskyy. Trump starts by welcoming Zelenskyy, stating it's an honor to have him. He mentions they've had good discussions and that substantial progress is being made. He also refers to a recent meeting with the President of Russia and a forthcoming meeting with seven European leaders, highlighting the importance of the current discussions.\"), Chapter(header=\"Zelenskyy's Remarks and a Letter to the First Lady\", key_points=['Zelenskyy thanks Trump for the invitation and his personal efforts to stop the war.', 'He thanks the First Lady of the United States for sending a letter to Putin about abducted Ukrainian children.', \"Zelenskyy presents a letter from his wife to Trump's wife.\"], summary=\"President Zelenskyy thanks President Trump for the invitation and for his personal efforts to stop the killings and the war. He also takes the opportunity to thank the First Lady of the United States for sending a letter to Vladimir Putin concerning abducted Ukrainian children. Zelenskyy then hands Trump a letter from his own wife, the First Lady of Ukraine, addressed to Trump's wife, which Trump accepts with a laugh.\"), Chapter(header='Press Questions on Ending the War', key_points=['A reporter questions the differing views on who should end the war, citing statements from both leaders.', \"Trump expresses confidence in the possibility of a trilateral meeting with Zelenskyy and Putin if the day's meetings go well.\", 'Trump believes there is a reasonable chance of ending the war through such a meeting.'], summary='The press begins to ask questions. A reporter points out the differing perspectives, with Zelenskyy stating Russia must end the war it started, and Trump suggesting Zelenskyy could end it almost immediately. Trump responds by saying he believes a trilateral meeting between himself, Zelenskyy, and Putin could be arranged if the current discussions are successful. He asserts that this trilateral meeting would have a reasonable chance of ending the war.'), Chapter(header='US Support and Security Guarantees', key_points=['Trump is asked if this meeting represents the end of the road for American support for Ukraine.', \"Trump denies it's the end of the road, emphasizing the goal is to stop the killing.\", 'Zelenskyy states that security guarantees would involve strengthening and rearming the Ukrainian military.', 'Trump does not rule out sending U.S. troops to Ukraine as part of a security arrangement.'], summary='A reporter asks if this meeting is a \"deal or no deal\" moment for American support to Ukraine. Trump dismisses the idea that it\\'s the \"end of the road,\" stating the priority is to stop the ongoing killing. When asked about the security guarantees he needs, Zelenskyy says it involves everything, specifically mentioning the need for a strong Ukrainian army, weapons, training, and intelligence. When asked if security guarantees could involve U.S. troops, Trump does not rule it out, stating, \"We\\'ll be involved\" and that European leaders also want to provide protection.'), Chapter(header='Post-Meeting Analysis', key_points=['CNN anchors describe the meeting as interesting but with some meandering from Trump.', \"A key headline is Trump's plan to call Putin right after his meetings.\", 'Analysts note the change in tone from a previous, more contentious meeting between Trump and Zelenskyy.', \"An analyst points out that any peace deal cannot rest on Putin's word alone, highlighting the need for a physical security force.\"], summary=\"After the press is ushered out of the Oval Office, CNN anchors and analysts discuss the meeting. They note Trump's relative discipline on the topic, despite some characteristic tangents. The major news is Trump's announcement that he will call Vladimir Putin immediately after his meetings conclude, with the possibility of a trilateral summit. Analysts contrast the cordial tone of this meeting with a more difficult one earlier in the year. The discussion also touches on the necessity of a physical security force to enforce any peace agreement, as Putin's promises are considered unreliable.\")], key_facts=['Donald Trump held a meeting with Ukrainian President Volodymyr Zelenskyy in the Oval Office.', 'Trump stated he would have a trilateral meeting with Zelenskyy and Putin \"if everything works out well today.\"', 'Trump announced he would telephone Vladimir Putin \"right after\" his meeting with Zelenskyy.', \"Zelenskyy said that rearming and strengthening Ukraine's military will be part of any security guarantees.\", 'Trump did not rule out sending U.S. troops to Ukraine to ensure security as part of a peace deal.', 'Zelenskyy delivered a letter from his wife to Melania Trump concerning abducted Ukrainian children.', 'Trump claimed that Putin wants the war on Ukraine to end.'], takeaways=['Donald Trump is actively positioning himself as a central figure in negotiating an end to the war in Ukraine.', 'A potential trilateral summit between the US, Ukraine, and Russia is being floated as a path to peace.', 'The nature of future security guarantees for Ukraine, potentially involving US and European forces, is a critical point of negotiation.', 'Despite past tensions, the meeting between Trump and Zelenskyy appeared cordial, signaling a potential shift in their dynamic.', \"Ukraine's strategy for peace involves not just a cessation of hostilities but also significant military strengthening and concrete security guarantees from international partners.\"], overall_summary=\"In a significant diplomatic meeting at the White House, President Donald Trump hosted Ukrainian President Volodymyr Zelenskyy in the Oval Office to discuss the ongoing war with Russia. Trump expressed optimism about making substantial progress towards peace, highlighting his recent discussions with Russia's president and upcoming talks with European leaders. A key announcement from the meeting was Trump's intention to call Vladimir Putin immediately following the discussions, with the potential for a trilateral summit between the three leaders to broker a peace deal. President Zelenskyy thanked Trump for his efforts and emphasized Ukraine's need for robust, long-term security guarantees, which he defined as including the rearming and strengthening of the Ukrainian military with weapons, training, and intelligence. When questioned by the press, Trump did not rule out the possibility of sending U.S. troops to Ukraine as part of a security enforcement plan, stating that the U.S. and European allies would be involved in ensuring a lasting peace. The meeting maintained a cordial tone, a notable shift from previous interactions, with both leaders focused on the goal of ending the conflict.\")"
      ]
     },
     "execution_count": 2,
     "metadata": {},
     "output_type": "execute_result"
    }
   ],
   "source": [
    "final_result"
   ]
  },
  {
   "cell_type": "code",
   "execution_count": null,
   "id": "06e02aec",
   "metadata": {},
   "outputs": [],
   "source": [
    "final_result = Analysis.model_validate_json(final_result)"
   ]
  },
  {
   "cell_type": "code",
   "execution_count": null,
   "id": "1d50e70c",
   "metadata": {},
   "outputs": [
    {
     "data": {
      "text/html": [
       "<pre style=\"white-space:pre;overflow-x:auto;line-height:normal;font-family:Menlo,'DejaVu Sans Mono',consolas,'Courier New',monospace\"><span style=\"color: #800080; text-decoration-color: #800080; font-weight: bold\">Analysis</span><span style=\"font-weight: bold\">(</span>\n",
       "    <span style=\"color: #808000; text-decoration-color: #808000\">title</span>=<span style=\"color: #008000; text-decoration-color: #008000\">'美股24小時交易：如何操作、優缺點及應用策略'</span>,\n",
       "    <span style=\"color: #808000; text-decoration-color: #808000\">chapters</span>=<span style=\"font-weight: bold\">[</span>\n",
       "        <span style=\"color: #800080; text-decoration-color: #800080; font-weight: bold\">Chapter</span><span style=\"font-weight: bold\">(</span>\n",
       "            <span style=\"color: #808000; text-decoration-color: #808000\">header</span>=<span style=\"color: #008000; text-decoration-color: #008000\">'什麼是美股24小時交易？'</span>,\n",
       "            <span style=\"color: #808000; text-decoration-color: #808000\">key_points</span>=<span style=\"font-weight: bold\">[</span>\n",
       "                <span style=\"color: #008000; text-decoration-color: #008000\">'美股可透過電子通訊網絡（ECN）平台實現24小時交易。'</span>,\n",
       "                <span style=\"color: #008000; text-decoration-color: #008000\">'除了傳統交易所，還有ARCA、EDGX、Blue Ocean等ECN平台提供延長交易時段。'</span>,\n",
       "                <span style=\"color: #008000; text-decoration-color: #008000\">'ECN平台與傳統交易所交易的股票完全相同，只是交易渠道不同。'</span>\n",
       "            <span style=\"font-weight: bold\">]</span>,\n",
       "            <span style=\"color: #808000; text-decoration-color: #808000\">summary</span>=<span style=\"color: #008000; text-decoration-color: #008000\">'影片介紹了美股現在可以24小時交易，解決了亞洲投資者需要熬夜的問題。這主要是通過傳統交易所（如紐</span>\n",
       "<span style=\"color: #008000; text-decoration-color: #008000\">約證券交易所、納斯達克）之外的電子通訊網絡（ECN）平台實現的。這些ECN平台，如ARCA、EDGX和Blue </span>\n",
       "<span style=\"color: #008000; text-decoration-color: #008000\">Ocean，提供了盤前、盤後甚至通宵的交易時段，讓交易時間得以延長。這些平台與傳統交易所提供的股票是完全相同的，只是交易</span>\n",
       "<span style=\"color: #008000; text-decoration-color: #008000\">渠道和時間不同。'</span>\n",
       "        <span style=\"font-weight: bold\">)</span>,\n",
       "        <span style=\"color: #800080; text-decoration-color: #800080; font-weight: bold\">Chapter</span><span style=\"font-weight: bold\">(</span>\n",
       "            <span style=\"color: #808000; text-decoration-color: #808000\">header</span>=<span style=\"color: #008000; text-decoration-color: #008000\">'24小時美股交易實況操作'</span>,\n",
       "            <span style=\"color: #808000; text-decoration-color: #808000\">key_points</span>=<span style=\"font-weight: bold\">[</span>\n",
       "                <span style=\"color: #008000; text-decoration-color: #008000\">'使用IB平台時，需在「Time In Force (TIF)」中選擇「Overnight Trading」。'</span>,\n",
       "                <span style=\"color: #008000; text-decoration-color: #008000\">'影片以買入特斯拉股票為例進行操作示範。'</span>,\n",
       "                <span style=\"color: #008000; text-decoration-color: #008000\">'下單前務必覆核訂單總金額，防止出錯。'</span>,\n",
       "                <span style=\"color: #008000; text-decoration-color: #008000\">'通宵交易時段只接受限價單（Limit Order）。'</span>\n",
       "            <span style=\"font-weight: bold\">]</span>,\n",
       "            <span style=\"color: #808000; text-decoration-color: #808000\">summary</span>=<span style=\"color: #008000; text-decoration-color: #008000\">'影片以Interactive Brokers (IB) </span>\n",
       "<span style=\"color: #008000; text-decoration-color: #008000\">的交易平台為例，逐步示範如何在香港的日間時段（對應美國的夜間）買賣美股。操作關鍵在於下單時，在「Time In Force </span>\n",
       "<span style=\"color: #008000; text-decoration-color: #008000\">(TIF)」選項中選擇「Overnight </span>\n",
       "<span style=\"color: #008000; text-decoration-color: #008000\">Trading」。影片展示了如何為特斯拉（TSLA）股票下達一個通宵交易的買單，並強調了檢查訂單總金額（Amount）的重要性，以避</span>\n",
       "<span style=\"color: #008000; text-decoration-color: #008000\">免下錯單。此外，通宵交易目前只接受限價單（Limit Order）。'</span>\n",
       "        <span style=\"font-weight: bold\">)</span>,\n",
       "        <span style=\"color: #800080; text-decoration-color: #800080; font-weight: bold\">Chapter</span><span style=\"font-weight: bold\">(</span>\n",
       "            <span style=\"color: #808000; text-decoration-color: #808000\">header</span>=<span style=\"color: #008000; text-decoration-color: #008000\">'24小時交易的優點與缺點'</span>,\n",
       "            <span style=\"color: #808000; text-decoration-color: #808000\">key_points</span>=<span style=\"font-weight: bold\">[</span>\n",
       "                <span style=\"color: #008000; text-decoration-color: #008000\">'優點：方便，可在亞洲時區對市場新聞作出即時反應。'</span>,\n",
       "                <span style=\"color: #008000; text-decoration-color: #008000\">'缺點：流通量低，買賣差價闊。'</span>,\n",
       "                <span style=\"color: #008000; text-decoration-color: #008000\">'缺點：訂單稀疏，大額交易容易造成滑價（Trade Slippage）。'</span>\n",
       "            <span style=\"font-weight: bold\">]</span>,\n",
       "            <span style=\"color: #808000; text-decoration-color: #808000\">summary</span>=<span style=\"color: #008000; text-decoration-color: #008000\">'24小時交易的最大好處是方便，尤其對於亞洲投資者，可以在白天對突發事件作出反應，無需熬夜。然而，</span>\n",
       "<span style=\"color: #008000; text-decoration-color: #008000\">缺點也很明顯，主要是在非正常交易時段（特別是通宵時段），市場流通量低，導致掛盤稀疏、買賣差價擴大，大額交易容易影響</span>\n",
       "<span style=\"color: #008000; text-decoration-color: #008000\">價格並造成滑價（Slippage）風險。'</span>\n",
       "        <span style=\"font-weight: bold\">)</span>,\n",
       "        <span style=\"color: #800080; text-decoration-color: #800080; font-weight: bold\">Chapter</span><span style=\"font-weight: bold\">(</span>\n",
       "            <span style=\"color: #808000; text-decoration-color: #808000\">header</span>=<span style=\"color: #008000; text-decoration-color: #008000\">'如何應用24小時交易策略'</span>,\n",
       "            <span style=\"color: #808000; text-decoration-color: #808000\">key_points</span>=<span style=\"font-weight: bold\">[</span>\n",
       "                <span style=\"color: #008000; text-decoration-color: #008000\">'真正的價格發現（Price Discovery）發生在正常交易時段。'</span>,\n",
       "                <span style=\"color: #008000; text-decoration-color: #008000\">'不應根據通宵時段的價格波動來判斷市場趨勢或做交易決策。'</span>,\n",
       "                <span style=\"color: #008000; text-decoration-color: #008000\">'可利用通宵交易時段執行預先設定好的目標價位訂單。'</span>\n",
       "            <span style=\"font-weight: bold\">]</span>,\n",
       "            <span style=\"color: #808000; text-decoration-color: #808000\">summary</span>=<span style=\"color: #008000; text-decoration-color: #008000\">'講者分享了他的個人策略。他認為真正的價格發現（Price </span>\n",
       "<span style=\"color: #008000; text-decoration-color: #008000\">Discovery）發生在交易量最大的正常交易時段（美國白天）。因此，他不會根據通宵時段的價格波動來做新的交易決策。相反，他</span>\n",
       "<span style=\"color: #008000; text-decoration-color: #008000\">會利用這個時段來執行預先設定好的目標價位訂單，例如當股價達到某個預設的賣出價時，就可以掛單賣出。他用街市買魚作比喻</span>\n",
       "<span style=\"color: #008000; text-decoration-color: #008000\">，日間的價格才反映真實的供需，深夜的零星交易價格不具代表性。'</span>\n",
       "        <span style=\"font-weight: bold\">)</span>\n",
       "    <span style=\"font-weight: bold\">]</span>,\n",
       "    <span style=\"color: #808000; text-decoration-color: #808000\">key_facts</span>=<span style=\"font-weight: bold\">[</span>\n",
       "        <span style=\"color: #008000; text-decoration-color: #008000\">'美股可透過ECN平台實現24小時交易。'</span>,\n",
       "        <span style=\"color: #008000; text-decoration-color: #008000\">'Blue Ocean ATS平台提供美國東岸時間晚上8點至凌晨4點的交易，對應香港夏令時間早上8點至下午4點。'</span>,\n",
       "        <span style=\"color: #008000; text-decoration-color: #008000\">'通宵交易時段（Overnight Trading）的流通量極低，僅佔Interactive Brokers總成交量的2%。'</span>,\n",
       "        <span style=\"color: #008000; text-decoration-color: #008000\">'盤前盤後（Extended Hours）的成交量約佔總成交量的10%。'</span>,\n",
       "        <span style=\"color: #008000; text-decoration-color: #008000\">'通宵交易時段只接受限價單（Limit Order），不接受市價單（Market Order）。'</span>\n",
       "    <span style=\"font-weight: bold\">]</span>,\n",
       "    <span style=\"color: #808000; text-decoration-color: #808000\">takeaways</span>=<span style=\"font-weight: bold\">[</span>\n",
       "        <span style=\"color: #008000; text-decoration-color: #008000\">'投資者現在可以在香港的辦公時間交易美股，無需熬夜。'</span>,\n",
       "        <span style=\"color: #008000; text-decoration-color: #008000\">'進行非正常時段交易時，必須注意流通性低、差價闊和滑價的風險。'</span>,\n",
       "        <span style=\"color: #008000; text-decoration-color: #008000\">'利用通宵交易時段執行預設的目標價訂單是較佳的應用方式，而非根據該時段的價格波動進行分析決策。'</span>,\n",
       "        <span style=\"color: #008000; text-decoration-color: #008000\">'由於流通量低，應避免在非正常時段進行大額交易。'</span>\n",
       "    <span style=\"font-weight: bold\">]</span>,\n",
       "    <span style=\"color: #808000; text-decoration-color: #808000\">overall_summary</span>=<span style=\"color: #008000; text-decoration-color: #008000\">'這部影片詳細介紹了新興的美股24小時交易機制。它解釋了這是通過傳統交易所之外的ECN平台（如Blue </span>\n",
       "<span style=\"color: #008000; text-decoration-color: #008000\">Ocean）實現的，讓亞洲投資者可以在白天交易美股。影片提供了在Interactive </span>\n",
       "<span style=\"color: #008000; text-decoration-color: #008000\">Brokers平台上的詳細操作演示，並深入分析了24小時交易的利弊。其主要優點是便利性，但缺點是流通量低和交易成本可能增加（</span>\n",
       "<span style=\"color: #008000; text-decoration-color: #008000\">差價擴大）。講者建議，投資者應理解真正的價格發現主要發生在正常交易時段，因此通宵交易更適合用來執行預先設定好的目標</span>\n",
       "<span style=\"color: #008000; text-decoration-color: #008000\">價訂單，而不是用來判斷市場走勢。'</span>\n",
       "<span style=\"font-weight: bold\">)</span>\n",
       "</pre>\n"
      ],
      "text/plain": [
       "\u001b[1;35mAnalysis\u001b[0m\u001b[1m(\u001b[0m\n",
       "    \u001b[33mtitle\u001b[0m=\u001b[32m'美股24小時交易：如何操作、優缺點及應用策略'\u001b[0m,\n",
       "    \u001b[33mchapters\u001b[0m=\u001b[1m[\u001b[0m\n",
       "        \u001b[1;35mChapter\u001b[0m\u001b[1m(\u001b[0m\n",
       "            \u001b[33mheader\u001b[0m=\u001b[32m'什麼是美股24小時交易？'\u001b[0m,\n",
       "            \u001b[33mkey_points\u001b[0m=\u001b[1m[\u001b[0m\n",
       "                \u001b[32m'美股可透過電子通訊網絡（ECN）平台實現24小時交易。'\u001b[0m,\n",
       "                \u001b[32m'除了傳統交易所，還有ARCA、EDGX、Blue Ocean等ECN平台提供延長交易時段。'\u001b[0m,\n",
       "                \u001b[32m'ECN平台與傳統交易所交易的股票完全相同，只是交易渠道不同。'\u001b[0m\n",
       "            \u001b[1m]\u001b[0m,\n",
       "            \u001b[33msummary\u001b[0m=\u001b[32m'影片介紹了美股現在可以24小時交易，解決了亞洲投資者需要熬夜的問題。這主要是通過傳統交易所（如紐\u001b[0m\n",
       "\u001b[32m約證券交易所、納斯達克）之外的電子通訊網絡（ECN）平台實現的。這些ECN平台，如ARCA、EDGX和Blue \u001b[0m\n",
       "\u001b[32mOcean，提供了盤前、盤後甚至通宵的交易時段，讓交易時間得以延長。這些平台與傳統交易所提供的股票是完全相同的，只是交易\u001b[0m\n",
       "\u001b[32m渠道和時間不同。'\u001b[0m\n",
       "        \u001b[1m)\u001b[0m,\n",
       "        \u001b[1;35mChapter\u001b[0m\u001b[1m(\u001b[0m\n",
       "            \u001b[33mheader\u001b[0m=\u001b[32m'24小時美股交易實況操作'\u001b[0m,\n",
       "            \u001b[33mkey_points\u001b[0m=\u001b[1m[\u001b[0m\n",
       "                \u001b[32m'使用IB平台時，需在「Time In Force \u001b[0m\u001b[32m(\u001b[0m\u001b[32mTIF\u001b[0m\u001b[32m)\u001b[0m\u001b[32m」中選擇「Overnight Trading」。'\u001b[0m,\n",
       "                \u001b[32m'影片以買入特斯拉股票為例進行操作示範。'\u001b[0m,\n",
       "                \u001b[32m'下單前務必覆核訂單總金額，防止出錯。'\u001b[0m,\n",
       "                \u001b[32m'通宵交易時段只接受限價單（Limit Order）。'\u001b[0m\n",
       "            \u001b[1m]\u001b[0m,\n",
       "            \u001b[33msummary\u001b[0m=\u001b[32m'影片以Interactive Brokers \u001b[0m\u001b[32m(\u001b[0m\u001b[32mIB\u001b[0m\u001b[32m)\u001b[0m\u001b[32m \u001b[0m\n",
       "\u001b[32m的交易平台為例，逐步示範如何在香港的日間時段（對應美國的夜間）買賣美股。操作關鍵在於下單時，在「Time In Force \u001b[0m\n",
       "\u001b[32m(\u001b[0m\u001b[32mTIF\u001b[0m\u001b[32m)\u001b[0m\u001b[32m」選項中選擇「Overnight \u001b[0m\n",
       "\u001b[32mTrading」。影片展示了如何為特斯拉（TSLA）股票下達一個通宵交易的買單，並強調了檢查訂單總金額（Amount）的重要性，以避\u001b[0m\n",
       "\u001b[32m免下錯單。此外，通宵交易目前只接受限價單（Limit Order）。'\u001b[0m\n",
       "        \u001b[1m)\u001b[0m,\n",
       "        \u001b[1;35mChapter\u001b[0m\u001b[1m(\u001b[0m\n",
       "            \u001b[33mheader\u001b[0m=\u001b[32m'24小時交易的優點與缺點'\u001b[0m,\n",
       "            \u001b[33mkey_points\u001b[0m=\u001b[1m[\u001b[0m\n",
       "                \u001b[32m'優點：方便，可在亞洲時區對市場新聞作出即時反應。'\u001b[0m,\n",
       "                \u001b[32m'缺點：流通量低，買賣差價闊。'\u001b[0m,\n",
       "                \u001b[32m'缺點：訂單稀疏，大額交易容易造成滑價（Trade Slippage）。'\u001b[0m\n",
       "            \u001b[1m]\u001b[0m,\n",
       "            \u001b[33msummary\u001b[0m=\u001b[32m'24小時交易的最大好處是方便，尤其對於亞洲投資者，可以在白天對突發事件作出反應，無需熬夜。然而，\u001b[0m\n",
       "\u001b[32m缺點也很明顯，主要是在非正常交易時段（特別是通宵時段），市場流通量低，導致掛盤稀疏、買賣差價擴大，大額交易容易影響\u001b[0m\n",
       "\u001b[32m價格並造成滑價（Slippage）風險。'\u001b[0m\n",
       "        \u001b[1m)\u001b[0m,\n",
       "        \u001b[1;35mChapter\u001b[0m\u001b[1m(\u001b[0m\n",
       "            \u001b[33mheader\u001b[0m=\u001b[32m'如何應用24小時交易策略'\u001b[0m,\n",
       "            \u001b[33mkey_points\u001b[0m=\u001b[1m[\u001b[0m\n",
       "                \u001b[32m'真正的價格發現（Price Discovery）發生在正常交易時段。'\u001b[0m,\n",
       "                \u001b[32m'不應根據通宵時段的價格波動來判斷市場趨勢或做交易決策。'\u001b[0m,\n",
       "                \u001b[32m'可利用通宵交易時段執行預先設定好的目標價位訂單。'\u001b[0m\n",
       "            \u001b[1m]\u001b[0m,\n",
       "            \u001b[33msummary\u001b[0m=\u001b[32m'講者分享了他的個人策略。他認為真正的價格發現（Price \u001b[0m\n",
       "\u001b[32mDiscovery）發生在交易量最大的正常交易時段（美國白天）。因此，他不會根據通宵時段的價格波動來做新的交易決策。相反，他\u001b[0m\n",
       "\u001b[32m會利用這個時段來執行預先設定好的目標價位訂單，例如當股價達到某個預設的賣出價時，就可以掛單賣出。他用街市買魚作比喻\u001b[0m\n",
       "\u001b[32m，日間的價格才反映真實的供需，深夜的零星交易價格不具代表性。'\u001b[0m\n",
       "        \u001b[1m)\u001b[0m\n",
       "    \u001b[1m]\u001b[0m,\n",
       "    \u001b[33mkey_facts\u001b[0m=\u001b[1m[\u001b[0m\n",
       "        \u001b[32m'美股可透過ECN平台實現24小時交易。'\u001b[0m,\n",
       "        \u001b[32m'Blue Ocean ATS平台提供美國東岸時間晚上8點至凌晨4點的交易，對應香港夏令時間早上8點至下午4點。'\u001b[0m,\n",
       "        \u001b[32m'通宵交易時段（Overnight Trading）的流通量極低，僅佔Interactive Brokers總成交量的2%。'\u001b[0m,\n",
       "        \u001b[32m'盤前盤後（Extended Hours）的成交量約佔總成交量的10%。'\u001b[0m,\n",
       "        \u001b[32m'通宵交易時段只接受限價單（Limit Order），不接受市價單（Market Order）。'\u001b[0m\n",
       "    \u001b[1m]\u001b[0m,\n",
       "    \u001b[33mtakeaways\u001b[0m=\u001b[1m[\u001b[0m\n",
       "        \u001b[32m'投資者現在可以在香港的辦公時間交易美股，無需熬夜。'\u001b[0m,\n",
       "        \u001b[32m'進行非正常時段交易時，必須注意流通性低、差價闊和滑價的風險。'\u001b[0m,\n",
       "        \u001b[32m'利用通宵交易時段執行預設的目標價訂單是較佳的應用方式，而非根據該時段的價格波動進行分析決策。'\u001b[0m,\n",
       "        \u001b[32m'由於流通量低，應避免在非正常時段進行大額交易。'\u001b[0m\n",
       "    \u001b[1m]\u001b[0m,\n",
       "    \u001b[33moverall_summary\u001b[0m=\u001b[32m'這部影片詳細介紹了新興的美股24小時交易機制。它解釋了這是通過傳統交易所之外的ECN平台（如Blue \u001b[0m\n",
       "\u001b[32mOcean）實現的，讓亞洲投資者可以在白天交易美股。影片提供了在Interactive \u001b[0m\n",
       "\u001b[32mBrokers平台上的詳細操作演示，並深入分析了24小時交易的利弊。其主要優點是便利性，但缺點是流通量低和交易成本可能增加（\u001b[0m\n",
       "\u001b[32m差價擴大）。講者建議，投資者應理解真正的價格發現主要發生在正常交易時段，因此通宵交易更適合用來執行預先設定好的目標\u001b[0m\n",
       "\u001b[32m價訂單，而不是用來判斷市場走勢。'\u001b[0m\n",
       "\u001b[1m)\u001b[0m\n"
      ]
     },
     "metadata": {},
     "output_type": "display_data"
    }
   ],
   "source": [
    "print(final_result)"
   ]
  },
  {
   "cell_type": "code",
   "execution_count": null,
   "id": "c821fe0e",
   "metadata": {},
   "outputs": [],
   "source": [
    "from youtube_summarizer.youtube_loader import youtube_loader\n",
    "\n",
    "youtube_loader(\"https://www.youtube.com/watch?v=S07XJKq-H6Q\")"
   ]
  },
  {
   "cell_type": "code",
   "execution_count": null,
   "id": "418c66e6",
   "metadata": {},
   "outputs": [
    {
     "data": {
      "text/html": [
       "<pre style=\"white-space:pre;overflow-x:auto;line-height:normal;font-family:Menlo,'DejaVu Sans Mono',consolas,'Courier New',monospace\"><span style=\"font-weight: bold\">{</span>\n",
       "  <span style=\"color: #008000; text-decoration-color: #008000\">\"title\"</span>: <span style=\"color: #008000; text-decoration-color: #008000\">\"An Investment Analysis of Intel (INTC)\"</span>,\n",
       "  <span style=\"color: #008000; text-decoration-color: #008000\">\"chapters\"</span>: <span style=\"font-weight: bold\">[</span>\n",
       "    <span style=\"font-weight: bold\">{</span>\n",
       "      <span style=\"color: #008000; text-decoration-color: #008000\">\"header\"</span>: <span style=\"color: #008000; text-decoration-color: #008000\">\"Introduction: The Next Big Stock Opportunity\"</span>,\n",
       "      <span style=\"color: #008000; text-decoration-color: #008000\">\"key_points\"</span>: <span style=\"font-weight: bold\">[</span>\n",
       "        <span style=\"color: #008000; text-decoration-color: #008000\">\"The video identifies Intel (INTC) as a stock with a textbook setup for a breakout, despite being down </span>\n",
       "<span style=\"color: #008000; text-decoration-color: #008000\">60%.\"</span>,\n",
       "        <span style=\"color: #008000; text-decoration-color: #008000\">\"The analysis is supported by institutional buying data from Darkpool trading, which has been consistently </span>\n",
       "<span style=\"color: #008000; text-decoration-color: #008000\">bullish on Intel.\"</span>,\n",
       "        <span style=\"color: #008000; text-decoration-color: #008000\">\"A free detailed workbook is offered to viewers for a deeper understanding of the company and Wall Street </span>\n",
       "<span style=\"color: #008000; text-decoration-color: #008000\">trading rules.\"</span>\n",
       "      <span style=\"font-weight: bold\">]</span>,\n",
       "      <span style=\"color: #008000; text-decoration-color: #008000\">\"summary\"</span>: <span style=\"color: #008000; text-decoration-color: #008000\">\"The speaker introduces Intel as a significant investment opportunity, comparing its potential to </span>\n",
       "<span style=\"color: #008000; text-decoration-color: #008000\">past successes like Palantir. He highlights that institutional investors ('the big boys') have been actively buying</span>\n",
       "<span style=\"color: #008000; text-decoration-color: #008000\">the stock, as indicated by Darkpool data. The video promises to cover five key bullish reasons and a specific entry</span>\n",
       "<span style=\"color: #008000; text-decoration-color: #008000\">point for purchasing the stock.\"</span>\n",
       "    <span style=\"font-weight: bold\">}</span>,\n",
       "    <span style=\"font-weight: bold\">{</span>\n",
       "      <span style=\"color: #008000; text-decoration-color: #008000\">\"header\"</span>: <span style=\"color: #008000; text-decoration-color: #008000\">\"The Five Bullish Reasons for Intel\"</span>,\n",
       "      <span style=\"color: #008000; text-decoration-color: #008000\">\"key_points\"</span>: <span style=\"font-weight: bold\">[</span>\n",
       "        <span style=\"color: #008000; text-decoration-color: #008000\">\"The US government is providing Intel with approximately $7.8 billion in grants to build domestic chip </span>\n",
       "<span style=\"color: #008000; text-decoration-color: #008000\">foundries, making it a critical piece of US infrastructure.\"</span>,\n",
       "        <span style=\"color: #008000; text-decoration-color: #008000\">\"New leadership is targeting $10 billion in cost savings and launching more competitive chips that are </span>\n",
       "<span style=\"color: #008000; text-decoration-color: #008000\">allegedly 50% cheaper to run than Nvidia's.\"</span>,\n",
       "        <span style=\"color: #008000; text-decoration-color: #008000\">\"The rise of AI is expected to drive a PC refresh cycle, as users will need more powerful machines for </span>\n",
       "<span style=\"color: #008000; text-decoration-color: #008000\">local computing, benefiting Intel.\"</span>,\n",
       "        <span style=\"color: #008000; text-decoration-color: #008000\">\"Intel is investing tens of billions to build a foundry business to rival TSMC and capture a share of the </span>\n",
       "<span style=\"color: #008000; text-decoration-color: #008000\">$80 billion third-party foundry market.\"</span>,\n",
       "        <span style=\"color: #008000; text-decoration-color: #008000\">\"Based on its current valuation, some analysts project a potential 3-5x return in the next few years if the</span>\n",
       "<span style=\"color: #008000; text-decoration-color: #008000\">company successfully executes its turnaround plan.\"</span>\n",
       "      <span style=\"font-weight: bold\">]</span>,\n",
       "      <span style=\"color: #008000; text-decoration-color: #008000\">\"summary\"</span>: <span style=\"color: #008000; text-decoration-color: #008000\">\"This chapter details the five core fundamental arguments for being bullish on Intel. These </span>\n",
       "<span style=\"color: #008000; text-decoration-color: #008000\">include significant government support to onshore chip manufacturing, aggressive cost-cutting measures under new </span>\n",
       "<span style=\"color: #008000; text-decoration-color: #008000\">leadership, the growing demand for AI-capable PCs, the strategic expansion into the third-party foundry business to</span>\n",
       "<span style=\"color: #008000; text-decoration-color: #008000\">compete globally, and the stock's attractive valuation which suggests a high potential for future returns.\"</span>\n",
       "    <span style=\"font-weight: bold\">}</span>,\n",
       "    <span style=\"font-weight: bold\">{</span>\n",
       "      <span style=\"color: #008000; text-decoration-color: #008000\">\"header\"</span>: <span style=\"color: #008000; text-decoration-color: #008000\">\"Technical Analysis and Entry Strategy\"</span>,\n",
       "      <span style=\"color: #008000; text-decoration-color: #008000\">\"key_points\"</span>: <span style=\"font-weight: bold\">[</span>\n",
       "        <span style=\"color: #008000; text-decoration-color: #008000\">\"The stock has been in a sideways consolidation phase for about a year, suggesting that most sellers have </span>\n",
       "<span style=\"color: #008000; text-decoration-color: #008000\">already exited their positions.\"</span>,\n",
       "        <span style=\"color: #008000; text-decoration-color: #008000\">\"Recent trading volume has been historically high, indicating a 'clean slate' is being created for a </span>\n",
       "<span style=\"color: #008000; text-decoration-color: #008000\">potential upward move.\"</span>,\n",
       "        <span style=\"color: #008000; text-decoration-color: #008000\">\"A key resistance level is identified at $25, where market makers and institutions are likely to sell.\"</span>,\n",
       "        <span style=\"color: #008000; text-decoration-color: #008000\">\"The recommended entry point is not now, but after the stock breaks out above the recent high of </span>\n",
       "<span style=\"color: #008000; text-decoration-color: #008000\">approximately $27.50 on significant volume.\"</span>\n",
       "      <span style=\"font-weight: bold\">]</span>,\n",
       "      <span style=\"color: #008000; text-decoration-color: #008000\">\"summary\"</span>: <span style=\"color: #008000; text-decoration-color: #008000\">\"The speaker shifts from fundamentals to technical analysis, examining Intel's stock chart. He </span>\n",
       "<span style=\"color: #008000; text-decoration-color: #008000\">notes a year-long consolidation period, which he views as a positive sign as it shakes out weak hands. He points </span>\n",
       "<span style=\"color: #008000; text-decoration-color: #008000\">out a significant resistance level at $25. The core message is to avoid buying prematurely and instead wait for a </span>\n",
       "<span style=\"color: #008000; text-decoration-color: #008000\">confirmed breakout above the $27.50 level, supported by high trading volume, as this would signal strong buying </span>\n",
       "<span style=\"color: #008000; text-decoration-color: #008000\">momentum and a higher probability of a sustained upward trend.\"</span>\n",
       "    <span style=\"font-weight: bold\">}</span>,\n",
       "    <span style=\"font-weight: bold\">{</span>\n",
       "      <span style=\"color: #008000; text-decoration-color: #008000\">\"header\"</span>: <span style=\"color: #008000; text-decoration-color: #008000\">\"Conclusion and Risk Management\"</span>,\n",
       "      <span style=\"color: #008000; text-decoration-color: #008000\">\"key_points\"</span>: <span style=\"font-weight: bold\">[</span>\n",
       "        <span style=\"color: #008000; text-decoration-color: #008000\">\"Investors should not blindly buy a stock based on a YouTube video or FOMO (Fear Of Missing Out).\"</span>,\n",
       "        <span style=\"color: #008000; text-decoration-color: #008000\">\"It is crucial to have a personal risk management strategy, including setting stop-losses.\"</span>,\n",
       "        <span style=\"color: #008000; text-decoration-color: #008000\">\"The provided workbook can help investors develop their own strategy and understand the rules for buying </span>\n",
       "<span style=\"color: #008000; text-decoration-color: #008000\">such stocks.\"</span>\n",
       "      <span style=\"font-weight: bold\">]</span>,\n",
       "      <span style=\"color: #008000; text-decoration-color: #008000\">\"summary\"</span>: <span style=\"color: #008000; text-decoration-color: #008000\">\"The video concludes with a strong caution against impulsive buying. The speaker emphasizes the </span>\n",
       "<span style=\"color: #008000; text-decoration-color: #008000\">importance of individual research, establishing a clear risk management plan, and knowing your entry and exit </span>\n",
       "<span style=\"color: #008000; text-decoration-color: #008000\">points. He reiterates that FOMO is a poor reason to invest and encourages viewers to use the supplementary </span>\n",
       "<span style=\"color: #008000; text-decoration-color: #008000\">materials, like the workbook, to make informed decisions.\"</span>\n",
       "    <span style=\"font-weight: bold\">}</span>\n",
       "  <span style=\"font-weight: bold\">]</span>,\n",
       "  <span style=\"color: #008000; text-decoration-color: #008000\">\"key_facts\"</span>: <span style=\"font-weight: bold\">[</span>\n",
       "    <span style=\"color: #008000; text-decoration-color: #008000\">\"The stock in focus is Intel (INTC).\"</span>,\n",
       "    <span style=\"color: #008000; text-decoration-color: #008000\">\"The stock is down approximately 60% from its highs.\"</span>,\n",
       "    <span style=\"color: #008000; text-decoration-color: #008000\">\"The US government has granted Intel around $7.8 billion to build domestic chip foundries.\"</span>,\n",
       "    <span style=\"color: #008000; text-decoration-color: #008000\">\"Intel's new leadership is targeting $10 billion in cost savings.\"</span>,\n",
       "    <span style=\"color: #008000; text-decoration-color: #008000\">\"Intel's new chips are claimed to be 50% cheaper to run than Nvidia's for the same inference output.\"</span>,\n",
       "    <span style=\"color: #008000; text-decoration-color: #008000\">\"The global third-party foundry market is valued at $80 billion.\"</span>,\n",
       "    <span style=\"color: #008000; text-decoration-color: #008000\">\"Analysts see a potential for a 3-5x return on Intel stock in the coming years.\"</span>,\n",
       "    <span style=\"color: #008000; text-decoration-color: #008000\">\"The stock has been in a sideways consolidation pattern for about one year.\"</span>,\n",
       "    <span style=\"color: #008000; text-decoration-color: #008000\">\"A key technical resistance level for the stock is at $25.\"</span>,\n",
       "    <span style=\"color: #008000; text-decoration-color: #008000\">\"The proposed entry point is a breakout above the recent high of $27.50.\"</span>\n",
       "  <span style=\"font-weight: bold\">]</span>,\n",
       "  <span style=\"color: #008000; text-decoration-color: #008000\">\"takeaways\"</span>: <span style=\"font-weight: bold\">[</span>\n",
       "    <span style=\"color: #008000; text-decoration-color: #008000\">\"Intel presents a potential turnaround opportunity based on five key fundamental drivers: government support, </span>\n",
       "<span style=\"color: #008000; text-decoration-color: #008000\">cost-cutting, the AI PC cycle, foundry business expansion, and low valuation.\"</span>,\n",
       "    <span style=\"color: #008000; text-decoration-color: #008000\">\"Technical analysis is critical for timing an entry. A long consolidation period, like the one Intel is in, can</span>\n",
       "<span style=\"color: #008000; text-decoration-color: #008000\">precede a significant breakout.\"</span>,\n",
       "    <span style=\"color: #008000; text-decoration-color: #008000\">\"Patience is key; instead of buying into the consolidation, a more prudent strategy is to wait for a confirmed </span>\n",
       "<span style=\"color: #008000; text-decoration-color: #008000\">breakout above a key resistance level ($27.50) on high volume.\"</span>,\n",
       "    <span style=\"color: #008000; text-decoration-color: #008000\">\"Always conduct your own due diligence and establish a personal risk management plan before investing in any </span>\n",
       "<span style=\"color: #008000; text-decoration-color: #008000\">stock.\"</span>,\n",
       "    <span style=\"color: #008000; text-decoration-color: #008000\">\"Institutional buying, as seen in Darkpool data, can be a strong indicator of underlying strength in a stock.\"</span>\n",
       "  <span style=\"font-weight: bold\">]</span>,\n",
       "  <span style=\"color: #008000; text-decoration-color: #008000\">\"overall_summary\"</span>: <span style=\"color: #008000; text-decoration-color: #008000\">\"The video presents a bullish investment thesis for Intel (INTC), a stock that has fallen </span>\n",
       "<span style=\"color: #008000; text-decoration-color: #008000\">significantly from its peak. The speaker outlines five fundamental reasons for optimism: substantial US government </span>\n",
       "<span style=\"color: #008000; text-decoration-color: #008000\">grants to bolster domestic chip manufacturing, a new leadership team focused on $10 billion in cost savings, the </span>\n",
       "<span style=\"color: #008000; text-decoration-color: #008000\">impending AI-driven PC refresh cycle, a multi-billion dollar investment to build a foundry business to compete with</span>\n",
       "<span style=\"color: #008000; text-decoration-color: #008000\">TSMC, and a compelling valuation that suggests a potential 3-5x return. The analysis then shifts to the technicals,</span>\n",
       "<span style=\"color: #008000; text-decoration-color: #008000\">highlighting a year-long sideways consolidation period which often precedes a major price move. The speaker advises</span>\n",
       "<span style=\"color: #008000; text-decoration-color: #008000\">against buying immediately, pointing to a strong resistance level at $25. The recommended strategy is to wait for a</span>\n",
       "<span style=\"color: #008000; text-decoration-color: #008000\">decisive breakout above the recent high of $27.50 on strong volume, which would confirm the start of a new uptrend.</span>\n",
       "<span style=\"color: #008000; text-decoration-color: #008000\">The video concludes by stressing the importance of personal research, risk management, and avoiding investment </span>\n",
       "<span style=\"color: #008000; text-decoration-color: #008000\">decisions based on FOMO.\"</span>\n",
       "<span style=\"font-weight: bold\">}</span>\n",
       "</pre>\n"
      ],
      "text/plain": [
       "\u001b[1m{\u001b[0m\n",
       "  \u001b[32m\"title\"\u001b[0m: \u001b[32m\"An Investment Analysis of Intel \u001b[0m\u001b[32m(\u001b[0m\u001b[32mINTC\u001b[0m\u001b[32m)\u001b[0m\u001b[32m\"\u001b[0m,\n",
       "  \u001b[32m\"chapters\"\u001b[0m: \u001b[1m[\u001b[0m\n",
       "    \u001b[1m{\u001b[0m\n",
       "      \u001b[32m\"header\"\u001b[0m: \u001b[32m\"Introduction: The Next Big Stock Opportunity\"\u001b[0m,\n",
       "      \u001b[32m\"key_points\"\u001b[0m: \u001b[1m[\u001b[0m\n",
       "        \u001b[32m\"The video identifies Intel \u001b[0m\u001b[32m(\u001b[0m\u001b[32mINTC\u001b[0m\u001b[32m)\u001b[0m\u001b[32m as a stock with a textbook setup for a breakout, despite being down \u001b[0m\n",
       "\u001b[32m60%.\"\u001b[0m,\n",
       "        \u001b[32m\"The analysis is supported by institutional buying data from Darkpool trading, which has been consistently \u001b[0m\n",
       "\u001b[32mbullish on Intel.\"\u001b[0m,\n",
       "        \u001b[32m\"A free detailed workbook is offered to viewers for a deeper understanding of the company and Wall Street \u001b[0m\n",
       "\u001b[32mtrading rules.\"\u001b[0m\n",
       "      \u001b[1m]\u001b[0m,\n",
       "      \u001b[32m\"summary\"\u001b[0m: \u001b[32m\"The speaker introduces Intel as a significant investment opportunity, comparing its potential to \u001b[0m\n",
       "\u001b[32mpast successes like Palantir. He highlights that institutional investors \u001b[0m\u001b[32m(\u001b[0m\u001b[32m'the big boys'\u001b[0m\u001b[32m)\u001b[0m\u001b[32m have been actively buying\u001b[0m\n",
       "\u001b[32mthe stock, as indicated by Darkpool data. The video promises to cover five key bullish reasons and a specific entry\u001b[0m\n",
       "\u001b[32mpoint for purchasing the stock.\"\u001b[0m\n",
       "    \u001b[1m}\u001b[0m,\n",
       "    \u001b[1m{\u001b[0m\n",
       "      \u001b[32m\"header\"\u001b[0m: \u001b[32m\"The Five Bullish Reasons for Intel\"\u001b[0m,\n",
       "      \u001b[32m\"key_points\"\u001b[0m: \u001b[1m[\u001b[0m\n",
       "        \u001b[32m\"The US government is providing Intel with approximately $7.8 billion in grants to build domestic chip \u001b[0m\n",
       "\u001b[32mfoundries, making it a critical piece of US infrastructure.\"\u001b[0m,\n",
       "        \u001b[32m\"New leadership is targeting $10 billion in cost savings and launching more competitive chips that are \u001b[0m\n",
       "\u001b[32mallegedly 50% cheaper to run than Nvidia's.\"\u001b[0m,\n",
       "        \u001b[32m\"The rise of AI is expected to drive a PC refresh cycle, as users will need more powerful machines for \u001b[0m\n",
       "\u001b[32mlocal computing, benefiting Intel.\"\u001b[0m,\n",
       "        \u001b[32m\"Intel is investing tens of billions to build a foundry business to rival TSMC and capture a share of the \u001b[0m\n",
       "\u001b[32m$80 billion third-party foundry market.\"\u001b[0m,\n",
       "        \u001b[32m\"Based on its current valuation, some analysts project a potential 3-5x return in the next few years if the\u001b[0m\n",
       "\u001b[32mcompany successfully executes its turnaround plan.\"\u001b[0m\n",
       "      \u001b[1m]\u001b[0m,\n",
       "      \u001b[32m\"summary\"\u001b[0m: \u001b[32m\"This chapter details the five core fundamental arguments for being bullish on Intel. These \u001b[0m\n",
       "\u001b[32minclude significant government support to onshore chip manufacturing, aggressive cost-cutting measures under new \u001b[0m\n",
       "\u001b[32mleadership, the growing demand for AI-capable PCs, the strategic expansion into the third-party foundry business to\u001b[0m\n",
       "\u001b[32mcompete globally, and the stock's attractive valuation which suggests a high potential for future returns.\"\u001b[0m\n",
       "    \u001b[1m}\u001b[0m,\n",
       "    \u001b[1m{\u001b[0m\n",
       "      \u001b[32m\"header\"\u001b[0m: \u001b[32m\"Technical Analysis and Entry Strategy\"\u001b[0m,\n",
       "      \u001b[32m\"key_points\"\u001b[0m: \u001b[1m[\u001b[0m\n",
       "        \u001b[32m\"The stock has been in a sideways consolidation phase for about a year, suggesting that most sellers have \u001b[0m\n",
       "\u001b[32malready exited their positions.\"\u001b[0m,\n",
       "        \u001b[32m\"Recent trading volume has been historically high, indicating a 'clean slate' is being created for a \u001b[0m\n",
       "\u001b[32mpotential upward move.\"\u001b[0m,\n",
       "        \u001b[32m\"A key resistance level is identified at $25, where market makers and institutions are likely to sell.\"\u001b[0m,\n",
       "        \u001b[32m\"The recommended entry point is not now, but after the stock breaks out above the recent high of \u001b[0m\n",
       "\u001b[32mapproximately $27.50 on significant volume.\"\u001b[0m\n",
       "      \u001b[1m]\u001b[0m,\n",
       "      \u001b[32m\"summary\"\u001b[0m: \u001b[32m\"The speaker shifts from fundamentals to technical analysis, examining Intel's stock chart. He \u001b[0m\n",
       "\u001b[32mnotes a year-long consolidation period, which he views as a positive sign as it shakes out weak hands. He points \u001b[0m\n",
       "\u001b[32mout a significant resistance level at $25. The core message is to avoid buying prematurely and instead wait for a \u001b[0m\n",
       "\u001b[32mconfirmed breakout above the $27.50 level, supported by high trading volume, as this would signal strong buying \u001b[0m\n",
       "\u001b[32mmomentum and a higher probability of a sustained upward trend.\"\u001b[0m\n",
       "    \u001b[1m}\u001b[0m,\n",
       "    \u001b[1m{\u001b[0m\n",
       "      \u001b[32m\"header\"\u001b[0m: \u001b[32m\"Conclusion and Risk Management\"\u001b[0m,\n",
       "      \u001b[32m\"key_points\"\u001b[0m: \u001b[1m[\u001b[0m\n",
       "        \u001b[32m\"Investors should not blindly buy a stock based on a YouTube video or FOMO \u001b[0m\u001b[32m(\u001b[0m\u001b[32mFear Of Missing Out\u001b[0m\u001b[32m)\u001b[0m\u001b[32m.\"\u001b[0m,\n",
       "        \u001b[32m\"It is crucial to have a personal risk management strategy, including setting stop-losses.\"\u001b[0m,\n",
       "        \u001b[32m\"The provided workbook can help investors develop their own strategy and understand the rules for buying \u001b[0m\n",
       "\u001b[32msuch stocks.\"\u001b[0m\n",
       "      \u001b[1m]\u001b[0m,\n",
       "      \u001b[32m\"summary\"\u001b[0m: \u001b[32m\"The video concludes with a strong caution against impulsive buying. The speaker emphasizes the \u001b[0m\n",
       "\u001b[32mimportance of individual research, establishing a clear risk management plan, and knowing your entry and exit \u001b[0m\n",
       "\u001b[32mpoints. He reiterates that FOMO is a poor reason to invest and encourages viewers to use the supplementary \u001b[0m\n",
       "\u001b[32mmaterials, like the workbook, to make informed decisions.\"\u001b[0m\n",
       "    \u001b[1m}\u001b[0m\n",
       "  \u001b[1m]\u001b[0m,\n",
       "  \u001b[32m\"key_facts\"\u001b[0m: \u001b[1m[\u001b[0m\n",
       "    \u001b[32m\"The stock in focus is Intel \u001b[0m\u001b[32m(\u001b[0m\u001b[32mINTC\u001b[0m\u001b[32m)\u001b[0m\u001b[32m.\"\u001b[0m,\n",
       "    \u001b[32m\"The stock is down approximately 60% from its highs.\"\u001b[0m,\n",
       "    \u001b[32m\"The US government has granted Intel around $7.8 billion to build domestic chip foundries.\"\u001b[0m,\n",
       "    \u001b[32m\"Intel's new leadership is targeting $10 billion in cost savings.\"\u001b[0m,\n",
       "    \u001b[32m\"Intel's new chips are claimed to be 50% cheaper to run than Nvidia's for the same inference output.\"\u001b[0m,\n",
       "    \u001b[32m\"The global third-party foundry market is valued at $80 billion.\"\u001b[0m,\n",
       "    \u001b[32m\"Analysts see a potential for a 3-5x return on Intel stock in the coming years.\"\u001b[0m,\n",
       "    \u001b[32m\"The stock has been in a sideways consolidation pattern for about one year.\"\u001b[0m,\n",
       "    \u001b[32m\"A key technical resistance level for the stock is at $25.\"\u001b[0m,\n",
       "    \u001b[32m\"The proposed entry point is a breakout above the recent high of $27.50.\"\u001b[0m\n",
       "  \u001b[1m]\u001b[0m,\n",
       "  \u001b[32m\"takeaways\"\u001b[0m: \u001b[1m[\u001b[0m\n",
       "    \u001b[32m\"Intel presents a potential turnaround opportunity based on five key fundamental drivers: government support, \u001b[0m\n",
       "\u001b[32mcost-cutting, the AI PC cycle, foundry business expansion, and low valuation.\"\u001b[0m,\n",
       "    \u001b[32m\"Technical analysis is critical for timing an entry. A long consolidation period, like the one Intel is in, can\u001b[0m\n",
       "\u001b[32mprecede a significant breakout.\"\u001b[0m,\n",
       "    \u001b[32m\"Patience is key; instead of buying into the consolidation, a more prudent strategy is to wait for a confirmed \u001b[0m\n",
       "\u001b[32mbreakout above a key resistance level \u001b[0m\u001b[32m(\u001b[0m\u001b[32m$27.50\u001b[0m\u001b[32m)\u001b[0m\u001b[32m on high volume.\"\u001b[0m,\n",
       "    \u001b[32m\"Always conduct your own due diligence and establish a personal risk management plan before investing in any \u001b[0m\n",
       "\u001b[32mstock.\"\u001b[0m,\n",
       "    \u001b[32m\"Institutional buying, as seen in Darkpool data, can be a strong indicator of underlying strength in a stock.\"\u001b[0m\n",
       "  \u001b[1m]\u001b[0m,\n",
       "  \u001b[32m\"overall_summary\"\u001b[0m: \u001b[32m\"The video presents a bullish investment thesis for Intel \u001b[0m\u001b[32m(\u001b[0m\u001b[32mINTC\u001b[0m\u001b[32m)\u001b[0m\u001b[32m, a stock that has fallen \u001b[0m\n",
       "\u001b[32msignificantly from its peak. The speaker outlines five fundamental reasons for optimism: substantial US government \u001b[0m\n",
       "\u001b[32mgrants to bolster domestic chip manufacturing, a new leadership team focused on $10 billion in cost savings, the \u001b[0m\n",
       "\u001b[32mimpending AI-driven PC refresh cycle, a multi-billion dollar investment to build a foundry business to compete with\u001b[0m\n",
       "\u001b[32mTSMC, and a compelling valuation that suggests a potential 3-5x return. The analysis then shifts to the technicals,\u001b[0m\n",
       "\u001b[32mhighlighting a year-long sideways consolidation period which often precedes a major price move. The speaker advises\u001b[0m\n",
       "\u001b[32magainst buying immediately, pointing to a strong resistance level at $25. The recommended strategy is to wait for a\u001b[0m\n",
       "\u001b[32mdecisive breakout above the recent high of $27.50 on strong volume, which would confirm the start of a new uptrend.\u001b[0m\n",
       "\u001b[32mThe video concludes by stressing the importance of personal research, risk management, and avoiding investment \u001b[0m\n",
       "\u001b[32mdecisions based on FOMO.\"\u001b[0m\n",
       "\u001b[1m}\u001b[0m\n"
      ]
     },
     "metadata": {},
     "output_type": "display_data"
    }
   ],
   "source": [
    "import os\n",
    "\n",
    "from dotenv import load_dotenv\n",
    "from google.genai import Client, types\n",
    "from pydantic import BaseModel, Field\n",
    "from rich import print\n",
    "\n",
    "load_dotenv()\n",
    "\n",
    "\n",
    "class Chapter(BaseModel):\n",
    "    header: str = Field(description=\"A descriptive title for the chapter\")\n",
    "    key_points: list[str] = Field(description=\"Important takeaways and insights from this chapter\")\n",
    "    summary: str = Field(description=\"A comprehensive summary of the chapter content\")\n",
    "\n",
    "\n",
    "class Analysis(BaseModel):\n",
    "    title: str = Field(description=\"The main title or topic of the video content\")\n",
    "    chapters: list[Chapter] = Field(description=\"Structured breakdown of content into logical chapters\")\n",
    "    key_facts: list[str] = Field(description=\"Important facts, statistics, or data points mentioned\")\n",
    "    takeaways: list[str] = Field(description=\"Key insights and actionable takeaways for the audience\")\n",
    "    overall_summary: str = Field(description=\"A comprehensive summary synthesizing all chapters, facts, and themes\")\n",
    "\n",
    "\n",
    "client = Client(api_key=os.getenv(\"GEMINI_API_KEY\"))\n",
    "\n",
    "response = client.models.generate_content(\n",
    "    model=\"models/gemini-2.5-pro\",\n",
    "    contents=types.Content(\n",
    "        parts=[types.Part(text=caption)],\n",
    "    ),\n",
    "    config=types.GenerateContentConfig(\n",
    "        temperature=0,\n",
    "        response_mime_type=\"application/json\",\n",
    "        response_schema=Analysis,\n",
    "        thinking_config=types.ThinkingConfig(thinking_budget=2048),\n",
    "    ),\n",
    ")\n",
    "\n",
    "print(response.text)"
   ]
  }
 ],
 "metadata": {
  "kernelspec": {
   "display_name": ".venv",
   "language": "python",
   "name": "python3"
  },
  "language_info": {
   "codemirror_mode": {
    "name": "ipython",
    "version": 3
   },
   "file_extension": ".py",
   "mimetype": "text/x-python",
   "name": "python",
   "nbconvert_exporter": "python",
   "pygments_lexer": "ipython3",
   "version": "3.11.12"
  }
 },
 "nbformat": 4,
 "nbformat_minor": 5
}
